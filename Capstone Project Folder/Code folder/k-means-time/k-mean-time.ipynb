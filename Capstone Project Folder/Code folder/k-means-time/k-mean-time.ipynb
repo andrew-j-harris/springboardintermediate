{
 "cells": [
  {
   "cell_type": "code",
   "execution_count": 1,
   "metadata": {},
   "outputs": [],
   "source": [
    "# Import the required libraries.\n",
    "\n",
    "import matplotlib.pyplot as plt\n",
    "\n",
    "import pandas as pd\n",
    "import numpy as np\n",
    "import datetime as dt\n",
    "import os\n",
    "import scipy.stats\n",
    "from itertools import combinations\n",
    "import gmplot \n",
    "from itertools import combinations\n",
    "\n",
    "from sklearn import manifold\n",
    "from sklearn.metrics.pairwise import haversine_distances\n",
    "from math import radians"
   ]
  },
  {
   "cell_type": "code",
   "execution_count": 2,
   "metadata": {},
   "outputs": [],
   "source": [
    "# Read in the processed csv file created during data wrangling phase of project.\n",
    "\n",
    "dataset=pd.read_csv('C:/Users/andre/Desktop/citibiki-data-tocluster.csv')"
   ]
  },
  {
   "cell_type": "code",
   "execution_count": 3,
   "metadata": {},
   "outputs": [],
   "source": [
    "# Convert the 'starttime' and 'stoptime' columns to datetime format.\n",
    "\n",
    "dataset['starttime'] = dataset.loc[:,'starttime'].apply(lambda x:dt.datetime.strptime(x,'%Y-%m-%d %H:%M:%S.%f'))\n",
    "dataset['stoptime'] = dataset.loc[:,'stoptime'].apply(lambda x:dt.datetime.strptime(x,'%Y-%m-%d %H:%M:%S.%f'))"
   ]
  },
  {
   "cell_type": "code",
   "execution_count": 4,
   "metadata": {},
   "outputs": [],
   "source": [
    "# Create a list of unique stations.\n",
    "\n",
    "stations=dataset[['start station id','start station latitude','start station longitude']].copy()\n",
    "stations.drop_duplicates(inplace=True)\n",
    "stations.sort_values('start station id', ascending=True, inplace=True)\n",
    "stations.reset_index(inplace=True)\n",
    "stations.drop('index',axis=1,inplace=True)"
   ]
  },
  {
   "cell_type": "code",
   "execution_count": 5,
   "metadata": {},
   "outputs": [],
   "source": [
    "# Create the coordinate list in radians \n",
    "\n",
    "xcoord=list(stations['start station latitude'])\n",
    "ycoord=list(stations['start station longitude'])\n",
    "\n",
    "xcoord_rad=[None]*822\n",
    "ycoord_rad=[None]*822\n",
    "coord_rad=[None]*822\n",
    "\n",
    "for i in range(822):\n",
    "    xcoord_rad[i]=radians(xcoord[i])\n",
    "    ycoord_rad[i]=radians(ycoord[i])\n",
    "\n",
    "for i in range(822):\n",
    "    coord_rad[i]=[xcoord_rad[i],ycoord_rad[i]]"
   ]
  },
  {
   "cell_type": "code",
   "execution_count": 6,
   "metadata": {},
   "outputs": [],
   "source": [
    "# Calculate pairwise Haversine distances and convert the distances to kilometers.\n",
    "\n",
    "similarities=haversine_distances(coord_rad)\n",
    "similarities=similarities * 6371000/1000  "
   ]
  },
  {
   "cell_type": "code",
   "execution_count": 7,
   "metadata": {},
   "outputs": [],
   "source": [
    "# Multi-dimensional scaling to reduce the latitiude and longitude pairs for each station to one dimension.\n",
    "\n",
    "mds= manifold.MDS(n_components=1, dissimilarity=\"precomputed\")\n",
    "\n",
    "pos = mds.fit(similarities).embedding_"
   ]
  },
  {
   "cell_type": "code",
   "execution_count": 8,
   "metadata": {},
   "outputs": [],
   "source": [
    "# Normalize the station numbers and create a dictionary to use to assign these numbers to the dataset.\n",
    "\n",
    "normalized = (pos-min(pos))/(max(pos)-min(pos))\n",
    "normalized=pd.DataFrame(normalized)\n",
    "stations['normalized']=normalized\n",
    "normdict=stations[['start station id','normalized']].copy()\n",
    "normdict=normdict.set_index('start station id')\n",
    "normdict=normdict['normalized'].rename('start station id')\n",
    "normdict=normdict.to_dict()"
   ]
  },
  {
   "cell_type": "code",
   "execution_count": 9,
   "metadata": {},
   "outputs": [],
   "source": [
    "# Generate the data set for k-means clustering.\n",
    "\n",
    "cdata=dataset[['start station id','end station id','starttime','stoptime','usertype','gender','age']].copy()"
   ]
  },
  {
   "cell_type": "code",
   "execution_count": 10,
   "metadata": {},
   "outputs": [],
   "source": [
    "# Convert timestamps in 'starttime' and 'stoptime' to time of day in '%H:%M:%S' format.\n",
    "\n",
    "cdata['start']=cdata['starttime'].dt.strftime(\"%H:%M:%S\")\n",
    "\n",
    "cdata['end']=cdata['stoptime'].dt.strftime(\"%H:%M:%S\")\n",
    "\n",
    "cdata['start'] = cdata.loc[:,'start'].apply(lambda x:dt.datetime.strptime(x,'%H:%M:%S'))\n",
    "cdata['end'] = cdata.loc[:,'end'].apply(lambda x:dt.datetime.strptime(x,'%H:%M:%S'))\n",
    "\n",
    "cdata.drop('starttime',axis=1,inplace=True)\n",
    "cdata.drop('stoptime',axis=1,inplace=True)"
   ]
  },
  {
   "cell_type": "code",
   "execution_count": 11,
   "metadata": {},
   "outputs": [],
   "source": [
    "# Convert 'start' and 'end' to seconds and then convert to 2-component sine and cosine representation. \n",
    "\n",
    "cdata['start']=cdata['start'].dt.hour*3600+cdata['start'].dt.minute*60+cdata['start'].dt.second\n",
    "cdata['end']=cdata['end'].dt.hour*3600+cdata['end'].dt.minute*60+cdata['end'].dt.second\n",
    "\n",
    "cdata['sin_start']=np.sin(2*np.pi*cdata['start']/(60*24*60))\n",
    "cdata['cos_start']=np.cos(2*np.pi*cdata['start']/(60*24*60))\n",
    "\n",
    "cdata['sin_end']=np.sin(2*np.pi*cdata['end']/(60*24*60))\n",
    "cdata['cos_end']=np.cos(2*np.pi*cdata['end']/(60*24*60))\n",
    "\n",
    "cdata.drop('start',axis=1,inplace=True)\n",
    "cdata.drop('end',axis=1,inplace=True)"
   ]
  },
  {
   "cell_type": "code",
   "execution_count": 12,
   "metadata": {},
   "outputs": [],
   "source": [
    "# Normalize the 'age' data.\n",
    "\n",
    "cdata['age'] = (cdata['age']-min(cdata['age']))/(max(cdata['age'])-min(cdata['age']))"
   ]
  },
  {
   "cell_type": "code",
   "execution_count": 13,
   "metadata": {},
   "outputs": [],
   "source": [
    "# Replace the 'start station id' and 'end station id' with the station location numbers obtained from MDS.\n",
    "\n",
    "cdata['start station id']=cdata['start station id'].replace(to_replace = normdict, value=None)\n",
    "cdata['end station id']=cdata['end station id'].replace(to_replace = normdict, value=None)"
   ]
  },
  {
   "cell_type": "code",
   "execution_count": 14,
   "metadata": {},
   "outputs": [],
   "source": [
    "# Replace 'subscriber' with 1 and 'customer' with 0 in 'usertype' column.\n",
    "\n",
    "utdict={'Subscriber':1,'Customer':0}\n",
    "cdata['usertype']= cdata['usertype'].replace(to_replace = utdict, value=None)"
   ]
  },
  {
   "cell_type": "code",
   "execution_count": 15,
   "metadata": {},
   "outputs": [],
   "source": [
    "# Set 'male' to 0 and 'female' to 1 in 'gender' column.\n",
    "\n",
    "cdata['gender']=cdata['gender']-1"
   ]
  },
  {
   "cell_type": "code",
   "execution_count": 16,
   "metadata": {},
   "outputs": [],
   "source": [
    "# rename 'station id' columns to reflect change to mds scaling\n",
    "\n",
    "cdata.rename(columns={'start station id':'start station mds','end station id':'end station mds'}, inplace=True)"
   ]
  },
  {
   "cell_type": "code",
   "execution_count": 17,
   "metadata": {},
   "outputs": [],
   "source": [
    "# Normalize the time component data.\n",
    "\n",
    "cdata['sin_start'] = (cdata['sin_start']-min(cdata['sin_start']))/(max(cdata['sin_start'])-min(cdata['sin_start']))\n",
    "cdata['cos_start'] = (cdata['cos_start']-min(cdata['cos_start']))/(max(cdata['cos_start'])-min(cdata['cos_start']))\n",
    "cdata['sin_end'] = (cdata['sin_end']-min(cdata['sin_end']))/(max(cdata['sin_end'])-min(cdata['sin_end']))\n",
    "cdata['cos_end'] = (cdata['cos_end']-min(cdata['cos_end']))/(max(cdata['cos_end'])-min(cdata['cos_end']))"
   ]
  },
  {
   "cell_type": "code",
   "execution_count": 18,
   "metadata": {},
   "outputs": [
    {
     "data": {
      "text/html": [
       "<div>\n",
       "<style scoped>\n",
       "    .dataframe tbody tr th:only-of-type {\n",
       "        vertical-align: middle;\n",
       "    }\n",
       "\n",
       "    .dataframe tbody tr th {\n",
       "        vertical-align: top;\n",
       "    }\n",
       "\n",
       "    .dataframe thead th {\n",
       "        text-align: right;\n",
       "    }\n",
       "</style>\n",
       "<table border=\"1\" class=\"dataframe\">\n",
       "  <thead>\n",
       "    <tr style=\"text-align: right;\">\n",
       "      <th></th>\n",
       "      <th>start station mds</th>\n",
       "      <th>end station mds</th>\n",
       "      <th>usertype</th>\n",
       "      <th>gender</th>\n",
       "      <th>age</th>\n",
       "      <th>sin_start</th>\n",
       "      <th>cos_start</th>\n",
       "      <th>sin_end</th>\n",
       "      <th>cos_end</th>\n",
       "    </tr>\n",
       "  </thead>\n",
       "  <tbody>\n",
       "    <tr>\n",
       "      <th>0</th>\n",
       "      <td>0.213261</td>\n",
       "      <td>0.151775</td>\n",
       "      <td>1</td>\n",
       "      <td>0</td>\n",
       "      <td>0.500000</td>\n",
       "      <td>0.503891</td>\n",
       "      <td>0.999985</td>\n",
       "      <td>0.515524</td>\n",
       "      <td>0.999759</td>\n",
       "    </tr>\n",
       "    <tr>\n",
       "      <th>1</th>\n",
       "      <td>0.367369</td>\n",
       "      <td>0.383536</td>\n",
       "      <td>1</td>\n",
       "      <td>0</td>\n",
       "      <td>0.609375</td>\n",
       "      <td>0.510289</td>\n",
       "      <td>0.999894</td>\n",
       "      <td>0.521810</td>\n",
       "      <td>0.999524</td>\n",
       "    </tr>\n",
       "    <tr>\n",
       "      <th>2</th>\n",
       "      <td>0.172045</td>\n",
       "      <td>0.232660</td>\n",
       "      <td>1</td>\n",
       "      <td>0</td>\n",
       "      <td>0.250000</td>\n",
       "      <td>0.513198</td>\n",
       "      <td>0.999826</td>\n",
       "      <td>0.534697</td>\n",
       "      <td>0.998795</td>\n",
       "    </tr>\n",
       "    <tr>\n",
       "      <th>3</th>\n",
       "      <td>0.470704</td>\n",
       "      <td>0.445795</td>\n",
       "      <td>1</td>\n",
       "      <td>0</td>\n",
       "      <td>0.203125</td>\n",
       "      <td>0.515378</td>\n",
       "      <td>0.999763</td>\n",
       "      <td>0.613255</td>\n",
       "      <td>0.987004</td>\n",
       "    </tr>\n",
       "    <tr>\n",
       "      <th>4</th>\n",
       "      <td>0.496578</td>\n",
       "      <td>0.442248</td>\n",
       "      <td>1</td>\n",
       "      <td>0</td>\n",
       "      <td>0.375000</td>\n",
       "      <td>0.516541</td>\n",
       "      <td>0.999726</td>\n",
       "      <td>0.527584</td>\n",
       "      <td>0.999239</td>\n",
       "    </tr>\n",
       "    <tr>\n",
       "      <th>5</th>\n",
       "      <td>0.936846</td>\n",
       "      <td>0.987395</td>\n",
       "      <td>1</td>\n",
       "      <td>1</td>\n",
       "      <td>0.218750</td>\n",
       "      <td>0.518649</td>\n",
       "      <td>0.999652</td>\n",
       "      <td>0.538069</td>\n",
       "      <td>0.998549</td>\n",
       "    </tr>\n",
       "    <tr>\n",
       "      <th>6</th>\n",
       "      <td>0.156725</td>\n",
       "      <td>0.190668</td>\n",
       "      <td>1</td>\n",
       "      <td>0</td>\n",
       "      <td>0.250000</td>\n",
       "      <td>0.520393</td>\n",
       "      <td>0.999584</td>\n",
       "      <td>0.530561</td>\n",
       "      <td>0.999065</td>\n",
       "    </tr>\n",
       "    <tr>\n",
       "      <th>7</th>\n",
       "      <td>0.461566</td>\n",
       "      <td>0.816882</td>\n",
       "      <td>1</td>\n",
       "      <td>0</td>\n",
       "      <td>0.343750</td>\n",
       "      <td>0.524788</td>\n",
       "      <td>0.999385</td>\n",
       "      <td>0.580730</td>\n",
       "      <td>0.993440</td>\n",
       "    </tr>\n",
       "    <tr>\n",
       "      <th>8</th>\n",
       "      <td>0.822011</td>\n",
       "      <td>0.818685</td>\n",
       "      <td>1</td>\n",
       "      <td>1</td>\n",
       "      <td>0.203125</td>\n",
       "      <td>0.526785</td>\n",
       "      <td>0.999282</td>\n",
       "      <td>0.537707</td>\n",
       "      <td>0.998576</td>\n",
       "    </tr>\n",
       "    <tr>\n",
       "      <th>9</th>\n",
       "      <td>0.501758</td>\n",
       "      <td>0.518781</td>\n",
       "      <td>1</td>\n",
       "      <td>0</td>\n",
       "      <td>0.250000</td>\n",
       "      <td>0.526858</td>\n",
       "      <td>0.999278</td>\n",
       "      <td>0.531359</td>\n",
       "      <td>0.999016</td>\n",
       "    </tr>\n",
       "  </tbody>\n",
       "</table>\n",
       "</div>"
      ],
      "text/plain": [
       "   start station mds  end station mds  usertype  gender       age  sin_start  \\\n",
       "0           0.213261         0.151775         1       0  0.500000   0.503891   \n",
       "1           0.367369         0.383536         1       0  0.609375   0.510289   \n",
       "2           0.172045         0.232660         1       0  0.250000   0.513198   \n",
       "3           0.470704         0.445795         1       0  0.203125   0.515378   \n",
       "4           0.496578         0.442248         1       0  0.375000   0.516541   \n",
       "5           0.936846         0.987395         1       1  0.218750   0.518649   \n",
       "6           0.156725         0.190668         1       0  0.250000   0.520393   \n",
       "7           0.461566         0.816882         1       0  0.343750   0.524788   \n",
       "8           0.822011         0.818685         1       1  0.203125   0.526785   \n",
       "9           0.501758         0.518781         1       0  0.250000   0.526858   \n",
       "\n",
       "   cos_start   sin_end   cos_end  \n",
       "0   0.999985  0.515524  0.999759  \n",
       "1   0.999894  0.521810  0.999524  \n",
       "2   0.999826  0.534697  0.998795  \n",
       "3   0.999763  0.613255  0.987004  \n",
       "4   0.999726  0.527584  0.999239  \n",
       "5   0.999652  0.538069  0.998549  \n",
       "6   0.999584  0.530561  0.999065  \n",
       "7   0.999385  0.580730  0.993440  \n",
       "8   0.999282  0.537707  0.998576  \n",
       "9   0.999278  0.531359  0.999016  "
      ]
     },
     "execution_count": 18,
     "metadata": {},
     "output_type": "execute_result"
    }
   ],
   "source": [
    "cdata.head(10)"
   ]
  },
  {
   "cell_type": "code",
   "execution_count": 19,
   "metadata": {},
   "outputs": [
    {
     "name": "stderr",
     "output_type": "stream",
     "text": [
      "C:\\Users\\andre\\Anaconda3\\lib\\site-packages\\ipykernel_launcher.py:3: FutureWarning: Method .as_matrix will be removed in a future version. Use .values instead.\n",
      "  This is separate from the ipykernel package so we can avoid doing imports until\n"
     ]
    },
    {
     "name": "stdout",
     "output_type": "stream",
     "text": [
      "(8343761, 9)\n",
      "(8343761, 9)\n"
     ]
    }
   ],
   "source": [
    "# Convert data set from a data frame to a matrix.\n",
    "\n",
    "x_cols = cdata.as_matrix()\n",
    "x_cols = np.nan_to_num(x_cols)\n",
    "print(x_cols.shape)\n",
    "print(cdata.shape)"
   ]
  },
  {
   "cell_type": "code",
   "execution_count": 24,
   "metadata": {
    "scrolled": true
   },
   "outputs": [
    {
     "data": {
      "image/png": "[encoded data removed]",
      "text/plain": [
       "<Figure size 432x288 with 1 Axes>"
      ]
     },
     "metadata": {
      "needs_background": "light"
     },
     "output_type": "display_data"
    }
   ],
   "source": [
    "# K-Means Clustering for k = 2 to k = 12.\n",
    "\n",
    "from sklearn.cluster import KMeans\n",
    "\n",
    "k = [2,3,4,5,6,7,8,9,10,11,12]\n",
    "assignment = np.zeros(shape=(11,8343761)) \n",
    "SS = np.zeros(shape=(11,1))\n",
    "\n",
    "for i,b in enumerate(k):\n",
    "    \n",
    "    clusterer = KMeans(n_clusters=b, random_state=0)    \n",
    "    cluster_labels = clusterer.fit_predict(x_cols)      \n",
    "    assignment[i] = cluster_labels  \n",
    "    SS[i] = clusterer.inertia_\n",
    "    \n",
    "    cluster=pd.DataFrame(assignment[i])\n",
    "    cluster.columns=['cluster']\n",
    "    cluster.to_csv('C:/Users/andre/Desktop/clusteredtime1/citibiki-20cluster-time{:.0f}.csv'.format(b), index=None)\n",
    "\n",
    "    \n",
    "plt.plot(k,SS)\n",
    "plt.xlabel('K Value')\n",
    "plt.ylabel('SS Value')\n",
    "plt.show()"
   ]
  },
  {
   "cell_type": "code",
   "execution_count": 20,
   "metadata": {},
   "outputs": [],
   "source": [
    "# SS   array([[4299496.48604893],\n",
    "#       [3246852.17949386],\n",
    "#       [2782319.09118183],\n",
    "#       [2268683.48577036],\n",
    "#       [1987595.44614007],\n",
    "#       [1756947.03008148],\n",
    "#       [1624281.1973039 ],\n",
    "#       [1500621.7527961 ],\n",
    "#       [1438904.7098616 ],\n",
    "#       [1343963.44129468],\n",
    "#       [1278474.09293443]])"
   ]
  },
  {
   "cell_type": "code",
   "execution_count": 24,
   "metadata": {
    "scrolled": true
   },
   "outputs": [
    {
     "data": {
      "image/png": "[encoded data removed]",
      "text/plain": [
       "<Figure size 432x288 with 1 Axes>"
      ]
     },
     "metadata": {
      "needs_background": "light"
     },
     "output_type": "display_data"
    }
   ],
   "source": [
    "# K-Means Clustering for k = 13 to K = 20.\n",
    "\n",
    "k = [13,14,15,16,17,18,19,20]\n",
    "assignment = np.zeros(shape=(8,8343761)) \n",
    "SS = np.zeros(shape=(8,1))\n",
    "\n",
    "for i,b in enumerate(k):\n",
    "    \n",
    "    clusterer = KMeans(n_clusters=b, random_state=0)    \n",
    "    cluster_labels = clusterer.fit_predict(x_cols)      \n",
    "    assignment[i] = cluster_labels  \n",
    "    SS[i] = clusterer.inertia_\n",
    "    \n",
    "    cluster=pd.DataFrame(assignment[i])\n",
    "    cluster.columns=['cluster']\n",
    "    cluster.to_csv('C:/Users/andre/Desktop/clusteredtime1/citibiki-20cluster-time{:.0f}.csv'.format(b), index=None)\n",
    "    \n",
    "    ssvalue=pd.DataFrame(SS[i])\n",
    "    ssvalue.columns=['ssvalue'] \n",
    "    ssvalue.to_csv('C:/Users/andre/Desktop/clusteredtime1/ssvalue{:.0f}.csv'.format(b), index=None)\n",
    "    \n",
    "plt.plot(k,SS)\n",
    "plt.xlabel('K Value')\n",
    "plt.ylabel('SS Value')\n",
    "plt.show()"
   ]
  },
  {
   "cell_type": "code",
   "execution_count": 21,
   "metadata": {
    "scrolled": false
   },
   "outputs": [],
   "source": [
    "#SS   array([[1214052.22719098],\n",
    "#       [1151812.8248686 ],\n",
    "#       [1107307.15952047],\n",
    "#       [1072014.06132739],\n",
    "#       [1039251.35390012],\n",
    "#       [1006537.10330636],\n",
    "#       [ 976775.52557917],\n",
    "#       [ 944770.7154258 ]])"
   ]
  },
  {
   "cell_type": "code",
   "execution_count": 22,
   "metadata": {},
   "outputs": [],
   "source": [
    "SSfull =[4299496.48604893, 3246852.17949386, 2782319.09118183, 2268683.48577036, 1987595.44614007, 1756947.03008148, 1624281.1973039, \\\n",
    "1500621.7527961, 1438904.7098616, 1343963.44129468, 1278474.09293443, \\\n",
    "1214052.22719098, 1151812.8248686,1107307.15952047,1072014.06132739,1039251.35390012, 1006537.10330636, 976775.52557917, \\\n",
    "944770.7154258]"
   ]
  },
  {
   "cell_type": "code",
   "execution_count": 23,
   "metadata": {
    "scrolled": true
   },
   "outputs": [
    {
     "data": {
      "image/png": "[encoded data removed]",
      "text/plain": [
       "<Figure size 432x288 with 1 Axes>"
      ]
     },
     "metadata": {
      "needs_background": "light"
     },
     "output_type": "display_data"
    }
   ],
   "source": [
    "# SS plot for k =2 to k = 20.\n",
    "\n",
    "kfull = [2,3,4,5,6,7,8,9,10,11,12,13,14,15,16,17,18,19,20]\n",
    "\n",
    "plt.plot(kfull,SSfull)\n",
    "plt.xlabel('K Value')\n",
    "plt.ylabel('SS Value')\n",
    "plt.show()"
   ]
  },
  {
   "cell_type": "code",
   "execution_count": 24,
   "metadata": {},
   "outputs": [],
   "source": [
    "# clustering assignments were saved to .csv files as clustering from k=2 to k=20 takes over 14 hours hours and cannot be repeated\n",
    "# every time the notebook is reset. This code reads the .csv files and assigns them to data frames.\n",
    "\n",
    "cdata2=pd.read_csv('C:/Users/andre/Desktop/clusteredtime1/citibiki-20cluster-time2.csv')\n",
    "cdata3=pd.read_csv('C:/Users/andre/Desktop/clusteredtime1/citibiki-20cluster-time3.csv')\n",
    "cdata4=pd.read_csv('C:/Users/andre/Desktop/clusteredtime1/citibiki-20cluster-time4.csv')\n",
    "cdata5=pd.read_csv('C:/Users/andre/Desktop/clusteredtime1/citibiki-20cluster-time5.csv')\n",
    "cdata6=pd.read_csv('C:/Users/andre/Desktop/clusteredtime1/citibiki-20cluster-time6.csv')\n",
    "cdata7=pd.read_csv('C:/Users/andre/Desktop/clusteredtime1/citibiki-20cluster-time7.csv')\n",
    "cdata8=pd.read_csv('C:/Users/andre/Desktop/clusteredtime1/citibiki-20cluster-time8.csv')\n",
    "cdata9=pd.read_csv('C:/Users/andre/Desktop/clusteredtime1/citibiki-20cluster-time9.csv')\n",
    "cdata10=pd.read_csv('C:/Users/andre/Desktop/clusteredtime1/citibiki-20cluster-time10.csv')\n",
    "\n",
    "cdata11=pd.read_csv('C:/Users/andre/Desktop/clusteredtime1/citibiki-20cluster-time11.csv')\n",
    "cdata12=pd.read_csv('C:/Users/andre/Desktop/clusteredtime1/citibiki-20cluster-time12.csv')\n",
    "cdata13=pd.read_csv('C:/Users/andre/Desktop/clusteredtime1/citibiki-20cluster-time13.csv')\n",
    "cdata14=pd.read_csv('C:/Users/andre/Desktop/clusteredtime1/citibiki-20cluster-time14.csv')\n",
    "cdata15=pd.read_csv('C:/Users/andre/Desktop/clusteredtime1/citibiki-20cluster-time15.csv')\n",
    "cdata16=pd.read_csv('C:/Users/andre/Desktop/clusteredtime1/citibiki-20cluster-time16.csv')\n",
    "cdata17=pd.read_csv('C:/Users/andre/Desktop/clusteredtime1/citibiki-20cluster-time17.csv')\n",
    "cdata18=pd.read_csv('C:/Users/andre/Desktop/clusteredtime1/citibiki-20cluster-time18.csv')\n",
    "cdata19=pd.read_csv('C:/Users/andre/Desktop/clusteredtime1/citibiki-20cluster-time19.csv')\n",
    "cdata20=pd.read_csv('C:/Users/andre/Desktop/clusteredtime1/citibiki-20cluster-time20.csv')"
   ]
  },
  {
   "cell_type": "code",
   "execution_count": 25,
   "metadata": {},
   "outputs": [],
   "source": [
    "# Re-create a data set that the cluster assignments for concatenation with the k-means cluster assignments.\n",
    "\n",
    "cdata=dataset[['start station id','end station id','starttime','stoptime','usertype','gender','age']].copy()\n",
    "\n",
    "cdata['start']=cdata['starttime'].dt.strftime(\"%H:%M:%S\")\n",
    "cdata['end']=cdata['stoptime'].dt.strftime(\"%H:%M:%S\")\n",
    "\n",
    "cdata['start'] = cdata.loc[:,'start'].apply(lambda x:dt.datetime.strptime(x,'%H:%M:%S').time())\n",
    "cdata['end'] = cdata.loc[:,'end'].apply(lambda x:dt.datetime.strptime(x,'%H:%M:%S').time())\n",
    "\n",
    "cdata['trip']=cdata['start station id'].map(str) +\" to \" + cdata['end station id'].map(str)"
   ]
  },
  {
   "cell_type": "code",
   "execution_count": 26,
   "metadata": {},
   "outputs": [],
   "source": [
    "# merge clustering data frame with cluster assignments obtained from k-means clustering.\n",
    "\n",
    "cdata2=pd.concat([cdata,cdata2], axis=1)\n",
    "cdata3=pd.concat([cdata,cdata3], axis=1)\n",
    "cdata4=pd.concat([cdata,cdata4], axis=1)\n",
    "cdata5=pd.concat([cdata,cdata5], axis=1)\n",
    "cdata6=pd.concat([cdata,cdata6], axis=1)\n",
    "cdata7=pd.concat([cdata,cdata7], axis=1)\n",
    "cdata8=pd.concat([cdata,cdata8], axis=1)\n",
    "cdata9=pd.concat([cdata,cdata9], axis=1)\n",
    "cdata10=pd.concat([cdata,cdata10], axis=1)\n",
    "\n",
    "cdata11=pd.concat([cdata,cdata11], axis=1)\n",
    "cdata12=pd.concat([cdata,cdata12], axis=1)\n",
    "cdata13=pd.concat([cdata,cdata13], axis=1)\n",
    "cdata14=pd.concat([cdata,cdata14], axis=1)\n",
    "cdata15=pd.concat([cdata,cdata15], axis=1)\n",
    "cdata16=pd.concat([cdata,cdata16], axis=1)\n",
    "cdata17=pd.concat([cdata,cdata17], axis=1)\n",
    "cdata18=pd.concat([cdata,cdata18], axis=1)\n",
    "cdata19=pd.concat([cdata,cdata19], axis=1)\n",
    "cdata20=pd.concat([cdata,cdata20], axis=1)"
   ]
  },
  {
   "cell_type": "code",
   "execution_count": 27,
   "metadata": {},
   "outputs": [
    {
     "data": {
      "text/html": [
       "<div>\n",
       "<style scoped>\n",
       "    .dataframe tbody tr th:only-of-type {\n",
       "        vertical-align: middle;\n",
       "    }\n",
       "\n",
       "    .dataframe tbody tr th {\n",
       "        vertical-align: top;\n",
       "    }\n",
       "\n",
       "    .dataframe thead th {\n",
       "        text-align: right;\n",
       "    }\n",
       "</style>\n",
       "<table border=\"1\" class=\"dataframe\">\n",
       "  <thead>\n",
       "    <tr style=\"text-align: right;\">\n",
       "      <th></th>\n",
       "      <th>start station id</th>\n",
       "      <th>end station id</th>\n",
       "      <th>starttime</th>\n",
       "      <th>stoptime</th>\n",
       "      <th>usertype</th>\n",
       "      <th>gender</th>\n",
       "      <th>age</th>\n",
       "      <th>start</th>\n",
       "      <th>end</th>\n",
       "      <th>trip</th>\n",
       "      <th>cluster</th>\n",
       "    </tr>\n",
       "  </thead>\n",
       "  <tbody>\n",
       "    <tr>\n",
       "      <th>0</th>\n",
       "      <td>3160.0</td>\n",
       "      <td>3283.0</td>\n",
       "      <td>2019-01-01 00:01:47.401</td>\n",
       "      <td>2019-01-01 00:07:07.581</td>\n",
       "      <td>Subscriber</td>\n",
       "      <td>1</td>\n",
       "      <td>48</td>\n",
       "      <td>00:01:47</td>\n",
       "      <td>00:07:07</td>\n",
       "      <td>3160.0 to 3283.0</td>\n",
       "      <td>0.0</td>\n",
       "    </tr>\n",
       "    <tr>\n",
       "      <th>1</th>\n",
       "      <td>519.0</td>\n",
       "      <td>518.0</td>\n",
       "      <td>2019-01-01 00:04:43.736</td>\n",
       "      <td>2019-01-01 00:10:00.608</td>\n",
       "      <td>Subscriber</td>\n",
       "      <td>1</td>\n",
       "      <td>55</td>\n",
       "      <td>00:04:43</td>\n",
       "      <td>00:10:00</td>\n",
       "      <td>519.0 to 518.0</td>\n",
       "      <td>0.0</td>\n",
       "    </tr>\n",
       "    <tr>\n",
       "      <th>2</th>\n",
       "      <td>3171.0</td>\n",
       "      <td>3154.0</td>\n",
       "      <td>2019-01-01 00:06:03.997</td>\n",
       "      <td>2019-01-01 00:15:55.438</td>\n",
       "      <td>Subscriber</td>\n",
       "      <td>1</td>\n",
       "      <td>32</td>\n",
       "      <td>00:06:03</td>\n",
       "      <td>00:15:55</td>\n",
       "      <td>3171.0 to 3154.0</td>\n",
       "      <td>0.0</td>\n",
       "    </tr>\n",
       "    <tr>\n",
       "      <th>3</th>\n",
       "      <td>504.0</td>\n",
       "      <td>3709.0</td>\n",
       "      <td>2019-01-01 00:07:03.545</td>\n",
       "      <td>2019-01-01 00:52:22.650</td>\n",
       "      <td>Subscriber</td>\n",
       "      <td>1</td>\n",
       "      <td>29</td>\n",
       "      <td>00:07:03</td>\n",
       "      <td>00:52:22</td>\n",
       "      <td>504.0 to 3709.0</td>\n",
       "      <td>0.0</td>\n",
       "    </tr>\n",
       "    <tr>\n",
       "      <th>4</th>\n",
       "      <td>229.0</td>\n",
       "      <td>503.0</td>\n",
       "      <td>2019-01-01 00:07:35.945</td>\n",
       "      <td>2019-01-01 00:12:39.502</td>\n",
       "      <td>Subscriber</td>\n",
       "      <td>1</td>\n",
       "      <td>40</td>\n",
       "      <td>00:07:35</td>\n",
       "      <td>00:12:39</td>\n",
       "      <td>229.0 to 503.0</td>\n",
       "      <td>0.0</td>\n",
       "    </tr>\n",
       "  </tbody>\n",
       "</table>\n",
       "</div>"
      ],
      "text/plain": [
       "   start station id  end station id               starttime  \\\n",
       "0            3160.0          3283.0 2019-01-01 00:01:47.401   \n",
       "1             519.0           518.0 2019-01-01 00:04:43.736   \n",
       "2            3171.0          3154.0 2019-01-01 00:06:03.997   \n",
       "3             504.0          3709.0 2019-01-01 00:07:03.545   \n",
       "4             229.0           503.0 2019-01-01 00:07:35.945   \n",
       "\n",
       "                 stoptime    usertype  gender  age     start       end  \\\n",
       "0 2019-01-01 00:07:07.581  Subscriber       1   48  00:01:47  00:07:07   \n",
       "1 2019-01-01 00:10:00.608  Subscriber       1   55  00:04:43  00:10:00   \n",
       "2 2019-01-01 00:15:55.438  Subscriber       1   32  00:06:03  00:15:55   \n",
       "3 2019-01-01 00:52:22.650  Subscriber       1   29  00:07:03  00:52:22   \n",
       "4 2019-01-01 00:12:39.502  Subscriber       1   40  00:07:35  00:12:39   \n",
       "\n",
       "               trip  cluster  \n",
       "0  3160.0 to 3283.0      0.0  \n",
       "1    519.0 to 518.0      0.0  \n",
       "2  3171.0 to 3154.0      0.0  \n",
       "3   504.0 to 3709.0      0.0  \n",
       "4    229.0 to 503.0      0.0  "
      ]
     },
     "execution_count": 27,
     "metadata": {},
     "output_type": "execute_result"
    }
   ],
   "source": [
    "cdata2.head(5)"
   ]
  },
  {
   "cell_type": "code",
   "execution_count": 28,
   "metadata": {},
   "outputs": [],
   "source": [
    "# Cluster Describe Function - Provides description of the clusters that have been produced for a given k value.\n",
    "\n",
    "def clusterdescribe(k,df):\n",
    "    \n",
    "    n=list(range(k))                 \n",
    "\n",
    "    for i,b in enumerate(n):\n",
    "        \n",
    "        cluster=df[df['cluster']==b]   \n",
    "    \n",
    "        cluster1=cluster['age'].describe()\n",
    "        cluster1=pd.DataFrame(cluster1)\n",
    "        print('\\nCluster Number {}.'.format(b))\n",
    "        print('minimum age is {:.1f}.'.format(cluster1.loc['min','age']))\n",
    "        print('mean age is {:.1f}.'.format(cluster1.loc['mean','age']))\n",
    "        print('maximum age is {:.1f}.\\n'.format(cluster1.loc['max','age']))\n",
    "        \n",
    "        minSTART=min(cluster['start'])\n",
    "        maxSTART=max(cluster['start'])\n",
    "        print('minimum start time is {}.'.format(minSTART))\n",
    "        print('maximum start time is {}.\\n'.format(maxSTART))\n",
    "        \n",
    "        minEND=min(cluster['end'])\n",
    "        maxEND=max(cluster['end'])\n",
    "        print('minimum end time is {}.'.format(minEND))\n",
    "        print('maximum end time is {}.\\n'.format(maxEND))\n",
    "                \n",
    "    \n",
    "        cluster1=cluster['gender'].value_counts()\n",
    "        cluster1=pd.DataFrame(cluster1)\n",
    "        cluster1.reset_index(inplace=True)\n",
    "        cluster1.columns=['gender','count']\n",
    "        tempdict={1:'males',2:'females'}\n",
    "        cluster1['gender']= cluster1['gender'].replace(to_replace = tempdict, value=None)\n",
    "        for index, row in cluster1.iterrows():\n",
    "            print('the number of {} is {}.'.format(row['gender'],row['count']))\n",
    "        \n",
    "        cluster1=cluster['usertype'].value_counts()\n",
    "        cluster1=pd.DataFrame(cluster1)\n",
    "        cluster1.reset_index(inplace=True)\n",
    "        cluster1.columns=['usertype','count']\n",
    "        for index, row in cluster1.iterrows():\n",
    "            print('the number of {} is {}.'.format(row['usertype'],row['count']))\n",
    "        \n",
    "    return()"
   ]
  },
  {
   "cell_type": "code",
   "execution_count": 29,
   "metadata": {},
   "outputs": [],
   "source": [
    "# Trip Frequency Analysis Function.\n",
    "\n",
    "# This function is used to count the number of times each trip was taken in a specified data set.\n",
    "\n",
    "def tripfreq(df):\n",
    "        \n",
    "    # Create the 'trip' column with the format: 'start station id' ' to ' 'end station id'. \n",
    "    \n",
    "    df1=df.copy()\n",
    "    \n",
    "   # Calculate how many times each trip was taken ('frequency') and sort by decreasing trip frequency. \n",
    "    \n",
    "    freq=df1['trip'].value_counts()\n",
    "    freq=pd.DataFrame(freq)\n",
    "    freq=freq.reset_index()\n",
    "    freq.columns=['trip', 'frequency']\n",
    "    freq.sort_values('frequency',ascending=False,inplace=True)\n",
    "    freq=freq.reset_index()\n",
    "    freq=freq.drop('index', axis=1) \n",
    "    \n",
    "    return(freq)\n"
   ]
  },
  {
   "cell_type": "code",
   "execution_count": 30,
   "metadata": {},
   "outputs": [],
   "source": [
    "# Trip Frequency Mapping Function.\n",
    "\n",
    "# Input: 1. freqanalysis - the data frame generated by the \"Trip Frequency Analysis Function\".\n",
    "#        2. df - a data frame with the same format and columns as the 'dataset' data frame created during data wrangling.\n",
    "#        3. F - the trip frequency cut off point. Only trips with a frequency greater than or equal to 'F' will be plotted. \n",
    "#        4. X - File name string for the map that this function will generate.\n",
    "#\n",
    "# Output: Creates a html file containing a map of New York City with the trips plotted as follows:  \n",
    "#         -Stations that are only start stations are plotted as pink circles.\n",
    "#         -Stations that are only end stations are plotted as cyan circles\n",
    "#         -Stations that are both end stations and start stations are plotted as purple circles.\n",
    "#         -A blue line is drawn from the start station to the end station to show where a trip begins and ends.      \n",
    "\n",
    "def tripfreqmap(freqanalysis, df, F, X):\n",
    "\n",
    "    # Generate a list of the trips for which the trip frequency is greater than or equal to 'F'. \n",
    "\n",
    "    trip=freqanalysis[freqanalysis['frequency']>=F].copy()\n",
    "    tripdf=trip['trip'].copy()\n",
    "    triplist=tripdf.to_list()\n",
    "        \n",
    "    # Create a dictionary so that information regarding a specific 'trip' can be looked up.\n",
    "\n",
    "    df1=df.copy()\n",
    "    dictionary=df1[['trip','start station id','end station id','start station latitude',\\\n",
    "                    'start station longitude','end station latitude','end station longitude']].copy()\n",
    "    dictionary.drop_duplicates(inplace=True)\n",
    "    dictionarytrip=dictionary.set_index('trip')\n",
    "    dictionarytrip=dictionarytrip.to_dict('index')\n",
    "\n",
    "    # Create lists to hold latitude and longitude for the start stations and end stations. \n",
    "    \n",
    "    L=len(triplist)\n",
    "    topsslat=[None]*L\n",
    "    topsslon=[None]*L\n",
    "    topeslat=[None]*L\n",
    "    topeslon=[None]*L\n",
    "\n",
    "    for i,x in enumerate(triplist):\n",
    "        topsslat[i]=dictionarytrip[x]['start station latitude']\n",
    "        topsslon[i]=dictionarytrip[x]['start station longitude']\n",
    "        topeslat[i]=dictionarytrip[x]['end station latitude']\n",
    "        topeslon[i]=dictionarytrip[x]['end station longitude']\n",
    "\n",
    "    # The gmap.plot() function draws lines from one coordinate to the next it plots the lists. \n",
    "    # However, we only want lines drawn between start station and end station \"pairs\" to show actual trips. \n",
    "    # This piece of code places start station and end station coordinates next to each other in a list so that\n",
    "    # a line can be drawn when looping through the list with a condition of \"i % 2 == 0\" to draw between pairs.\n",
    "    \n",
    "    LL=int(L*2)\n",
    "    latholder=[None]*LL\n",
    "    lonholder=[None]*LL\n",
    "\n",
    "    for i in range(0,LL):    \n",
    "        if i == 0:\n",
    "            latholder[i] = topsslat[i]\n",
    "            lonholder[i] = topsslon[i]    \n",
    "        if i == 1:\n",
    "            latholder[i] = topeslat[i]\n",
    "            lonholder[i] = topeslon[i]\n",
    "        if i % 2 == 0:\n",
    "            x=int(i/2)\n",
    "            latholder[i] = topsslat[x]\n",
    "            lonholder[i] = topsslon[x]\n",
    "        if i % 2 != 0:\n",
    "            y=int(((i+1)/2)-1)\n",
    "            latholder[i] = topeslat[y]\n",
    "            lonholder[i] = topeslon[y]\n",
    "\n",
    "    # Divide the start stations and end stations used by the trips into three groups:\n",
    "    # 1. stations that are only start stations. These stations will be plotted as pink circles.\n",
    "    # 2. stations that are only end stations. These stations will be plotted as cyan circles.\n",
    "    # 3. stations that are both end stations and start stations. These stations will be plotted as purple circles.\n",
    "\n",
    "    L=len(triplist)\n",
    "    endstationlist=[None]*L\n",
    "    startstationlist=[None]*L\n",
    "\n",
    "    for i,x in enumerate(triplist):\n",
    "        endstationlist[i]=dictionarytrip[x]['end station id']\n",
    "        startstationlist[i]=dictionarytrip[x]['start station id']\n",
    "    \n",
    "    dupstationlist = list(set(endstationlist) & set(startstationlist))\n",
    "    startstationexclusive=list(set(startstationlist)-set(dupstationlist)) \n",
    "    endstationexclusive=list(set(endstationlist)-set(dupstationlist))\n",
    "\n",
    "    # Create a dictionary so that information regarding a specific 'start station id' can be looked up.\n",
    "\n",
    "    dictionarystation = dictionary.drop_duplicates(subset='start station id', keep=\"first\")\n",
    "    dictionarystation=dictionarystation.set_index('start station id')\n",
    "    dictionarystation=dictionarystation.to_dict('index')                             \n",
    "\n",
    "    # Create lists of latitude and longitude for each of the three station groups.\n",
    "\n",
    "    L=len(startstationexclusive)\n",
    "    topsslat=[None]*L\n",
    "    topsslon=[None]*L\n",
    "\n",
    "    for i,x in enumerate(startstationexclusive):\n",
    "        topsslat[i]=dictionarystation[x]['start station latitude']\n",
    "        topsslon[i]=dictionarystation[x]['start station longitude']\n",
    "    \n",
    "    L=len(endstationexclusive)\n",
    "    topeslat=[None]*L\n",
    "    topeslon=[None]*L\n",
    "\n",
    "    for i,x in enumerate(endstationexclusive):\n",
    "        topeslat[i]=dictionarystation[x]['start station latitude']\n",
    "        topeslon[i]=dictionarystation[x]['start station longitude']    \n",
    "    \n",
    "    L=len(dupstationlist)\n",
    "    duplat=[None]*L\n",
    "    duplon=[None]*L\n",
    "\n",
    "    for i,x in enumerate(dupstationlist):\n",
    "        duplat[i]=dictionarystation[x]['start station latitude']\n",
    "        duplon[i]=dictionarystation[x]['start station longitude']\n",
    "        \n",
    "    # Generate the google maps plot and scatter plots of start station, end station and start/end station coordinates.\n",
    "\n",
    "    gmap = gmplot.GoogleMapPlotter(40.727434,-73.993790, 13) \n",
    "    gmap.scatter(topsslat,topsslon, c='pink', size = 40, marker = False) \n",
    "    gmap.scatter(topeslat,topeslon, c='cyan', size = 40, marker = False)\n",
    "    gmap.scatter(duplat,duplon, c='purple', size = 40, marker = False)\n",
    "\n",
    "    # Draw the line between the start station and end station for each trip being plotted.\n",
    "    \n",
    "    for i in range(0,LL):\n",
    "        if i % 2 == 0:\n",
    "            latitude_list=[latholder[i], latholder[i+1]]\n",
    "            longitude_list=[lonholder[i],lonholder[i+1]]\n",
    "            gmap.plot(latitude_list, longitude_list,'cornflowerblue', edge_width = 2.5)\n",
    "\n",
    "    # Save the map as html file.\n",
    "    \n",
    "    gmap.draw(\"C:\\\\Users\\\\andre\\\\Desktop\\\\gmapplots\\\\timec\\\\{}\".format(X))\n",
    "        \n",
    "    return()      "
   ]
  },
  {
   "cell_type": "code",
   "execution_count": 31,
   "metadata": {},
   "outputs": [],
   "source": [
    "# Three Clusters - First elbow point on SS-Curve."
   ]
  },
  {
   "cell_type": "code",
   "execution_count": 32,
   "metadata": {},
   "outputs": [],
   "source": [
    "# Frequency calculation for trip plotting.\n",
    "\n",
    "n3freq0=tripfreq(cdata3[cdata3['cluster']==0])\n",
    "n3freq1=tripfreq(cdata3[cdata3['cluster']==1])\n",
    "n3freq2=tripfreq(cdata3[cdata3['cluster']==2])"
   ]
  },
  {
   "cell_type": "code",
   "execution_count": 33,
   "metadata": {},
   "outputs": [
    {
     "name": "stdout",
     "output_type": "stream",
     "text": [
      "\n",
      "Cluster Number 0.\n",
      "minimum age is 16.0.\n",
      "mean age is 39.7.\n",
      "maximum age is 80.0.\n",
      "\n",
      "minimum start time is 01:45:05.\n",
      "maximum start time is 14:14:12.\n",
      "\n",
      "minimum end time is 02:11:24.\n",
      "maximum end time is 14:41:43.\n",
      "\n",
      "the number of males is 2686240.\n",
      "the number of Subscriber is 2561071.\n",
      "the number of Customer is 125169.\n",
      "\n",
      "Cluster Number 1.\n",
      "minimum age is 16.0.\n",
      "mean age is 37.7.\n",
      "maximum age is 80.0.\n",
      "\n",
      "minimum start time is 00:00:00.\n",
      "maximum start time is 23:59:59.\n",
      "\n",
      "minimum end time is 00:00:00.\n",
      "maximum end time is 23:59:59.\n",
      "\n",
      "the number of females is 2079228.\n",
      "the number of Subscriber is 1881309.\n",
      "the number of Customer is 197919.\n",
      "\n",
      "Cluster Number 2.\n",
      "minimum age is 16.0.\n",
      "mean age is 38.0.\n",
      "maximum age is 80.0.\n",
      "\n",
      "minimum start time is 00:00:00.\n",
      "maximum start time is 23:59:59.\n",
      "\n",
      "minimum end time is 00:00:00.\n",
      "maximum end time is 23:59:59.\n",
      "\n",
      "the number of males is 3578293.\n",
      "the number of Subscriber is 3340422.\n",
      "the number of Customer is 237871.\n"
     ]
    },
    {
     "data": {
      "text/plain": [
       "()"
      ]
     },
     "execution_count": 33,
     "metadata": {},
     "output_type": "execute_result"
    }
   ],
   "source": [
    "# Run the clusterdescribe function.\n",
    "\n",
    "clusterdescribe(3,cdata3)"
   ]
  },
  {
   "cell_type": "code",
   "execution_count": 34,
   "metadata": {},
   "outputs": [
    {
     "data": {
      "text/plain": [
       "1"
      ]
     },
     "execution_count": 34,
     "metadata": {},
     "output_type": "execute_result"
    }
   ],
   "source": [
    "# gmap plotting of trips - 200 most frequently taken trips in each cluster will be plotted in a different file.\n",
    "\n",
    "tripfreqmap(n3freq0,dataset, n3freq0.iloc[199,1], 'n3c0top200.html')\n",
    "os.system('n3c0top200.html')\n",
    "\n",
    "tripfreqmap(n3freq1,dataset, n3freq1.iloc[199,1], 'n3c1top200.html')\n",
    "os.system('n3c1top200.html')\n",
    "\n",
    "tripfreqmap(n3freq2,dataset, n3freq2.iloc[199,1], 'n3c2top200.html')\n",
    "os.system('n3c2top200.html')"
   ]
  },
  {
   "cell_type": "code",
   "execution_count": 35,
   "metadata": {},
   "outputs": [
    {
     "data": {
      "image/png": "[encoded data removed]",
      "text/plain": [
       "<Figure size 432x288 with 2 Axes>"
      ]
     },
     "metadata": {
      "needs_background": "light"
     },
     "output_type": "display_data"
    }
   ],
   "source": [
    "# Histogram of Cluster 2 to confirm its time range and compare it to the time range of cluster 0.\n",
    "\n",
    "fig, (ax1, ax2) = plt.subplots(nrows=1, ncols=2)\n",
    "\n",
    "ax1.hist(cdata3[cdata3['cluster']==2]['start'],bins=1000);\n",
    "ax1.set_title('Cluster 2 Trip Starts')\n",
    "ax1.set_xticks(['02:00','14:00', '23:00']) \n",
    "ax1.set_ylabel('number of trip starts')\n",
    "\n",
    "ax2.hist(cdata3[cdata3['cluster']==2]['end'],bins=1000);\n",
    "ax2.set_title('Cluster 2 Trip Ends')\n",
    "ax2.set_xticks(['02:00','14:00', '23:00']) \n",
    "ax2.set_ylabel('number of trip ends')\n",
    "\n",
    "plt.subplots_adjust(top=2, bottom=1, left=1, right=3, hspace=0.5, wspace=0.5)"
   ]
  },
  {
   "cell_type": "code",
   "execution_count": 36,
   "metadata": {},
   "outputs": [],
   "source": [
    "# Seven Clusters - Second Elbow point on SS curve."
   ]
  },
  {
   "cell_type": "code",
   "execution_count": 37,
   "metadata": {},
   "outputs": [],
   "source": [
    "# Frequency calculation for trip plotting.\n",
    "\n",
    "n7freq0=tripfreq(cdata7[cdata7['cluster']==0])\n",
    "n7freq1=tripfreq(cdata7[cdata7['cluster']==1])\n",
    "n7freq2=tripfreq(cdata7[cdata7['cluster']==2])\n",
    "n7freq3=tripfreq(cdata7[cdata7['cluster']==3])\n",
    "n7freq4=tripfreq(cdata7[cdata7['cluster']==4])\n",
    "n7freq5=tripfreq(cdata7[cdata7['cluster']==5])\n",
    "n7freq6=tripfreq(cdata7[cdata7['cluster']==6])"
   ]
  },
  {
   "cell_type": "code",
   "execution_count": 38,
   "metadata": {},
   "outputs": [
    {
     "name": "stdout",
     "output_type": "stream",
     "text": [
      "\n",
      "Cluster Number 0.\n",
      "minimum age is 16.0.\n",
      "mean age is 39.1.\n",
      "maximum age is 80.0.\n",
      "\n",
      "minimum start time is 15:09:25.\n",
      "maximum start time is 20:04:07.\n",
      "\n",
      "minimum end time is 15:35:21.\n",
      "maximum end time is 20:29:49.\n",
      "\n",
      "the number of males is 2004786.\n",
      "the number of Subscriber is 2004786.\n",
      "\n",
      "Cluster Number 1.\n",
      "minimum age is 16.0.\n",
      "mean age is 39.9.\n",
      "maximum age is 80.0.\n",
      "\n",
      "minimum start time is 02:48:50.\n",
      "maximum start time is 11:06:20.\n",
      "\n",
      "minimum end time is 03:11:53.\n",
      "maximum end time is 11:34:14.\n",
      "\n",
      "the number of males is 1671700.\n",
      "the number of Subscriber is 1653487.\n",
      "the number of Customer is 18213.\n",
      "\n",
      "Cluster Number 2.\n",
      "minimum age is 16.0.\n",
      "mean age is 38.0.\n",
      "maximum age is 80.0.\n",
      "\n",
      "minimum start time is 00:00:00.\n",
      "maximum start time is 23:59:59.\n",
      "\n",
      "minimum end time is 00:00:00.\n",
      "maximum end time is 23:59:59.\n",
      "\n",
      "the number of females is 1038937.\n",
      "the number of Subscriber is 1038937.\n",
      "\n",
      "Cluster Number 3.\n",
      "minimum age is 16.0.\n",
      "mean age is 38.6.\n",
      "maximum age is 80.0.\n",
      "\n",
      "minimum start time is 01:44:33.\n",
      "maximum start time is 14:04:14.\n",
      "\n",
      "minimum end time is 02:12:26.\n",
      "maximum end time is 14:33:20.\n",
      "\n",
      "the number of females is 868864.\n",
      "the number of Subscriber is 842372.\n",
      "the number of Customer is 26492.\n",
      "\n",
      "Cluster Number 4.\n",
      "minimum age is 16.0.\n",
      "mean age is 40.3.\n",
      "maximum age is 80.0.\n",
      "\n",
      "minimum start time is 10:35:26.\n",
      "maximum start time is 15:41:59.\n",
      "\n",
      "minimum end time is 11:01:58.\n",
      "maximum end time is 16:11:27.\n",
      "\n",
      "the number of males is 1369540.\n",
      "the number of Subscriber is 1369540.\n",
      "\n",
      "Cluster Number 5.\n",
      "minimum age is 16.0.\n",
      "mean age is 36.1.\n",
      "maximum age is 80.0.\n",
      "\n",
      "minimum start time is 00:00:00.\n",
      "maximum start time is 23:59:59.\n",
      "\n",
      "minimum end time is 00:00:00.\n",
      "maximum end time is 23:59:59.\n",
      "\n",
      "the number of males is 873767.\n",
      "the number of Subscriber is 873680.\n",
      "the number of Customer is 87.\n",
      "\n",
      "Cluster Number 6.\n",
      "minimum age is 16.0.\n",
      "mean age is 31.5.\n",
      "maximum age is 80.0.\n",
      "\n",
      "minimum start time is 00:00:00.\n",
      "maximum start time is 23:59:59.\n",
      "\n",
      "minimum end time is 00:00:00.\n",
      "maximum end time is 23:59:59.\n",
      "\n",
      "the number of males is 344740.\n",
      "the number of females is 171427.\n",
      "the number of Customer is 516167.\n"
     ]
    },
    {
     "data": {
      "text/plain": [
       "()"
      ]
     },
     "execution_count": 38,
     "metadata": {},
     "output_type": "execute_result"
    }
   ],
   "source": [
    "# Run the clusterdescribe function.\n",
    "\n",
    "clusterdescribe(7,cdata7)"
   ]
  },
  {
   "cell_type": "code",
   "execution_count": 39,
   "metadata": {},
   "outputs": [
    {
     "data": {
      "text/plain": [
       "1"
      ]
     },
     "execution_count": 39,
     "metadata": {},
     "output_type": "execute_result"
    }
   ],
   "source": [
    "# gmap plotting of trips - 200 most frequently taken trips in each cluster will be plotted in a different file.\n",
    "\n",
    "tripfreqmap(n7freq0,dataset, n7freq0.iloc[199,1], 'n7c0top200.html')\n",
    "os.system('n7c0top200.html')\n",
    "\n",
    "tripfreqmap(n7freq1,dataset, n7freq1.iloc[199,1], 'n7c1top200.html')\n",
    "os.system('n7c1top200.html')\n",
    "\n",
    "tripfreqmap(n7freq2,dataset, n7freq2.iloc[199,1], 'n7c2top200.html')\n",
    "os.system('n7c2top200.html')\n",
    "\n",
    "tripfreqmap(n7freq3,dataset, n7freq3.iloc[199,1], 'n7c3top200.html')\n",
    "os.system('n7c3top200.html')\n",
    "\n",
    "tripfreqmap(n7freq4,dataset, n7freq4.iloc[199,1], 'n7c4top200.html')\n",
    "os.system('n7c4top200.html')\n",
    "\n",
    "tripfreqmap(n7freq5,dataset, n7freq5.iloc[199,1], 'n7c5top200.html')\n",
    "os.system('n7c5top200.html')\n",
    "\n",
    "tripfreqmap(n7freq6,dataset, n7freq6.iloc[199,1], 'n7c6top200.html')\n",
    "os.system('n7c6top200.html')"
   ]
  },
  {
   "cell_type": "code",
   "execution_count": 40,
   "metadata": {},
   "outputs": [
    {
     "data": {
      "image/png": "[encoded data removed]",
      "text/plain": [
       "<Figure size 432x288 with 2 Axes>"
      ]
     },
     "metadata": {
      "needs_background": "light"
     },
     "output_type": "display_data"
    }
   ],
   "source": [
    "# Histogram of Cluster 5 to confirm its time range and compare it to the time range of Cluster 0, Cluster 4 and Cluster 1.\n",
    "\n",
    "fig, (ax1, ax2) = plt.subplots(nrows=1, ncols=2)\n",
    "\n",
    "ax1.hist(cdata7[cdata7['cluster']==5]['start'],bins=1000);\n",
    "ax1.set_title('Cluster 5 Trip Starts')\n",
    "ax1.set_xticks(['03:00','20:00', '23:00']) \n",
    "ax1.set_ylabel('number of trip starts')\n",
    "\n",
    "ax2.hist(cdata7[cdata7['cluster']==5]['end'],bins=1000);\n",
    "ax2.set_title('Cluster 5 Trip Ends')\n",
    "ax2.set_xticks(['03:00','20:00', '23:00']) \n",
    "ax2.set_ylabel('number of trip ends')\n",
    "\n",
    "plt.subplots_adjust(top=2, bottom=1, left=1, right=3, hspace=0.5, wspace=0.5)"
   ]
  },
  {
   "cell_type": "code",
   "execution_count": 41,
   "metadata": {},
   "outputs": [
    {
     "data": {
      "image/png": "[encoded data removed]",
      "text/plain": [
       "<Figure size 432x288 with 2 Axes>"
      ]
     },
     "metadata": {
      "needs_background": "light"
     },
     "output_type": "display_data"
    }
   ],
   "source": [
    "# Histogram of Cluster 2 to confirm its time range and compare it to the time range of Cluster 3 \"Subscribers\".\n",
    "\n",
    "fig, (ax1, ax2) = plt.subplots(nrows=1, ncols=2)\n",
    "\n",
    "ax1.hist(cdata7[cdata7['cluster']==2]['start'],bins=1000);\n",
    "ax1.set_title('Cluster 2 Trip Starts')\n",
    "ax1.set_xticks(['02:00','14:00', '23:00']) \n",
    "ax1.set_ylabel('number of trip starts')\n",
    "\n",
    "ax2.hist(cdata7[cdata7['cluster']==2]['end'],bins=1000);\n",
    "ax2.set_title('Cluster 2 Trip Ends')\n",
    "ax2.set_xticks(['02:00','14:00', '23:00']) \n",
    "ax2.set_ylabel('number of trip ends')\n",
    "\n",
    "plt.subplots_adjust(top=2, bottom=1, left=1, right=3, hspace=0.5, wspace=0.5)"
   ]
  },
  {
   "cell_type": "code",
   "execution_count": 43,
   "metadata": {
    "scrolled": true
   },
   "outputs": [
    {
     "data": {
      "image/png": "[encoded data removed]",
      "text/plain": [
       "<Figure size 432x288 with 2 Axes>"
      ]
     },
     "metadata": {
      "needs_background": "light"
     },
     "output_type": "display_data"
    }
   ],
   "source": [
    "# Histogram of Cluster 3 \"Subscribers\".\n",
    "\n",
    "fig, (ax1, ax2) = plt.subplots(nrows=1, ncols=2)\n",
    "\n",
    "ax1.hist(cdata7[(cdata7['cluster']==3) & (cdata7['usertype']=='Subscriber')]['start'],bins=1000);\n",
    "ax1.set_title('Cluster 3 Subscriber Trip Starts')\n",
    "ax1.set_xticks(['02:00','14:00', '23:00']) \n",
    "ax1.set_ylabel('number of trip starts')\n",
    "\n",
    "ax2.hist(cdata7[(cdata7['cluster']==3) & (cdata7['usertype']=='Subscriber')]['end'],bins=1000);\n",
    "ax2.set_title('Cluster 3 Subscriber Trip Ends')\n",
    "ax2.set_xticks(['02:00','14:00', '23:00']) \n",
    "ax2.set_ylabel('number of trip ends')\n",
    "\n",
    "plt.subplots_adjust(top=2, bottom=1, left=1, right=3, hspace=0.5, wspace=0.5)"
   ]
  },
  {
   "cell_type": "code",
   "execution_count": 42,
   "metadata": {},
   "outputs": [
    {
     "data": {
      "image/png": "[encoded data removed]",
      "text/plain": [
       "<Figure size 432x288 with 2 Axes>"
      ]
     },
     "metadata": {
      "needs_background": "light"
     },
     "output_type": "display_data"
    }
   ],
   "source": [
    "# Histogram of Cluster 3 \"Customers\". \n",
    "\n",
    "fig, (ax1, ax2) = plt.subplots(nrows=1, ncols=2)\n",
    "\n",
    "ax1.hist(cdata7[(cdata7['cluster']==3) & (cdata7['usertype']=='Customer')]['start'],bins=1000);\n",
    "ax1.set_title('Cluster 3 Customer Trip Starts')\n",
    "ax1.set_xticks(['04:00','11:30', '23:00']) \n",
    "ax1.set_ylabel('number of trip starts')\n",
    "\n",
    "ax2.hist(cdata7[(cdata7['cluster']==3) & (cdata7['usertype']=='Customer')]['end'],bins=1000);\n",
    "ax2.set_title('Cluster 3 Customer Trip Ends')\n",
    "ax2.set_xticks(['04:00','12:00', '23:00']) \n",
    "ax2.set_ylabel('number of trip ends')\n",
    "\n",
    "plt.subplots_adjust(top=2, bottom=1, left=1, right=3, hspace=0.5, wspace=0.5)"
   ]
  },
  {
   "cell_type": "code",
   "execution_count": 44,
   "metadata": {},
   "outputs": [
    {
     "data": {
      "image/png": "[encoded data removed]",
      "text/plain": [
       "<Figure size 432x288 with 2 Axes>"
      ]
     },
     "metadata": {
      "needs_background": "light"
     },
     "output_type": "display_data"
    }
   ],
   "source": [
    "# Histogram of Cluster 1 \"Customers\".\n",
    "\n",
    "fig, (ax1, ax2) = plt.subplots(nrows=1, ncols=2)\n",
    "\n",
    "ax1.hist(cdata7[(cdata7['cluster']==1) & (cdata7['usertype']=='Customer')]['start'],bins=1000);\n",
    "ax1.set_title('Cluster 1 Customer Trip Starts')\n",
    "ax1.set_xticks(['04:00','11:30', '23:00']) \n",
    "ax1.set_ylabel('number of trip starts')\n",
    "\n",
    "ax2.hist(cdata7[(cdata7['cluster']==1) & (cdata7['usertype']=='Customer')]['end'],bins=1000);\n",
    "ax2.set_title('Cluster 1 Customer Trip Ends')\n",
    "ax2.set_xticks(['04:00','12:00', '23:00']) \n",
    "ax2.set_ylabel('number of trip ends')\n",
    "\n",
    "plt.subplots_adjust(top=2, bottom=1, left=1, right=3, hspace=0.5, wspace=0.5)"
   ]
  },
  {
   "cell_type": "code",
   "execution_count": 45,
   "metadata": {},
   "outputs": [
    {
     "data": {
      "image/png": "[encoded data removed]",
      "text/plain": [
       "<Figure size 432x288 with 2 Axes>"
      ]
     },
     "metadata": {
      "needs_background": "light"
     },
     "output_type": "display_data"
    }
   ],
   "source": [
    "# Histogram of Cluster 6 to confirm its time range.\n",
    "\n",
    "fig, (ax1, ax2) = plt.subplots(nrows=1, ncols=2)\n",
    "\n",
    "ax1.hist(cdata7[cdata7['cluster']==6]['start'],bins=1000);\n",
    "ax1.set_title('Cluster 6 Trip Starts')\n",
    "ax1.set_xticks(['04:00','11:30', '23:00']) \n",
    "ax1.set_ylabel('number of trip starts')\n",
    "\n",
    "ax2.hist(cdata7[cdata7['cluster']==6]['end'],bins=1000);\n",
    "ax2.set_title('Cluster 6 Trip Ends')\n",
    "ax2.set_xticks(['04:00','12:00', '23:00']) \n",
    "ax2.set_ylabel('number of trip ends')\n",
    "\n",
    "plt.subplots_adjust(top=2, bottom=1, left=1, right=3, hspace=0.5, wspace=0.5)"
   ]
  },
  {
   "cell_type": "code",
   "execution_count": 46,
   "metadata": {},
   "outputs": [],
   "source": [
    "# 10 Clusters - at this point and beyond the curve is almost a straight line."
   ]
  },
  {
   "cell_type": "code",
   "execution_count": 47,
   "metadata": {},
   "outputs": [],
   "source": [
    "# Frequency calculation for trip plotting.\n",
    "\n",
    "n10freq0=tripfreq(cdata10[cdata10['cluster']==0])\n",
    "n10freq1=tripfreq(cdata10[cdata10['cluster']==1])\n",
    "n10freq2=tripfreq(cdata10[cdata10['cluster']==2])\n",
    "n10freq3=tripfreq(cdata10[cdata10['cluster']==3])\n",
    "n10freq4=tripfreq(cdata10[cdata10['cluster']==4])\n",
    "n10freq5=tripfreq(cdata10[cdata10['cluster']==5])\n",
    "n10freq6=tripfreq(cdata10[cdata10['cluster']==6])\n",
    "n10freq7=tripfreq(cdata10[cdata10['cluster']==7])\n",
    "n10freq8=tripfreq(cdata10[cdata10['cluster']==8])\n",
    "n10freq9=tripfreq(cdata10[cdata10['cluster']==9])"
   ]
  },
  {
   "cell_type": "code",
   "execution_count": 48,
   "metadata": {},
   "outputs": [
    {
     "name": "stdout",
     "output_type": "stream",
     "text": [
      "\n",
      "Cluster Number 0.\n",
      "minimum age is 16.0.\n",
      "mean age is 36.1.\n",
      "maximum age is 80.0.\n",
      "\n",
      "minimum start time is 00:00:00.\n",
      "maximum start time is 23:59:59.\n",
      "\n",
      "minimum end time is 00:00:00.\n",
      "maximum end time is 23:59:59.\n",
      "\n",
      "the number of males is 880478.\n",
      "the number of Subscriber is 880478.\n",
      "\n",
      "Cluster Number 1.\n",
      "minimum age is 16.0.\n",
      "mean age is 40.3.\n",
      "maximum age is 80.0.\n",
      "\n",
      "minimum start time is 10:35:01.\n",
      "maximum start time is 15:41:51.\n",
      "\n",
      "minimum end time is 11:01:58.\n",
      "maximum end time is 16:09:12.\n",
      "\n",
      "the number of males is 1365189.\n",
      "the number of Subscriber is 1365189.\n",
      "\n",
      "Cluster Number 2.\n",
      "minimum age is 16.0.\n",
      "mean age is 40.0.\n",
      "maximum age is 80.0.\n",
      "\n",
      "minimum start time is 02:48:50.\n",
      "maximum start time is 11:05:59.\n",
      "\n",
      "minimum end time is 03:11:53.\n",
      "maximum end time is 11:34:14.\n",
      "\n",
      "the number of males is 1653192.\n",
      "the number of Subscriber is 1653058.\n",
      "the number of Customer is 134.\n",
      "\n",
      "Cluster Number 3.\n",
      "minimum age is 16.0.\n",
      "mean age is 36.1.\n",
      "maximum age is 80.0.\n",
      "\n",
      "minimum start time is 00:00:00.\n",
      "maximum start time is 23:59:59.\n",
      "\n",
      "minimum end time is 00:00:00.\n",
      "maximum end time is 23:59:59.\n",
      "\n",
      "the number of females is 290378.\n",
      "the number of Subscriber is 290378.\n",
      "\n",
      "Cluster Number 4.\n",
      "minimum age is 16.0.\n",
      "mean age is 39.5.\n",
      "maximum age is 80.0.\n",
      "\n",
      "minimum start time is 10:37:10.\n",
      "maximum start time is 15:31:29.\n",
      "\n",
      "minimum end time is 11:03:29.\n",
      "maximum end time is 15:57:27.\n",
      "\n",
      "the number of females is 448459.\n",
      "the number of Subscriber is 448459.\n",
      "\n",
      "Cluster Number 5.\n",
      "minimum age is 16.0.\n",
      "mean age is 39.2.\n",
      "maximum age is 80.0.\n",
      "\n",
      "minimum start time is 15:07:56.\n",
      "maximum start time is 20:03:54.\n",
      "\n",
      "minimum end time is 15:35:21.\n",
      "maximum end time is 20:29:49.\n",
      "\n",
      "the number of males is 2002768.\n",
      "the number of Subscriber is 2002768.\n",
      "\n",
      "Cluster Number 6.\n",
      "minimum age is 16.0.\n",
      "mean age is 38.5.\n",
      "maximum age is 80.0.\n",
      "\n",
      "minimum start time is 14:56:12.\n",
      "maximum start time is 19:42:40.\n",
      "\n",
      "minimum end time is 15:25:29.\n",
      "maximum end time is 20:00:45.\n",
      "\n",
      "the number of females is 596064.\n",
      "the number of Subscriber is 596064.\n",
      "\n",
      "Cluster Number 7.\n",
      "minimum age is 16.0.\n",
      "mean age is 31.2.\n",
      "maximum age is 80.0.\n",
      "\n",
      "minimum start time is 00:00:00.\n",
      "maximum start time is 23:59:59.\n",
      "\n",
      "minimum end time is 00:00:02.\n",
      "maximum end time is 23:59:56.\n",
      "\n",
      "the number of females is 197880.\n",
      "the number of Customer is 197880.\n",
      "\n",
      "Cluster Number 8.\n",
      "minimum age is 16.0.\n",
      "mean age is 32.0.\n",
      "maximum age is 80.0.\n",
      "\n",
      "minimum start time is 00:00:01.\n",
      "maximum start time is 23:59:59.\n",
      "\n",
      "minimum end time is 00:00:00.\n",
      "maximum end time is 23:59:59.\n",
      "\n",
      "the number of males is 362906.\n",
      "the number of Customer is 362906.\n",
      "\n",
      "Cluster Number 9.\n",
      "minimum age is 16.0.\n",
      "mean age is 38.5.\n",
      "maximum age is 80.0.\n",
      "\n",
      "minimum start time is 02:39:35.\n",
      "maximum start time is 11:06:24.\n",
      "\n",
      "minimum end time is 03:02:23.\n",
      "maximum end time is 11:34:41.\n",
      "\n",
      "the number of females is 546447.\n",
      "the number of Subscriber is 546408.\n",
      "the number of Customer is 39.\n"
     ]
    },
    {
     "data": {
      "text/plain": [
       "()"
      ]
     },
     "execution_count": 48,
     "metadata": {},
     "output_type": "execute_result"
    }
   ],
   "source": [
    "# Run the clusterdescribe function.\n",
    "\n",
    "clusterdescribe(10,cdata10)"
   ]
  },
  {
   "cell_type": "code",
   "execution_count": 49,
   "metadata": {},
   "outputs": [
    {
     "data": {
      "text/plain": [
       "1"
      ]
     },
     "execution_count": 49,
     "metadata": {},
     "output_type": "execute_result"
    }
   ],
   "source": [
    "# gmap plotting of trips - 200 most frequently taken trips in each cluster.\n",
    "\n",
    "tripfreqmap(n10freq0,dataset, n10freq0.iloc[199,1], 'n10c0top200.html')\n",
    "os.system('n10c0top200.html')\n",
    "\n",
    "tripfreqmap(n10freq1,dataset, n10freq1.iloc[199,1], 'n10c1top200.html')\n",
    "os.system('n10c1top200.html')\n",
    "\n",
    "tripfreqmap(n10freq2,dataset, n10freq2.iloc[199,1], 'n10c2top200.html')\n",
    "os.system('n10c2top200.html')\n",
    "\n",
    "tripfreqmap(n10freq3,dataset, n10freq3.iloc[199,1], 'n10c3top200.html')\n",
    "os.system('n10c3top200.html')\n",
    "\n",
    "tripfreqmap(n10freq4,dataset, n10freq4.iloc[199,1], 'n10c4top200.html')\n",
    "os.system('n10c4top200.html')\n",
    "\n",
    "tripfreqmap(n10freq5,dataset, n10freq5.iloc[199,1], 'n10c5top200.html')\n",
    "os.system('n10c5top200.html')\n",
    "\n",
    "tripfreqmap(n10freq6,dataset, n10freq6.iloc[199,1], 'n10c6top200.html')\n",
    "os.system('n10c6top200.html')\n",
    "\n",
    "tripfreqmap(n10freq7,dataset, n10freq7.iloc[199,1], 'n10c7top200.html')\n",
    "os.system('n10c7top200.html')\n",
    "\n",
    "tripfreqmap(n10freq8,dataset, n10freq8.iloc[199,1], 'n10c8top200.html')\n",
    "os.system('n10c8top200.html')\n",
    "\n",
    "tripfreqmap(n10freq9,dataset, n10freq9.iloc[199,1], 'n10c9top200.html')\n",
    "os.system('n10c9to200.html')"
   ]
  },
  {
   "cell_type": "code",
   "execution_count": 50,
   "metadata": {},
   "outputs": [
    {
     "data": {
      "image/png": "[encoded data removed]",
      "text/plain": [
       "<Figure size 432x288 with 2 Axes>"
      ]
     },
     "metadata": {
      "needs_background": "light"
     },
     "output_type": "display_data"
    }
   ],
   "source": [
    "# Histogram of Cluster 0 to confirm its time range.\n",
    "\n",
    "fig, (ax1, ax2) = plt.subplots(nrows=1, ncols=2)\n",
    "\n",
    "ax1.hist(cdata10[cdata10['cluster']==0]['start'],bins=1000);\n",
    "ax1.set_title('Cluster 0 Trip Starts')\n",
    "ax1.set_xticks(['03:00','20:00', '23:00']) \n",
    "ax1.set_ylabel('number of trip starts')\n",
    "\n",
    "ax2.hist(cdata10[cdata10['cluster']==0]['end'],bins=1000);\n",
    "ax2.set_title('Cluster 0 Trip Ends')\n",
    "ax2.set_xticks(['03:00','20:00', '23:00']) \n",
    "ax2.set_ylabel('number of trip ends')\n",
    "\n",
    "plt.subplots_adjust(top=2, bottom=1, left=1, right=3, hspace=0.5, wspace=0.5)"
   ]
  },
  {
   "cell_type": "code",
   "execution_count": 51,
   "metadata": {},
   "outputs": [
    {
     "data": {
      "image/png": "[encoded data removed]",
      "text/plain": [
       "<Figure size 432x288 with 2 Axes>"
      ]
     },
     "metadata": {
      "needs_background": "light"
     },
     "output_type": "display_data"
    }
   ],
   "source": [
    "# Histogram of Cluster 2 Subscribers.\n",
    "\n",
    "fig, (ax1, ax2) = plt.subplots(nrows=1, ncols=2)\n",
    "\n",
    "ax1.hist(cdata10[(cdata10['cluster']==2) & (cdata10['usertype']=='Subscriber')]['start'],bins=1000);\n",
    "ax1.set_title('Cluster 2 Subscriber Trip Starts')\n",
    "ax1.set_xticks(['03:00','11:30', '23:00']) \n",
    "ax1.set_ylabel('number of trip starts')\n",
    "\n",
    "ax2.hist(cdata10[(cdata10['cluster']==2) & (cdata10['usertype']=='Subscriber')]['end'],bins=1000);\n",
    "ax2.set_title('Cluster 2 Subscriber Trip Ends')\n",
    "ax2.set_xticks(['03:00','12:00', '23:00']) \n",
    "ax2.set_ylabel('number of trip ends')\n",
    "\n",
    "plt.subplots_adjust(top=2, bottom=1, left=1, right=3, hspace=0.5, wspace=0.5)"
   ]
  },
  {
   "cell_type": "code",
   "execution_count": 52,
   "metadata": {},
   "outputs": [
    {
     "data": {
      "image/png": "[encoded data removed]",
      "text/plain": [
       "<Figure size 432x288 with 2 Axes>"
      ]
     },
     "metadata": {
      "needs_background": "light"
     },
     "output_type": "display_data"
    }
   ],
   "source": [
    "# Histogram of Cluster 3 to confirm its time range.\n",
    "\n",
    "fig, (ax1, ax2) = plt.subplots(nrows=1, ncols=2)\n",
    "\n",
    "ax1.hist(cdata10[cdata10['cluster']==3]['start'],bins=1000);\n",
    "ax1.set_title('Cluster 3 Trip Starts')\n",
    "ax1.set_xticks(['03:00','19:00', '23:00']) \n",
    "ax1.set_ylabel('number of trip starts')\n",
    "\n",
    "ax2.hist(cdata10[cdata10['cluster']==3]['end'],bins=1000);\n",
    "ax2.set_title('Cluster 3 Trip Ends')\n",
    "ax2.set_xticks(['03:00','19:00', '23:00']) \n",
    "ax2.set_ylabel('number of trip ends')\n",
    "\n",
    "plt.subplots_adjust(top=2, bottom=1, left=1, right=3, hspace=0.5, wspace=0.5)"
   ]
  },
  {
   "cell_type": "code",
   "execution_count": 53,
   "metadata": {},
   "outputs": [
    {
     "data": {
      "image/png": "[encoded data removed]",
      "text/plain": [
       "<Figure size 432x288 with 2 Axes>"
      ]
     },
     "metadata": {
      "needs_background": "light"
     },
     "output_type": "display_data"
    }
   ],
   "source": [
    "# Histogram of Cluster 9 \"Subscribers\"\n",
    "\n",
    "fig, (ax1, ax2) = plt.subplots(nrows=1, ncols=2)\n",
    "\n",
    "ax1.hist(cdata10[(cdata10['cluster']==9) & (cdata10['usertype']=='Subscriber')]['start'],bins=1000);\n",
    "ax1.set_title('Cluster 9 Subscriber Trip Starts')\n",
    "ax1.set_xticks(['03:00','11:30', '23:00']) \n",
    "ax1.set_ylabel('number of trip starts')\n",
    "\n",
    "ax2.hist(cdata10[(cdata10['cluster']==9) & (cdata10['usertype']=='Subscriber')]['end'],bins=1000);\n",
    "ax2.set_title('Cluster 9 Subscriber Trip Ends')\n",
    "ax2.set_xticks(['03:00','12:00', '23:00']) \n",
    "ax2.set_ylabel('number of trip ends')\n",
    "\n",
    "plt.subplots_adjust(top=2, bottom=1, left=1, right=3, hspace=0.5, wspace=0.5)"
   ]
  },
  {
   "cell_type": "code",
   "execution_count": 54,
   "metadata": {},
   "outputs": [
    {
     "data": {
      "image/png": "[encoded data removed]",
      "text/plain": [
       "<Figure size 432x288 with 2 Axes>"
      ]
     },
     "metadata": {
      "needs_background": "light"
     },
     "output_type": "display_data"
    }
   ],
   "source": [
    "# Histogram of Cluster 7.\n",
    "\n",
    "fig, (ax1, ax2) = plt.subplots(nrows=1, ncols=2)\n",
    "\n",
    "ax1.hist(cdata10[cdata10['cluster']==7]['start'],bins=1000);\n",
    "ax1.set_title('Cluster 7 Trip Starts')\n",
    "ax1.set_xticks(['03:00','19:00', '23:00']) \n",
    "ax1.set_ylabel('number of trip starts')\n",
    "\n",
    "ax2.hist(cdata10[cdata10['cluster']==7]['end'],bins=1000);\n",
    "ax2.set_title('Cluster 7 Trip Ends')\n",
    "ax2.set_xticks(['03:00','19:00', '23:00']) \n",
    "ax2.set_ylabel('number of trip ends')\n",
    "\n",
    "plt.subplots_adjust(top=2, bottom=1, left=1, right=3, hspace=0.5, wspace=0.5)"
   ]
  },
  {
   "cell_type": "code",
   "execution_count": 55,
   "metadata": {},
   "outputs": [
    {
     "data": {
      "image/png": "[encoded data removed]",
      "text/plain": [
       "<Figure size 432x288 with 2 Axes>"
      ]
     },
     "metadata": {
      "needs_background": "light"
     },
     "output_type": "display_data"
    }
   ],
   "source": [
    "# Histogram of Cluster 8.\n",
    "\n",
    "fig, (ax1, ax2) = plt.subplots(nrows=1, ncols=2)\n",
    "\n",
    "ax1.hist(cdata10[cdata10['cluster']==8]['start'],bins=1000);\n",
    "ax1.set_title('Cluster 8 Trip Starts')\n",
    "ax1.set_xticks(['03:00','19:00', '23:00']) \n",
    "ax1.set_ylabel('number of trip starts')\n",
    "\n",
    "ax2.hist(cdata10[cdata10['cluster']==8]['end'],bins=1000);\n",
    "ax2.set_title('Cluster 8 Trip Ends')\n",
    "ax2.set_xticks(['03:00','19:00', '23:00']) \n",
    "ax2.set_ylabel('number of trip ends')\n",
    "\n",
    "plt.subplots_adjust(top=2, bottom=1, left=1, right=3, hspace=0.5, wspace=0.5)"
   ]
  }
 ],
 "metadata": {
  "kernelspec": {
   "display_name": "Python 3",
   "language": "python",
   "name": "python3"
  },
  "language_info": {
   "codemirror_mode": {
    "name": "ipython",
    "version": 3
   },
   "file_extension": ".py",
   "mimetype": "text/x-python",
   "name": "python",
   "nbconvert_exporter": "python",
   "pygments_lexer": "ipython3",
   "version": "3.7.3"
  }
 },
 "nbformat": 4,
 "nbformat_minor": 2
}
