{
 "cells": [
  {
   "cell_type": "code",
   "execution_count": 1,
   "metadata": {},
   "outputs": [],
   "source": [
    "import pandas as pd\n",
    "import matplotlib.pyplot as plt\n",
    "import datetime as dt"
   ]
  },
  {
   "cell_type": "code",
   "execution_count": 2,
   "metadata": {},
   "outputs": [],
   "source": [
    "# Load the .csv files into Data Frames.\n",
    "\n",
    "jun2019=pd.read_csv('C:/Users/andre/OneDrive/Documents/CitiBikeData/201906-citibike-tripdata.csv')\n",
    "may2019=pd.read_csv('C:/Users/andre/OneDrive/Documents/CitiBikeData/201905-citibike-tripdata.csv')\n",
    "apr2019=pd.read_csv('C:/Users/andre/OneDrive/Documents/CitiBikeData/201904-citibike-tripdata.csv')\n",
    "mar2019=pd.read_csv('C:/Users/andre/OneDrive/Documents/CitiBikeData/201903-citibike-tripdata.csv')\n",
    "feb2019=pd.read_csv('C:/Users/andre/OneDrive/Documents/CitiBikeData/201902-citibike-tripdata.csv')\n",
    "jan2019=pd.read_csv('C:/Users/andre/OneDrive/Documents/CitiBikeData/201901-citibike-tripdata.csv')"
   ]
  },
  {
   "cell_type": "code",
   "execution_count": 3,
   "metadata": {},
   "outputs": [],
   "source": [
    "# Load the individual Data Frames into one Data Frame using .append().\n",
    "\n",
    "dataset=jun2019\n",
    "dataset=dataset.append(may2019)\n",
    "dataset=dataset.append(apr2019)\n",
    "dataset=dataset.append(mar2019)\n",
    "dataset=dataset.append(feb2019)\n",
    "dataset=dataset.append(jan2019)"
   ]
  },
  {
   "cell_type": "code",
   "execution_count": 4,
   "metadata": {},
   "outputs": [
    {
     "data": {
      "text/html": [
       "<div>\n",
       "<style scoped>\n",
       "    .dataframe tbody tr th:only-of-type {\n",
       "        vertical-align: middle;\n",
       "    }\n",
       "\n",
       "    .dataframe tbody tr th {\n",
       "        vertical-align: top;\n",
       "    }\n",
       "\n",
       "    .dataframe thead th {\n",
       "        text-align: right;\n",
       "    }\n",
       "</style>\n",
       "<table border=\"1\" class=\"dataframe\">\n",
       "  <thead>\n",
       "    <tr style=\"text-align: right;\">\n",
       "      <th></th>\n",
       "      <th>tripduration</th>\n",
       "      <th>starttime</th>\n",
       "      <th>stoptime</th>\n",
       "      <th>start station id</th>\n",
       "      <th>start station name</th>\n",
       "      <th>start station latitude</th>\n",
       "      <th>start station longitude</th>\n",
       "      <th>end station id</th>\n",
       "      <th>end station name</th>\n",
       "      <th>end station latitude</th>\n",
       "      <th>end station longitude</th>\n",
       "      <th>bikeid</th>\n",
       "      <th>usertype</th>\n",
       "      <th>birth year</th>\n",
       "      <th>gender</th>\n",
       "    </tr>\n",
       "  </thead>\n",
       "  <tbody>\n",
       "    <tr>\n",
       "      <th>0</th>\n",
       "      <td>320</td>\n",
       "      <td>2019-01-01 00:01:47.4010</td>\n",
       "      <td>2019-01-01 00:07:07.5810</td>\n",
       "      <td>3160.0</td>\n",
       "      <td>Central Park West &amp; W 76 St</td>\n",
       "      <td>40.778968</td>\n",
       "      <td>-73.973747</td>\n",
       "      <td>3283.0</td>\n",
       "      <td>W 89 St &amp; Columbus Ave</td>\n",
       "      <td>40.788221</td>\n",
       "      <td>-73.970416</td>\n",
       "      <td>15839</td>\n",
       "      <td>Subscriber</td>\n",
       "      <td>1971</td>\n",
       "      <td>1</td>\n",
       "    </tr>\n",
       "    <tr>\n",
       "      <th>1</th>\n",
       "      <td>316</td>\n",
       "      <td>2019-01-01 00:04:43.7360</td>\n",
       "      <td>2019-01-01 00:10:00.6080</td>\n",
       "      <td>519.0</td>\n",
       "      <td>Pershing Square North</td>\n",
       "      <td>40.751873</td>\n",
       "      <td>-73.977706</td>\n",
       "      <td>518.0</td>\n",
       "      <td>E 39 St &amp; 2 Ave</td>\n",
       "      <td>40.747804</td>\n",
       "      <td>-73.973442</td>\n",
       "      <td>32723</td>\n",
       "      <td>Subscriber</td>\n",
       "      <td>1964</td>\n",
       "      <td>1</td>\n",
       "    </tr>\n",
       "    <tr>\n",
       "      <th>2</th>\n",
       "      <td>591</td>\n",
       "      <td>2019-01-01 00:06:03.9970</td>\n",
       "      <td>2019-01-01 00:15:55.4380</td>\n",
       "      <td>3171.0</td>\n",
       "      <td>Amsterdam Ave &amp; W 82 St</td>\n",
       "      <td>40.785247</td>\n",
       "      <td>-73.976673</td>\n",
       "      <td>3154.0</td>\n",
       "      <td>E 77 St &amp; 3 Ave</td>\n",
       "      <td>40.773142</td>\n",
       "      <td>-73.958562</td>\n",
       "      <td>27451</td>\n",
       "      <td>Subscriber</td>\n",
       "      <td>1987</td>\n",
       "      <td>1</td>\n",
       "    </tr>\n",
       "  </tbody>\n",
       "</table>\n",
       "</div>"
      ],
      "text/plain": [
       "   tripduration                 starttime                  stoptime  \\\n",
       "0           320  2019-01-01 00:01:47.4010  2019-01-01 00:07:07.5810   \n",
       "1           316  2019-01-01 00:04:43.7360  2019-01-01 00:10:00.6080   \n",
       "2           591  2019-01-01 00:06:03.9970  2019-01-01 00:15:55.4380   \n",
       "\n",
       "   start station id           start station name  start station latitude  \\\n",
       "0            3160.0  Central Park West & W 76 St               40.778968   \n",
       "1             519.0        Pershing Square North               40.751873   \n",
       "2            3171.0      Amsterdam Ave & W 82 St               40.785247   \n",
       "\n",
       "   start station longitude  end station id        end station name  \\\n",
       "0               -73.973747          3283.0  W 89 St & Columbus Ave   \n",
       "1               -73.977706           518.0         E 39 St & 2 Ave   \n",
       "2               -73.976673          3154.0         E 77 St & 3 Ave   \n",
       "\n",
       "   end station latitude  end station longitude  bikeid    usertype  \\\n",
       "0             40.788221             -73.970416   15839  Subscriber   \n",
       "1             40.747804             -73.973442   32723  Subscriber   \n",
       "2             40.773142             -73.958562   27451  Subscriber   \n",
       "\n",
       "   birth year  gender  \n",
       "0        1971       1  \n",
       "1        1964       1  \n",
       "2        1987       1  "
      ]
     },
     "execution_count": 4,
     "metadata": {},
     "output_type": "execute_result"
    }
   ],
   "source": [
    "# Put the data in chronological order based on 'starttime'.\n",
    "\n",
    "dataset=dataset.sort_values('starttime') \n",
    "dataset.head(3)"
   ]
  },
  {
   "cell_type": "code",
   "execution_count": 5,
   "metadata": {},
   "outputs": [
    {
     "name": "stdout",
     "output_type": "stream",
     "text": [
      "<class 'pandas.core.frame.DataFrame'>\n",
      "RangeIndex: 9055018 entries, 0 to 9055017\n",
      "Data columns (total 15 columns):\n",
      "tripduration               int64\n",
      "starttime                  object\n",
      "stoptime                   object\n",
      "start station id           float64\n",
      "start station name         object\n",
      "start station latitude     float64\n",
      "start station longitude    float64\n",
      "end station id             float64\n",
      "end station name           object\n",
      "end station latitude       float64\n",
      "end station longitude      float64\n",
      "bikeid                     int64\n",
      "usertype                   object\n",
      "birth year                 int64\n",
      "gender                     int64\n",
      "dtypes: float64(6), int64(4), object(5)\n",
      "memory usage: 1.0+ GB\n"
     ]
    }
   ],
   "source": [
    "# Reset the Data Frame Index. Confirm that indexing is now correct and view the data types that are present.\n",
    "\n",
    "dataset=dataset.reset_index()\n",
    "dataset=dataset.drop('index', axis=1)\n",
    "dataset.info() "
   ]
  },
  {
   "cell_type": "code",
   "execution_count": 6,
   "metadata": {
    "scrolled": true
   },
   "outputs": [
    {
     "data": {
      "text/plain": [
       "tripduration                0\n",
       "starttime                   0\n",
       "stoptime                    0\n",
       "start station id           37\n",
       "start station name         37\n",
       "start station latitude      0\n",
       "start station longitude     0\n",
       "end station id             37\n",
       "end station name           37\n",
       "end station latitude        0\n",
       "end station longitude       0\n",
       "bikeid                      0\n",
       "usertype                    0\n",
       "birth year                  0\n",
       "gender                      0\n",
       "dtype: int64"
      ]
     },
     "execution_count": 6,
     "metadata": {},
     "output_type": "execute_result"
    }
   ],
   "source": [
    "# Find the NaN values in the Data Frame.\n",
    "\n",
    "dataset.isna().sum() "
   ]
  },
  {
   "cell_type": "code",
   "execution_count": 7,
   "metadata": {},
   "outputs": [],
   "source": [
    "# Isolate the NaN values in the 'start station id' column to see if the other NaN values occur in the same rows.\n",
    "\n",
    "NaN=dataset[dataset['start station id'].isna()==True] "
   ]
  },
  {
   "cell_type": "code",
   "execution_count": 8,
   "metadata": {},
   "outputs": [
    {
     "name": "stdout",
     "output_type": "stream",
     "text": [
      "<class 'pandas.core.frame.DataFrame'>\n",
      "Int64Index: 37 entries, 248490 to 3128056\n",
      "Data columns (total 15 columns):\n",
      "tripduration               37 non-null int64\n",
      "starttime                  37 non-null object\n",
      "stoptime                   37 non-null object\n",
      "start station id           0 non-null float64\n",
      "start station name         0 non-null object\n",
      "start station latitude     37 non-null float64\n",
      "start station longitude    37 non-null float64\n",
      "end station id             0 non-null float64\n",
      "end station name           0 non-null object\n",
      "end station latitude       37 non-null float64\n",
      "end station longitude      37 non-null float64\n",
      "bikeid                     37 non-null int64\n",
      "usertype                   37 non-null object\n",
      "birth year                 37 non-null int64\n",
      "gender                     37 non-null int64\n",
      "dtypes: float64(6), int64(4), object(5)\n",
      "memory usage: 4.6+ KB\n"
     ]
    }
   ],
   "source": [
    "# As per the output below, all 37 NaN values have been accounted by filtering 'start station id' column for 'NaN'.\n",
    "\n",
    "NaN.info() "
   ]
  },
  {
   "cell_type": "code",
   "execution_count": 9,
   "metadata": {},
   "outputs": [],
   "source": [
    "# Delete the 37 rows with NaN values and reset the Data Frame index.\n",
    "\n",
    "dataset=dataset.dropna() \n",
    "dataset=dataset.reset_index()\n",
    "dataset=dataset.drop('index', axis=1)"
   ]
  },
  {
   "cell_type": "code",
   "execution_count": 10,
   "metadata": {},
   "outputs": [],
   "source": [
    "# Convert the 'starttime' and 'stoptime' columns to datetime format.\n",
    "\n",
    "dataset['starttime'] = dataset.loc[:,'starttime'].apply(lambda x:dt.datetime.strptime(x,'%Y-%m-%d %H:%M:%S.%f'))\n",
    "dataset['stoptime'] = dataset.loc[:,'stoptime'].apply(lambda x:dt.datetime.strptime(x,'%Y-%m-%d %H:%M:%S.%f'))"
   ]
  },
  {
   "cell_type": "code",
   "execution_count": 11,
   "metadata": {},
   "outputs": [
    {
     "name": "stdout",
     "output_type": "stream",
     "text": [
      "<class 'pandas.core.frame.DataFrame'>\n",
      "RangeIndex: 9054981 entries, 0 to 9054980\n",
      "Data columns (total 15 columns):\n",
      "tripduration               int64\n",
      "starttime                  datetime64[ns]\n",
      "stoptime                   datetime64[ns]\n",
      "start station id           float64\n",
      "start station name         object\n",
      "start station latitude     float64\n",
      "start station longitude    float64\n",
      "end station id             float64\n",
      "end station name           object\n",
      "end station latitude       float64\n",
      "end station longitude      float64\n",
      "bikeid                     int64\n",
      "usertype                   object\n",
      "birth year                 int64\n",
      "gender                     int64\n",
      "dtypes: datetime64[ns](2), float64(6), int64(4), object(3)\n",
      "memory usage: 1.0+ GB\n"
     ]
    }
   ],
   "source": [
    "# View Data Frame info.\n",
    "\n",
    "dataset.info()"
   ]
  },
  {
   "cell_type": "code",
   "execution_count": 12,
   "metadata": {},
   "outputs": [],
   "source": [
    "# The data set no longer contains 'NaN' values and the columns have been set to an appropriate data type for analysis purposes.\n",
    "# Next, a column by column asssessment of the Data Frame to find and address outliers and values that do not make sense will be\n",
    "# performed."
   ]
  },
  {
   "cell_type": "code",
   "execution_count": 13,
   "metadata": {},
   "outputs": [
    {
     "data": {
      "text/plain": [
       "16969"
      ]
     },
     "execution_count": 13,
     "metadata": {},
     "output_type": "execute_result"
    }
   ],
   "source": [
    "# 'bikeid' Column Assessment.\n",
    "\n",
    "# This column represents the ID number for an individual bike. This column will likely not be used for cluster analysis.\n",
    "# However, .nunique() was applied to the data to confirm that the number of bikes was not unreasonable.\n",
    "\n",
    "dataset['bikeid'].nunique()"
   ]
  },
  {
   "cell_type": "code",
   "execution_count": 14,
   "metadata": {
    "scrolled": true
   },
   "outputs": [
    {
     "data": {
      "text/plain": [
       "Subscriber    7964965\n",
       "Customer      1090016\n",
       "Name: usertype, dtype: int64"
      ]
     },
     "execution_count": 14,
     "metadata": {},
     "output_type": "execute_result"
    }
   ],
   "source": [
    "# 'usertype' Column Assessment.\n",
    "\n",
    "# Citi Bike has two types of uses. \"Subscriber\" represents users with annual memberships and \"Customer\" represents users who\n",
    "# have short term passes such as 24-hour or 3-day. As per value counts, only two categories were returned and 88% of the users\n",
    "# are subscribers. \n",
    "\n",
    "dataset['usertype'].value_counts()"
   ]
  },
  {
   "cell_type": "code",
   "execution_count": 15,
   "metadata": {},
   "outputs": [
    {
     "data": {
      "text/plain": [
       "1    6304602\n",
       "2    2102794\n",
       "0     647585\n",
       "Name: gender, dtype: int64"
      ]
     },
     "execution_count": 15,
     "metadata": {},
     "output_type": "execute_result"
    }
   ],
   "source": [
    "# 'gender' Column Assessment.  \n",
    "\n",
    "# Citi Bike has three categories for 'gender'. 0 for unknown, 1 for male and 2 for female. As per value counts, only values of\n",
    "# 0, 1 & 2 were returned. 70% of users are male, 23% of users are female and for 7% of users have 'unknown' gender. \n",
    "\n",
    "dataset['gender'].value_counts()"
   ]
  },
  {
   "cell_type": "code",
   "execution_count": 16,
   "metadata": {},
   "outputs": [
    {
     "data": {
      "text/plain": [
       "count    9.054981e+06\n",
       "mean     1.979712e+03\n",
       "std      1.208265e+01\n",
       "min      1.857000e+03\n",
       "25%      1.969000e+03\n",
       "50%      1.982000e+03\n",
       "75%      1.990000e+03\n",
       "max      2.003000e+03\n",
       "Name: birth year, dtype: float64"
      ]
     },
     "execution_count": 16,
     "metadata": {},
     "output_type": "execute_result"
    }
   ],
   "source": [
    "# 'birth year' Column Assessment.\n",
    "\n",
    "# The minimum 'birth year' is 1857. This is clearly an incorrectly reported 'birth year' as humans do not live that long.\n",
    "# The minimum 'birth year' is 2003. The youngest user is 16 years old. This is in alignment with Citi Bike minimum age policy.\n",
    "# The mean 'birth year' is 1979 and the median 'birth year' is 1982.\n",
    "\n",
    "dataset['birth year'].describe()"
   ]
  },
  {
   "cell_type": "code",
   "execution_count": 17,
   "metadata": {},
   "outputs": [],
   "source": [
    "# Lets create 'age' as it is easier to visualize and understand than 'birth year'.\n",
    "\n",
    "age=2019-dataset['birth year']"
   ]
  },
  {
   "cell_type": "code",
   "execution_count": 18,
   "metadata": {},
   "outputs": [
    {
     "data": {
      "text/plain": [
       "count    9.054981e+06\n",
       "mean     3.928836e+01\n",
       "std      1.208265e+01\n",
       "min      1.600000e+01\n",
       "25%      2.900000e+01\n",
       "50%      3.700000e+01\n",
       "75%      5.000000e+01\n",
       "max      1.620000e+02\n",
       "Name: birth year, dtype: float64"
      ]
     },
     "execution_count": 18,
     "metadata": {},
     "output_type": "execute_result"
    }
   ],
   "source": [
    "age.describe()"
   ]
  },
  {
   "cell_type": "code",
   "execution_count": 19,
   "metadata": {},
   "outputs": [
    {
     "name": "stdout",
     "output_type": "stream",
     "text": [
      "80.0 %: 50.0\n",
      "90.0 %: 56.0\n",
      "95.0 %: 61.0\n",
      "97.5 %: 65.0\n",
      "99.0 %: 69.0\n",
      "99.5 %: 72.0\n",
      "99.9 %: 82.0\n",
      "99.95 %: 107.0\n"
     ]
    }
   ],
   "source": [
    "# Let's take a closer look at the percentiles for age.\n",
    "\n",
    "# 99% of users are 69 years of age or less.\n",
    "# 99.9% of user are 82 years of age or less.\n",
    "# 99.95% of users are 107 years of age or younger. This means that  (0.05% * 9,054,981) = 4527 rides were taken by users\n",
    "# with an age greater than 107. It is highly unlikley that people who are 107 years of age or more are riding these bikes.\n",
    "\n",
    "x=[.8,.9,.95,.975,.99,.995,.999,.9995]\n",
    "f=[0,0,0,0,0,0,0,0]\n",
    "\n",
    "for i,j in enumerate(x):\n",
    "    f[i] = age.quantile(j)\n",
    "    print(x[i]*100,'%:', f[i])"
   ]
  },
  {
   "cell_type": "code",
   "execution_count": 20,
   "metadata": {},
   "outputs": [],
   "source": [
    "# Based on the percentiles above and the fact that life expectancy in USA is around 79, all rides taken by people greater than \n",
    "# 80 years of age will be removed. This deletion will remove ages that have a high probability of being false.\n",
    "\n",
    "dataset.drop(dataset[dataset['birth year'] <1939].index, inplace = True) "
   ]
  },
  {
   "cell_type": "code",
   "execution_count": 21,
   "metadata": {},
   "outputs": [
    {
     "data": {
      "text/plain": [
       "count    9.043455e+06\n",
       "mean     1.979789e+03\n",
       "std      1.187467e+01\n",
       "min      1.939000e+03\n",
       "25%      1.969000e+03\n",
       "50%      1.982000e+03\n",
       "75%      1.990000e+03\n",
       "max      2.003000e+03\n",
       "Name: birth year, dtype: float64"
      ]
     },
     "execution_count": 21,
     "metadata": {},
     "output_type": "execute_result"
    }
   ],
   "source": [
    "dataset['birth year'].describe()"
   ]
  },
  {
   "cell_type": "code",
   "execution_count": 22,
   "metadata": {},
   "outputs": [
    {
     "data": {
      "text/plain": [
       "0       9043344\n",
       "3600        111\n",
       "Name: diff, dtype: int64"
      ]
     },
     "execution_count": 22,
     "metadata": {},
     "output_type": "execute_result"
    }
   ],
   "source": [
    "# 'tripduration' Column Assessment.\n",
    "\n",
    "# First, we test to see if 'tripduration' column matches the difference between the 'starttime' and 'stoptime' columns.\n",
    "\n",
    "# There are 111 entries where the difference between 'starttime' and 'stoptime' is 3600 seconds (1 hour) greater than the \n",
    "# 'tripduration' value.\n",
    "\n",
    "dataset['delta']=dataset['stoptime']-dataset['starttime']\n",
    "dataset['delta']=dataset['delta'].dt.total_seconds() \n",
    "dataset['delta']=dataset['delta'].astype('int64')\n",
    "dataset['diff']=dataset['delta']-dataset['tripduration']\n",
    "dataset['diff'].value_counts()"
   ]
  },
  {
   "cell_type": "code",
   "execution_count": 23,
   "metadata": {},
   "outputs": [],
   "source": [
    "# setting 'tripduration' equal to 'delta' will readily correct this issue.\n",
    "\n",
    "dataset['tripduration']=dataset['delta']"
   ]
  },
  {
   "cell_type": "code",
   "execution_count": 24,
   "metadata": {},
   "outputs": [],
   "source": [
    "# Let's get rid of 'delta' and 'diff' columns as they are not longer needed.\n",
    "\n",
    "dataset.drop(dataset[['delta','diff']], axis=1, inplace = True) "
   ]
  },
  {
   "cell_type": "code",
   "execution_count": 25,
   "metadata": {},
   "outputs": [],
   "source": [
    "# From https://help.citibikenyc.com/hc/en-us/articles/115007359668-There-s-an-unknown-charge-in-my-account:\n",
    "\n",
    "# \"Lost Bike Charge - If you have kept a bike out for more than 24 hours at a time, it is considered lost or stolen \n",
    "# and there is a fee of $1200 (+ tax). This can also happen if you did not dock your bike properly, so your ride \n",
    "# stayed open, and someone else took the bike and has not returned it.\"\n",
    "\n",
    "# Based on the \"Lost Bike Charge\" policy and the docking issue described, all durations greater than 24 hours will be removed.\n",
    "\n",
    "dataset.drop(dataset[dataset['tripduration'] >86400].index, inplace = True) "
   ]
  },
  {
   "cell_type": "code",
   "execution_count": 26,
   "metadata": {},
   "outputs": [
    {
     "data": {
      "text/plain": [
       "count    9.040227e+06\n",
       "mean     8.506236e+02\n",
       "std      1.447649e+03\n",
       "min      6.100000e+01\n",
       "25%      3.510000e+02\n",
       "50%      5.980000e+02\n",
       "75%      1.059000e+03\n",
       "max      8.639200e+04\n",
       "Name: tripduration, dtype: float64"
      ]
     },
     "execution_count": 26,
     "metadata": {},
     "output_type": "execute_result"
    }
   ],
   "source": [
    "# Let's see what the data looks like now that all trips over 24 hours have been removed.\n",
    "\n",
    "# Min = 61s. (Citi Bike indicated on their website that all trips under 1 minute were removed from the data as they were \n",
    "# assumed to be false starts or users redocking a bike to confirm that it is secure.)\n",
    "\n",
    "# Mean = 850s (14.2 minutes) and Median = 598s (~10 minutes) and std = 1447s (24.11 minutes)\n",
    "\n",
    "dataset['tripduration'].describe()"
   ]
  },
  {
   "cell_type": "code",
   "execution_count": 27,
   "metadata": {
    "scrolled": false
   },
   "outputs": [
    {
     "name": "stdout",
     "output_type": "stream",
     "text": [
      "80.0 %: 1217.0\n",
      "85.0 %: 1414.0\n",
      "90.0 %: 1671.0\n",
      "95.0 %: 2104.0\n",
      "96.0 %: 2245.0\n",
      "97.0 %: 2423.0\n",
      "98.0 %: 2676.0\n",
      "99.0 %: 3451.0\n",
      "99.25 %: 3934.0\n",
      "99.5 %: 4864.0\n",
      "99.75 %: 7305.4350000005215\n"
     ]
    }
   ],
   "source": [
    "# Lets take a look at the higher percentile values.\n",
    "\n",
    "# 80% of all trips are 20 minutes or less.\n",
    "# 99% of all trips are 57.5 minutes or less.\n",
    "\n",
    "x=[.80,.85,.90,.95,.96,.97,.98,.99,.9925,.9950,.9975]\n",
    "f=[0,0,0,0,0,0,0,0,0,0,0]\n",
    "\n",
    "for i,j in enumerate(x):\n",
    "    f[i] = dataset['tripduration'].quantile(j)\n",
    "    print(x[i]*100,'%:', f[i])"
   ]
  },
  {
   "cell_type": "code",
   "execution_count": 28,
   "metadata": {},
   "outputs": [
    {
     "data": {
      "text/plain": [
       "Text(0, 0.5, 'Cummulative Probability')"
      ]
     },
     "execution_count": 28,
     "metadata": {},
     "output_type": "execute_result"
    },
    {
     "data": {
      "image/png": "[encoded data removed]",
      "text/plain": [
       "<Figure size 432x288 with 1 Axes>"
      ]
     },
     "metadata": {
      "needs_background": "light"
     },
     "output_type": "display_data"
    }
   ],
   "source": [
    "# Cummulative distribution plot\n",
    "\n",
    "plt.hist(x=dataset['tripduration'],bins=1000,cumulative=True)\n",
    "plt.xticks([0,600,1200,1800,2400,3000,3600,4200,4800,6000,7200])\n",
    "plt.xlim(0, 7200)\n",
    "plt.xlabel('Duration of trip (s)')\n",
    "plt.ylabel('Cummulative Probability')"
   ]
  },
  {
   "cell_type": "code",
   "execution_count": 29,
   "metadata": {},
   "outputs": [
    {
     "data": {
      "text/plain": [
       "Text(0, 0.5, 'Number of Occurrences')"
      ]
     },
     "execution_count": 29,
     "metadata": {},
     "output_type": "execute_result"
    },
    {
     "data": {
      "image/png": "[encoded data removed]",
      "text/plain": [
       "<Figure size 432x288 with 1 Axes>"
      ]
     },
     "metadata": {
      "needs_background": "light"
     },
     "output_type": "display_data"
    }
   ],
   "source": [
    "# Histogram of trips.\n",
    "\n",
    "plt.hist(x=dataset['tripduration'],bins=1000)\n",
    "plt.xticks([0,600,1200,1800,2400,3000,3600,4200,4800,6000,7200])\n",
    "plt.xlim(0, 7200)\n",
    "plt.xlabel('Duration of trip (s)')\n",
    "plt.ylabel('Number of Occurrences')"
   ]
  },
  {
   "cell_type": "code",
   "execution_count": 30,
   "metadata": {},
   "outputs": [],
   "source": [
    "# Based on the information shown above, lets remove all trips greater than 1 hour.\n",
    "# Such a removal will get rid of approximately 1% of the data.\n",
    "\n",
    "# Rationale: As per Citi Bike website, 30 minute rides are included in the cost of the pass for 24-hour and 3-day pass holders.\n",
    "# If a ride goes beyond 30 minutes, late charges of $4.00 for each additional 15 minutes are applied. For the annual subscribers,\n",
    "# 45 minute rides are allowed. If a ride exceeds 45 minutes, then late charges of $2.50 for each additional 15 minutes are applied. \n",
    "# \n",
    "# Based on this fee structure, annual subscribers who take out a bike for an entire hour are charged 2.50 in late fees.\n",
    "# If a pass holder takes out a bike for one hour, they are charged 8.00 in late fees.\n",
    "# Thus, a two hour bike trip would result in 12.50 and 20.00 in late charges for annual subscribers and pass holders respectively.\n",
    "# Due to the availability of bikes and the close promixity of stations to each other, the user is better off just swapping\n",
    "# bikes to initiate a new trip prior to exceeding the time limit rather than incurring late charges.\n",
    "#\n",
    "# As the reported duration of the trip increases, the likelihood that the bike was incorrectly docked and then used by a\n",
    "# second user increases. Thus, it is suspected that many trips beyond one hour are the result of improperly docked bikes \n",
    "# being taken by a second user and then returned to a different station.\n",
    "# \n",
    "# Thus, removing all trips over one hour has been deemed to be reasonable. \n",
    "\n",
    "dataset.drop(dataset[dataset['tripduration'] >3600].index, inplace = True) "
   ]
  },
  {
   "cell_type": "code",
   "execution_count": 31,
   "metadata": {
    "scrolled": true
   },
   "outputs": [
    {
     "data": {
      "text/plain": [
       "count                        8958600\n",
       "unique                       8953853\n",
       "top       2019-04-08 17:01:41.695000\n",
       "freq                               3\n",
       "first     2019-01-01 00:01:47.401000\n",
       "last      2019-06-30 23:59:54.367000\n",
       "Name: starttime, dtype: object"
      ]
     },
     "execution_count": 31,
     "metadata": {},
     "output_type": "execute_result"
    }
   ],
   "source": [
    "# 'starttime' Column Assessment\n",
    "\n",
    "# All start times are within the six month time frame that the data is supposed to cover.\n",
    "# First and last start time are very close to start and end of the range.\n",
    "\n",
    "dataset['starttime'].describe()"
   ]
  },
  {
   "cell_type": "code",
   "execution_count": 32,
   "metadata": {
    "scrolled": true
   },
   "outputs": [
    {
     "data": {
      "text/plain": [
       "count                        8958600\n",
       "unique                       8953778\n",
       "top       2019-06-03 08:53:45.694000\n",
       "freq                               3\n",
       "first     2019-01-01 00:07:07.581000\n",
       "last      2019-07-01 00:41:33.019000\n",
       "Name: stoptime, dtype: object"
      ]
     },
     "execution_count": 32,
     "metadata": {},
     "output_type": "execute_result"
    }
   ],
   "source": [
    "# 'stoptime' Column Assessment  \n",
    "\n",
    "# Some of the trips that have a 'starttime' inside the six month range have a 'stoptime' outside of the six month range.\n",
    "\n",
    "dataset['stoptime'].describe()"
   ]
  },
  {
   "cell_type": "code",
   "execution_count": 33,
   "metadata": {},
   "outputs": [],
   "source": [
    "# For simplicity in describing the dataset, lets get rid of the trips that end outside of the six month range.\n",
    "# The dataset can then be descibed as \"all trips less than one hour starting and ending between January 1, 2019 and June 30,\n",
    "# 2019 inclusive\".\n",
    "\n",
    "dataset.drop(dataset[dataset['stoptime'] >= '2019-07-01 00:00:00'].index, inplace = True) "
   ]
  },
  {
   "cell_type": "code",
   "execution_count": 34,
   "metadata": {
    "scrolled": false
   },
   "outputs": [
    {
     "data": {
      "text/plain": [
       "count                        8958352\n",
       "unique                       8953530\n",
       "top       2019-06-03 08:53:45.694000\n",
       "freq                               3\n",
       "first     2019-01-01 00:07:07.581000\n",
       "last      2019-06-30 23:59:58.809000\n",
       "Name: stoptime, dtype: object"
      ]
     },
     "execution_count": 34,
     "metadata": {},
     "output_type": "execute_result"
    }
   ],
   "source": [
    "# As per below, only 248 trips have been removed.\n",
    "\n",
    "dataset['stoptime'].describe()"
   ]
  },
  {
   "cell_type": "code",
   "execution_count": 35,
   "metadata": {},
   "outputs": [
    {
     "data": {
      "text/plain": [
       "820"
      ]
     },
     "execution_count": 35,
     "metadata": {},
     "output_type": "execute_result"
    }
   ],
   "source": [
    "# 'start station id', 'start station name', 'start station latitude','start station longitude' Column Assessments.    \n",
    "\n",
    "# There are 820 'start station id' values.\n",
    "\n",
    "dataset['start station id'].nunique()"
   ]
  },
  {
   "cell_type": "code",
   "execution_count": 36,
   "metadata": {},
   "outputs": [
    {
     "data": {
      "text/plain": [
       "821"
      ]
     },
     "execution_count": 36,
     "metadata": {},
     "output_type": "execute_result"
    }
   ],
   "source": [
    "# There are 821 'start station name' values despite the fact that there are only 820 'start station id' values.\n",
    "\n",
    "dataset['start station name'].nunique()"
   ]
  },
  {
   "cell_type": "code",
   "execution_count": 37,
   "metadata": {},
   "outputs": [
    {
     "data": {
      "text/plain": [
       "822"
      ]
     },
     "execution_count": 37,
     "metadata": {},
     "output_type": "execute_result"
    }
   ],
   "source": [
    "# There are 822 'start station latitude' values despite the fact that there are only 820 'start station id' values.\n",
    "\n",
    "dataset['start station latitude'].nunique()"
   ]
  },
  {
   "cell_type": "code",
   "execution_count": 38,
   "metadata": {},
   "outputs": [
    {
     "data": {
      "text/plain": [
       "822"
      ]
     },
     "execution_count": 38,
     "metadata": {},
     "output_type": "execute_result"
    }
   ],
   "source": [
    "# There are 822 'start station longitude' values despite the fact that there are only 820 'start station id' values.\n",
    "\n",
    "dataset['start station longitude'].nunique()"
   ]
  },
  {
   "cell_type": "code",
   "execution_count": 39,
   "metadata": {},
   "outputs": [],
   "source": [
    "# Let's investigate the discrepancies. \n",
    "# Unique combinations of 'start station id','start station name','start station latitude','start station longitude' are isolated \n",
    "\n",
    "sskey=dataset[['start station id','start station name','start station latitude','start station longitude']].copy()\n",
    "sskey=sskey.drop_duplicates()"
   ]
  },
  {
   "cell_type": "code",
   "execution_count": 40,
   "metadata": {
    "scrolled": true
   },
   "outputs": [
    {
     "name": "stdout",
     "output_type": "stream",
     "text": [
      "<class 'pandas.core.frame.DataFrame'>\n",
      "RangeIndex: 825 entries, 0 to 824\n",
      "Data columns (total 4 columns):\n",
      "start station id           825 non-null float64\n",
      "start station name         825 non-null object\n",
      "start station latitude     825 non-null float64\n",
      "start station longitude    825 non-null float64\n",
      "dtypes: float64(3), object(1)\n",
      "memory usage: 25.9+ KB\n"
     ]
    }
   ],
   "source": [
    "# Sort the unique combinations based on ascending 'start station id'.\n",
    "\n",
    "# There are 825 unique combinations.\n",
    "\n",
    "sskey.sort_values('start station id')\n",
    "sskey=sskey.reset_index()\n",
    "sskey=sskey.drop('index', axis=1)\n",
    "sskey.info()"
   ]
  },
  {
   "cell_type": "code",
   "execution_count": 41,
   "metadata": {},
   "outputs": [
    {
     "data": {
      "text/plain": [
       "3243.0    2\n",
       "243.0     2\n",
       "3701.0    2\n",
       "3466.0    2\n",
       "3727.0    2\n",
       "3567.0    1\n",
       "Name: start station id, dtype: int64"
      ]
     },
     "execution_count": 41,
     "metadata": {},
     "output_type": "execute_result"
    }
   ],
   "source": [
    "# Identify the repeat values of 'start station id' in the unique combinations.\n",
    "\n",
    "sskey['start station id'].value_counts().head(6)"
   ]
  },
  {
   "cell_type": "code",
   "execution_count": 42,
   "metadata": {},
   "outputs": [
    {
     "data": {
      "text/plain": [
       "Fulton St & Rockwell Pl    2\n",
       "W 45 St & 6 Ave            2\n",
       "Cliff St & Fulton St       2\n",
       "Frost St & Meeker Ave      2\n",
       "Bushwick Ave & Stagg St    1\n",
       "Name: start station name, dtype: int64"
      ]
     },
     "execution_count": 42,
     "metadata": {},
     "output_type": "execute_result"
    }
   ],
   "source": [
    "# Identify the repeat values of 'start station name' in the unique combinations.\n",
    "\n",
    "sskey['start station name'].value_counts().head(5)"
   ]
  },
  {
   "cell_type": "code",
   "execution_count": 43,
   "metadata": {},
   "outputs": [
    {
     "data": {
      "text/plain": [
       "40.756687    2\n",
       "40.708318    2\n",
       "40.758924    2\n",
       "40.777057    1\n",
       "Name: start station latitude, dtype: int64"
      ]
     },
     "execution_count": 43,
     "metadata": {},
     "output_type": "execute_result"
    }
   ],
   "source": [
    "# Identify the repeat values of 'start station latitude' in the unique combinations.\n",
    "\n",
    "sskey['start station latitude'].value_counts().head(4)"
   ]
  },
  {
   "cell_type": "code",
   "execution_count": 44,
   "metadata": {},
   "outputs": [
    {
     "data": {
      "text/plain": [
       "-74.005041    2\n",
       "-73.962262    2\n",
       "-73.982577    2\n",
       "-73.932145    1\n",
       "Name: start station longitude, dtype: int64"
      ]
     },
     "execution_count": 44,
     "metadata": {},
     "output_type": "execute_result"
    }
   ],
   "source": [
    "# Identify the repeat values of 'start station longitude' in the unique combinations.\n",
    "\n",
    "sskey['start station longitude'].value_counts().head(4)"
   ]
  },
  {
   "cell_type": "code",
   "execution_count": 45,
   "metadata": {},
   "outputs": [],
   "source": [
    "# 'station start id' has the most duplicate values. This list will be used to isolate the unique combinations\n",
    "# that have a 'station start id' that has been used more than once.\n",
    "\n",
    "dup=[3243.0, 243.0, 3701.0, 3466.0, 3727.0]"
   ]
  },
  {
   "cell_type": "code",
   "execution_count": 46,
   "metadata": {
    "scrolled": true
   },
   "outputs": [
    {
     "data": {
      "text/html": [
       "<div>\n",
       "<style scoped>\n",
       "    .dataframe tbody tr th:only-of-type {\n",
       "        vertical-align: middle;\n",
       "    }\n",
       "\n",
       "    .dataframe tbody tr th {\n",
       "        vertical-align: top;\n",
       "    }\n",
       "\n",
       "    .dataframe thead th {\n",
       "        text-align: right;\n",
       "    }\n",
       "</style>\n",
       "<table border=\"1\" class=\"dataframe\">\n",
       "  <thead>\n",
       "    <tr style=\"text-align: right;\">\n",
       "      <th></th>\n",
       "      <th>start station id</th>\n",
       "      <th>start station name</th>\n",
       "      <th>start station latitude</th>\n",
       "      <th>start station longitude</th>\n",
       "    </tr>\n",
       "  </thead>\n",
       "  <tbody>\n",
       "    <tr>\n",
       "      <th>0</th>\n",
       "      <td>243.0</td>\n",
       "      <td>Fulton St &amp; Rockwell Pl</td>\n",
       "      <td>40.68822600</td>\n",
       "      <td>-73.97938200</td>\n",
       "    </tr>\n",
       "    <tr>\n",
       "      <th>1</th>\n",
       "      <td>243.0</td>\n",
       "      <td>Fulton St &amp; Rockwell Pl</td>\n",
       "      <td>40.68841000</td>\n",
       "      <td>-73.97945800</td>\n",
       "    </tr>\n",
       "    <tr>\n",
       "      <th>2</th>\n",
       "      <td>3243.0</td>\n",
       "      <td>E 58 St &amp; 1 Ave</td>\n",
       "      <td>40.75892386</td>\n",
       "      <td>-73.96226227</td>\n",
       "    </tr>\n",
       "    <tr>\n",
       "      <th>3</th>\n",
       "      <td>3243.0</td>\n",
       "      <td>E 58 St &amp; 1 Ave (NE Corner)</td>\n",
       "      <td>40.75892386</td>\n",
       "      <td>-73.96226227</td>\n",
       "    </tr>\n",
       "    <tr>\n",
       "      <th>4</th>\n",
       "      <td>3466.0</td>\n",
       "      <td>W 45 St &amp; 6 Ave</td>\n",
       "      <td>40.75668721</td>\n",
       "      <td>-73.98257732</td>\n",
       "    </tr>\n",
       "    <tr>\n",
       "      <th>5</th>\n",
       "      <td>3466.0</td>\n",
       "      <td>W 45 St &amp; 6 Ave -</td>\n",
       "      <td>40.75668721</td>\n",
       "      <td>-73.98257732</td>\n",
       "    </tr>\n",
       "    <tr>\n",
       "      <th>6</th>\n",
       "      <td>3701.0</td>\n",
       "      <td>Cliff St &amp; Fulton St</td>\n",
       "      <td>40.70831794</td>\n",
       "      <td>-74.00504082</td>\n",
       "    </tr>\n",
       "    <tr>\n",
       "      <th>7</th>\n",
       "      <td>3701.0</td>\n",
       "      <td>Cliff St &amp; Fulton St (Old)</td>\n",
       "      <td>40.70831794</td>\n",
       "      <td>-74.00504082</td>\n",
       "    </tr>\n",
       "    <tr>\n",
       "      <th>8</th>\n",
       "      <td>3727.0</td>\n",
       "      <td>Frost St &amp; Meeker Ave</td>\n",
       "      <td>40.71784798</td>\n",
       "      <td>-73.94752018</td>\n",
       "    </tr>\n",
       "    <tr>\n",
       "      <th>9</th>\n",
       "      <td>3727.0</td>\n",
       "      <td>Frost St &amp; Meeker Ave</td>\n",
       "      <td>40.71766197</td>\n",
       "      <td>-73.94880027</td>\n",
       "    </tr>\n",
       "  </tbody>\n",
       "</table>\n",
       "</div>"
      ],
      "text/plain": [
       "   start station id           start station name  start station latitude  \\\n",
       "0             243.0      Fulton St & Rockwell Pl             40.68822600   \n",
       "1             243.0      Fulton St & Rockwell Pl             40.68841000   \n",
       "2            3243.0              E 58 St & 1 Ave             40.75892386   \n",
       "3            3243.0  E 58 St & 1 Ave (NE Corner)             40.75892386   \n",
       "4            3466.0              W 45 St & 6 Ave             40.75668721   \n",
       "5            3466.0            W 45 St & 6 Ave -             40.75668721   \n",
       "6            3701.0         Cliff St & Fulton St             40.70831794   \n",
       "7            3701.0   Cliff St & Fulton St (Old)             40.70831794   \n",
       "8            3727.0        Frost St & Meeker Ave             40.71784798   \n",
       "9            3727.0        Frost St & Meeker Ave             40.71766197   \n",
       "\n",
       "   start station longitude  \n",
       "0             -73.97938200  \n",
       "1             -73.97945800  \n",
       "2             -73.96226227  \n",
       "3             -73.96226227  \n",
       "4             -73.98257732  \n",
       "5             -73.98257732  \n",
       "6             -74.00504082  \n",
       "7             -74.00504082  \n",
       "8             -73.94752018  \n",
       "9             -73.94880027  "
      ]
     },
     "execution_count": 46,
     "metadata": {},
     "output_type": "execute_result"
    }
   ],
   "source": [
    "# Print out of the duplicate unique combinations with 'station start id' duplicated.\n",
    "\n",
    "# From the table below, we make the following observations:\n",
    "\n",
    "# 243.0 - latitude and longitude are different. Station names are the same.\n",
    "# 3243.0 - latitude and longitude are the same. Station names are different. \n",
    "# 3466.0 - latitude and longitude are the same. Station names are different. \n",
    "# 3701.0 - latitude and longitude are the same. Station names are different. \n",
    "# 3727.0 - latitude and longitude are different. Station names are the same.\n",
    "\n",
    "pd.set_option(\"display.precision\", 8)\n",
    "ssDUP=sskey.loc[sskey['start station id'].isin(dup)==True].sort_values('start station id')\n",
    "ssDUP=ssDUP.reset_index()\n",
    "ssDUP=ssDUP.drop('index', axis=1)\n",
    "ssDUP\n"
   ]
  },
  {
   "cell_type": "code",
   "execution_count": 47,
   "metadata": {},
   "outputs": [],
   "source": [
    "# For \"clean data\" purposes, stations with different coordinates should have different 'start station id' numbers. \n",
    "# We will not change 'start station names' as unique 'station start id' values are sufficient.\n",
    "# Any filtering will be performed using 'start station id' column."
   ]
  },
  {
   "cell_type": "code",
   "execution_count": 48,
   "metadata": {},
   "outputs": [
    {
     "name": "stdout",
     "output_type": "stream",
     "text": [
      "3795.0\n"
     ]
    }
   ],
   "source": [
    "# Determine maximum 'start station id' so new id numbers can be established to apply to 243 and 3727 cases. \n",
    "\n",
    "# new id numbers will be 4444 and 5555. \n",
    "\n",
    "print(sskey['start station id'].max())"
   ]
  },
  {
   "cell_type": "code",
   "execution_count": 49,
   "metadata": {},
   "outputs": [
    {
     "name": "stdout",
     "output_type": "stream",
     "text": [
      "40.688226\n",
      "-73.979382\n"
     ]
    }
   ],
   "source": [
    "# Save the latitude and longitude of the row 0 instance of 243 'start station id'\n",
    "\n",
    "latsave=ssDUP.iloc[0,2]\n",
    "longsave=ssDUP.iloc[0,3]\n",
    "print(latsave)\n",
    "print(longsave)"
   ]
  },
  {
   "cell_type": "code",
   "execution_count": 50,
   "metadata": {},
   "outputs": [],
   "source": [
    "# Assign '4444' to the 'start station id' for instances of 'start station id' 243.0 with latsave and longsave as its coordinates.\n",
    "\n",
    "mask = (dataset['start station id'] == 243.0) & (dataset['start station latitude'] == latsave) & (dataset['start station longitude']==longsave)\n",
    "dataset['start station id'] = dataset['start station id'].mask(mask, 4444)"
   ]
  },
  {
   "cell_type": "code",
   "execution_count": 51,
   "metadata": {},
   "outputs": [
    {
     "name": "stdout",
     "output_type": "stream",
     "text": [
      "40.71784798417728\n",
      "-73.94752018153667\n"
     ]
    }
   ],
   "source": [
    "# Save the latitude and longitude of the row 8 instance of 3727 'start station id'\n",
    "\n",
    "latsave=ssDUP.iloc[8,2]\n",
    "longsave=ssDUP.iloc[8,3]\n",
    "print(latsave)\n",
    "print(longsave)"
   ]
  },
  {
   "cell_type": "code",
   "execution_count": 52,
   "metadata": {},
   "outputs": [],
   "source": [
    "# Assign '5555' to the 'start station id' for instances of 'start station id' 3727 with latsave and longsave as its coordinates.\n",
    "\n",
    "mask = (dataset['start station id'] == 3727.0) & (dataset['start station latitude'] == latsave) & (dataset['start station longitude']==longsave)\n",
    "dataset['start station id'] = dataset['start station id'].mask(mask, 5555)"
   ]
  },
  {
   "cell_type": "code",
   "execution_count": 53,
   "metadata": {},
   "outputs": [],
   "source": [
    "# Inspection of the ssDUP table indicates that two of the duplicate 'start station names' were \n",
    "# not captured when filtering for duplicate 'start station ids'. \n",
    "\n",
    "rep=['W 45 St & 6 Ave','Cliff St & Fulton St']"
   ]
  },
  {
   "cell_type": "code",
   "execution_count": 54,
   "metadata": {},
   "outputs": [
    {
     "data": {
      "text/html": [
       "<div>\n",
       "<style scoped>\n",
       "    .dataframe tbody tr th:only-of-type {\n",
       "        vertical-align: middle;\n",
       "    }\n",
       "\n",
       "    .dataframe tbody tr th {\n",
       "        vertical-align: top;\n",
       "    }\n",
       "\n",
       "    .dataframe thead th {\n",
       "        text-align: right;\n",
       "    }\n",
       "</style>\n",
       "<table border=\"1\" class=\"dataframe\">\n",
       "  <thead>\n",
       "    <tr style=\"text-align: right;\">\n",
       "      <th></th>\n",
       "      <th>start station id</th>\n",
       "      <th>start station name</th>\n",
       "      <th>start station latitude</th>\n",
       "      <th>start station longitude</th>\n",
       "    </tr>\n",
       "  </thead>\n",
       "  <tbody>\n",
       "    <tr>\n",
       "      <th>0</th>\n",
       "      <td>493.0</td>\n",
       "      <td>W 45 St &amp; 6 Ave</td>\n",
       "      <td>40.75680010</td>\n",
       "      <td>-73.98291153</td>\n",
       "    </tr>\n",
       "    <tr>\n",
       "      <th>1</th>\n",
       "      <td>3466.0</td>\n",
       "      <td>W 45 St &amp; 6 Ave</td>\n",
       "      <td>40.75668721</td>\n",
       "      <td>-73.98257732</td>\n",
       "    </tr>\n",
       "    <tr>\n",
       "      <th>2</th>\n",
       "      <td>3701.0</td>\n",
       "      <td>Cliff St &amp; Fulton St</td>\n",
       "      <td>40.70831794</td>\n",
       "      <td>-74.00504082</td>\n",
       "    </tr>\n",
       "    <tr>\n",
       "      <th>3</th>\n",
       "      <td>3783.0</td>\n",
       "      <td>Cliff St &amp; Fulton St</td>\n",
       "      <td>40.70838000</td>\n",
       "      <td>-74.00495000</td>\n",
       "    </tr>\n",
       "  </tbody>\n",
       "</table>\n",
       "</div>"
      ],
      "text/plain": [
       "   start station id    start station name  start station latitude  \\\n",
       "0             493.0       W 45 St & 6 Ave             40.75680010   \n",
       "1            3466.0       W 45 St & 6 Ave             40.75668721   \n",
       "2            3701.0  Cliff St & Fulton St             40.70831794   \n",
       "3            3783.0  Cliff St & Fulton St             40.70838000   \n",
       "\n",
       "   start station longitude  \n",
       "0             -73.98291153  \n",
       "1             -73.98257732  \n",
       "2             -74.00504082  \n",
       "3             -74.00495000  "
      ]
     },
     "execution_count": 54,
     "metadata": {},
     "output_type": "execute_result"
    }
   ],
   "source": [
    "# Isolate and inspect the duplicate 'start station names'\n",
    "\n",
    "# Cliff St & Fulton St - latitude and longitude are different. \n",
    "# W 45 St & 6 Ave - latitude and longitude are different. \n",
    "\n",
    "# On the basis that each of the four 'start station id' in the table below has a unique set of coordinates, these 'start station\n",
    "# id' will be left \"as is\". \n",
    "\n",
    "snDUP=sskey.loc[sskey['start station name'].isin(rep)==True].sort_values('start station id')\n",
    "snDUP=snDUP.reset_index()\n",
    "snDUP=snDUP.drop('index', axis=1)\n",
    "snDUP"
   ]
  },
  {
   "cell_type": "code",
   "execution_count": 55,
   "metadata": {
    "scrolled": true
   },
   "outputs": [
    {
     "data": {
      "text/plain": [
       "837"
      ]
     },
     "execution_count": 55,
     "metadata": {},
     "output_type": "execute_result"
    }
   ],
   "source": [
    "# 'end station id', 'end station name', 'end station latitude','end station longitude' Column Assessments   \n",
    "\n",
    "# There are 837 'end station id' values despite the fact that there are 820 'start station id' values.\n",
    "\n",
    "dataset['end station id'].nunique()"
   ]
  },
  {
   "cell_type": "code",
   "execution_count": 56,
   "metadata": {},
   "outputs": [
    {
     "data": {
      "text/plain": [
       "838"
      ]
     },
     "execution_count": 56,
     "metadata": {},
     "output_type": "execute_result"
    }
   ],
   "source": [
    "# There are 838 'end station name' values despite the fact that there are only 837 'end station id' values.\n",
    "\n",
    "dataset['end station name'].nunique()"
   ]
  },
  {
   "cell_type": "code",
   "execution_count": 57,
   "metadata": {},
   "outputs": [
    {
     "data": {
      "text/plain": [
       "839"
      ]
     },
     "execution_count": 57,
     "metadata": {},
     "output_type": "execute_result"
    }
   ],
   "source": [
    "# There are 839 'end station latitude' values despite the fact that there are only 837 'end station id' values.\n",
    "\n",
    "dataset['end station latitude'].nunique()"
   ]
  },
  {
   "cell_type": "code",
   "execution_count": 58,
   "metadata": {},
   "outputs": [
    {
     "data": {
      "text/plain": [
       "839"
      ]
     },
     "execution_count": 58,
     "metadata": {},
     "output_type": "execute_result"
    }
   ],
   "source": [
    "# There are 839 'start station longitude' values despite the fact that there are only 837 'end station id' values.\n",
    "\n",
    "dataset['end station longitude'].nunique()"
   ]
  },
  {
   "cell_type": "code",
   "execution_count": 59,
   "metadata": {},
   "outputs": [],
   "source": [
    "# Let's investigate the discrepancies. \n",
    "# Unique combinations of 'end station id','end station name','end station latitude', 'end station longitude' are isolated.\n",
    "\n",
    "eskey=dataset[['end station id','end station name','end station latitude','end station longitude']].copy()\n",
    "eskey=eskey.drop_duplicates()"
   ]
  },
  {
   "cell_type": "code",
   "execution_count": 60,
   "metadata": {},
   "outputs": [
    {
     "name": "stdout",
     "output_type": "stream",
     "text": [
      "<class 'pandas.core.frame.DataFrame'>\n",
      "RangeIndex: 842 entries, 0 to 841\n",
      "Data columns (total 4 columns):\n",
      "end station id           842 non-null float64\n",
      "end station name         842 non-null object\n",
      "end station latitude     842 non-null float64\n",
      "end station longitude    842 non-null float64\n",
      "dtypes: float64(3), object(1)\n",
      "memory usage: 26.4+ KB\n"
     ]
    }
   ],
   "source": [
    "# Sort the unique combinations based on ascending 'end station id'.\n",
    "\n",
    "# There are 842 unique combinations.\n",
    "\n",
    "eskey.sort_values('end station id')\n",
    "eskey=eskey.reset_index()\n",
    "eskey=eskey.drop('index', axis=1)\n",
    "eskey.info()"
   ]
  },
  {
   "cell_type": "code",
   "execution_count": 61,
   "metadata": {
    "scrolled": true
   },
   "outputs": [
    {
     "data": {
      "text/plain": [
       "3466.0    2\n",
       "3243.0    2\n",
       "3727.0    2\n",
       "3701.0    2\n",
       "243.0     2\n",
       "3395.0    1\n",
       "Name: end station id, dtype: int64"
      ]
     },
     "execution_count": 61,
     "metadata": {},
     "output_type": "execute_result"
    }
   ],
   "source": [
    "# Identify the repeat values of 'end station id' in the unique combinations.\n",
    "\n",
    "eskey['end station id'].value_counts().head(6)"
   ]
  },
  {
   "cell_type": "code",
   "execution_count": 62,
   "metadata": {},
   "outputs": [
    {
     "data": {
      "text/plain": [
       "W 45 St & 6 Ave            2\n",
       "Frost St & Meeker Ave      2\n",
       "Cliff St & Fulton St       2\n",
       "Fulton St & Rockwell Pl    2\n",
       "Union St & Bedford Ave     1\n",
       "Name: end station name, dtype: int64"
      ]
     },
     "execution_count": 62,
     "metadata": {},
     "output_type": "execute_result"
    }
   ],
   "source": [
    "# Identify the repeat values of 'end station name' in the unique combinations.\n",
    "\n",
    "eskey['end station name'].value_counts().head(5)"
   ]
  },
  {
   "cell_type": "code",
   "execution_count": 63,
   "metadata": {},
   "outputs": [
    {
     "data": {
      "text/plain": [
       "40.75892386    2\n",
       "40.70831794    2\n",
       "40.75668721    2\n",
       "40.77705750    1\n",
       "Name: end station latitude, dtype: int64"
      ]
     },
     "execution_count": 63,
     "metadata": {},
     "output_type": "execute_result"
    }
   ],
   "source": [
    "# Identify the repeat values of 'end station latitude' in the unique combinations.\n",
    "\n",
    "eskey['end station latitude'].value_counts().head(4)"
   ]
  },
  {
   "cell_type": "code",
   "execution_count": 64,
   "metadata": {
    "scrolled": true
   },
   "outputs": [
    {
     "data": {
      "text/plain": [
       "-73.96226227    2\n",
       "-73.98257732    2\n",
       "-74.00504082    2\n",
       "-73.96648977    1\n",
       "Name: end station longitude, dtype: int64"
      ]
     },
     "execution_count": 64,
     "metadata": {},
     "output_type": "execute_result"
    }
   ],
   "source": [
    "# Identify the repeat values of 'end station longitude' in the unique combinations.\n",
    "\n",
    "eskey['end station longitude'].value_counts().head(4)"
   ]
  },
  {
   "cell_type": "code",
   "execution_count": 65,
   "metadata": {},
   "outputs": [],
   "source": [
    "# 'end station id' has the most duplicate values. This list will be used to isolate the unique combinations\n",
    "# that have a 'end station id' that has been used more than once.\n",
    "\n",
    "dup=[3243.0, 243.0, 3701.0, 3466.0, 3727.0]"
   ]
  },
  {
   "cell_type": "code",
   "execution_count": 66,
   "metadata": {
    "scrolled": true
   },
   "outputs": [
    {
     "data": {
      "text/html": [
       "<div>\n",
       "<style scoped>\n",
       "    .dataframe tbody tr th:only-of-type {\n",
       "        vertical-align: middle;\n",
       "    }\n",
       "\n",
       "    .dataframe tbody tr th {\n",
       "        vertical-align: top;\n",
       "    }\n",
       "\n",
       "    .dataframe thead th {\n",
       "        text-align: right;\n",
       "    }\n",
       "</style>\n",
       "<table border=\"1\" class=\"dataframe\">\n",
       "  <thead>\n",
       "    <tr style=\"text-align: right;\">\n",
       "      <th></th>\n",
       "      <th>end station id</th>\n",
       "      <th>end station name</th>\n",
       "      <th>end station latitude</th>\n",
       "      <th>end station longitude</th>\n",
       "    </tr>\n",
       "  </thead>\n",
       "  <tbody>\n",
       "    <tr>\n",
       "      <th>0</th>\n",
       "      <td>243.0</td>\n",
       "      <td>Fulton St &amp; Rockwell Pl</td>\n",
       "      <td>40.68822600</td>\n",
       "      <td>-73.97938200</td>\n",
       "    </tr>\n",
       "    <tr>\n",
       "      <th>1</th>\n",
       "      <td>243.0</td>\n",
       "      <td>Fulton St &amp; Rockwell Pl</td>\n",
       "      <td>40.68841000</td>\n",
       "      <td>-73.97945800</td>\n",
       "    </tr>\n",
       "    <tr>\n",
       "      <th>2</th>\n",
       "      <td>3243.0</td>\n",
       "      <td>E 58 St &amp; 1 Ave</td>\n",
       "      <td>40.75892386</td>\n",
       "      <td>-73.96226227</td>\n",
       "    </tr>\n",
       "    <tr>\n",
       "      <th>3</th>\n",
       "      <td>3243.0</td>\n",
       "      <td>E 58 St &amp; 1 Ave (NE Corner)</td>\n",
       "      <td>40.75892386</td>\n",
       "      <td>-73.96226227</td>\n",
       "    </tr>\n",
       "    <tr>\n",
       "      <th>4</th>\n",
       "      <td>3466.0</td>\n",
       "      <td>W 45 St &amp; 6 Ave</td>\n",
       "      <td>40.75668721</td>\n",
       "      <td>-73.98257732</td>\n",
       "    </tr>\n",
       "    <tr>\n",
       "      <th>5</th>\n",
       "      <td>3466.0</td>\n",
       "      <td>W 45 St &amp; 6 Ave -</td>\n",
       "      <td>40.75668721</td>\n",
       "      <td>-73.98257732</td>\n",
       "    </tr>\n",
       "    <tr>\n",
       "      <th>6</th>\n",
       "      <td>3701.0</td>\n",
       "      <td>Cliff St &amp; Fulton St</td>\n",
       "      <td>40.70831794</td>\n",
       "      <td>-74.00504082</td>\n",
       "    </tr>\n",
       "    <tr>\n",
       "      <th>7</th>\n",
       "      <td>3701.0</td>\n",
       "      <td>Cliff St &amp; Fulton St (Old)</td>\n",
       "      <td>40.70831794</td>\n",
       "      <td>-74.00504082</td>\n",
       "    </tr>\n",
       "    <tr>\n",
       "      <th>8</th>\n",
       "      <td>3727.0</td>\n",
       "      <td>Frost St &amp; Meeker Ave</td>\n",
       "      <td>40.71784798</td>\n",
       "      <td>-73.94752018</td>\n",
       "    </tr>\n",
       "    <tr>\n",
       "      <th>9</th>\n",
       "      <td>3727.0</td>\n",
       "      <td>Frost St &amp; Meeker Ave</td>\n",
       "      <td>40.71766197</td>\n",
       "      <td>-73.94880027</td>\n",
       "    </tr>\n",
       "  </tbody>\n",
       "</table>\n",
       "</div>"
      ],
      "text/plain": [
       "   end station id             end station name  end station latitude  \\\n",
       "0           243.0      Fulton St & Rockwell Pl           40.68822600   \n",
       "1           243.0      Fulton St & Rockwell Pl           40.68841000   \n",
       "2          3243.0              E 58 St & 1 Ave           40.75892386   \n",
       "3          3243.0  E 58 St & 1 Ave (NE Corner)           40.75892386   \n",
       "4          3466.0              W 45 St & 6 Ave           40.75668721   \n",
       "5          3466.0            W 45 St & 6 Ave -           40.75668721   \n",
       "6          3701.0         Cliff St & Fulton St           40.70831794   \n",
       "7          3701.0   Cliff St & Fulton St (Old)           40.70831794   \n",
       "8          3727.0        Frost St & Meeker Ave           40.71784798   \n",
       "9          3727.0        Frost St & Meeker Ave           40.71766197   \n",
       "\n",
       "   end station longitude  \n",
       "0           -73.97938200  \n",
       "1           -73.97945800  \n",
       "2           -73.96226227  \n",
       "3           -73.96226227  \n",
       "4           -73.98257732  \n",
       "5           -73.98257732  \n",
       "6           -74.00504082  \n",
       "7           -74.00504082  \n",
       "8           -73.94752018  \n",
       "9           -73.94880027  "
      ]
     },
     "execution_count": 66,
     "metadata": {},
     "output_type": "execute_result"
    }
   ],
   "source": [
    "# Print out of the duplicate unique combinations with 'end station id' duplicated.\n",
    "\n",
    "# This output appears to be the same output generated when assessing the duplicate unique combinations of 'start station id'\n",
    "# in the ssDUP data frame.\n",
    "\n",
    "esDUP=eskey.loc[eskey['end station id'].isin(dup)==True].sort_values('end station id')\n",
    "esDUP=esDUP.reset_index()\n",
    "esDUP=esDUP.drop('index', axis=1)\n",
    "esDUP"
   ]
  },
  {
   "cell_type": "code",
   "execution_count": 67,
   "metadata": {
    "scrolled": true
   },
   "outputs": [
    {
     "data": {
      "text/html": [
       "<div>\n",
       "<style scoped>\n",
       "    .dataframe tbody tr th:only-of-type {\n",
       "        vertical-align: middle;\n",
       "    }\n",
       "\n",
       "    .dataframe tbody tr th {\n",
       "        vertical-align: top;\n",
       "    }\n",
       "\n",
       "    .dataframe thead th {\n",
       "        text-align: right;\n",
       "    }\n",
       "</style>\n",
       "<table border=\"1\" class=\"dataframe\">\n",
       "  <thead>\n",
       "    <tr style=\"text-align: right;\">\n",
       "      <th></th>\n",
       "      <th>1</th>\n",
       "      <th>2</th>\n",
       "      <th>3</th>\n",
       "      <th>4</th>\n",
       "    </tr>\n",
       "  </thead>\n",
       "  <tbody>\n",
       "    <tr>\n",
       "      <th>0</th>\n",
       "      <td>True</td>\n",
       "      <td>True</td>\n",
       "      <td>True</td>\n",
       "      <td>True</td>\n",
       "    </tr>\n",
       "    <tr>\n",
       "      <th>1</th>\n",
       "      <td>True</td>\n",
       "      <td>True</td>\n",
       "      <td>True</td>\n",
       "      <td>True</td>\n",
       "    </tr>\n",
       "    <tr>\n",
       "      <th>2</th>\n",
       "      <td>True</td>\n",
       "      <td>True</td>\n",
       "      <td>True</td>\n",
       "      <td>True</td>\n",
       "    </tr>\n",
       "    <tr>\n",
       "      <th>3</th>\n",
       "      <td>True</td>\n",
       "      <td>True</td>\n",
       "      <td>True</td>\n",
       "      <td>True</td>\n",
       "    </tr>\n",
       "    <tr>\n",
       "      <th>4</th>\n",
       "      <td>True</td>\n",
       "      <td>True</td>\n",
       "      <td>True</td>\n",
       "      <td>True</td>\n",
       "    </tr>\n",
       "    <tr>\n",
       "      <th>5</th>\n",
       "      <td>True</td>\n",
       "      <td>True</td>\n",
       "      <td>True</td>\n",
       "      <td>True</td>\n",
       "    </tr>\n",
       "    <tr>\n",
       "      <th>6</th>\n",
       "      <td>True</td>\n",
       "      <td>True</td>\n",
       "      <td>True</td>\n",
       "      <td>True</td>\n",
       "    </tr>\n",
       "    <tr>\n",
       "      <th>7</th>\n",
       "      <td>True</td>\n",
       "      <td>True</td>\n",
       "      <td>True</td>\n",
       "      <td>True</td>\n",
       "    </tr>\n",
       "    <tr>\n",
       "      <th>8</th>\n",
       "      <td>True</td>\n",
       "      <td>True</td>\n",
       "      <td>True</td>\n",
       "      <td>True</td>\n",
       "    </tr>\n",
       "    <tr>\n",
       "      <th>9</th>\n",
       "      <td>True</td>\n",
       "      <td>True</td>\n",
       "      <td>True</td>\n",
       "      <td>True</td>\n",
       "    </tr>\n",
       "  </tbody>\n",
       "</table>\n",
       "</div>"
      ],
      "text/plain": [
       "      1     2     3     4\n",
       "0  True  True  True  True\n",
       "1  True  True  True  True\n",
       "2  True  True  True  True\n",
       "3  True  True  True  True\n",
       "4  True  True  True  True\n",
       "5  True  True  True  True\n",
       "6  True  True  True  True\n",
       "7  True  True  True  True\n",
       "8  True  True  True  True\n",
       "9  True  True  True  True"
      ]
     },
     "execution_count": 67,
     "metadata": {},
     "output_type": "execute_result"
    }
   ],
   "source": [
    "# We will compare the above table esDUP against ssDUP electronically.\n",
    "\n",
    "# As per the output below, both tables are the same.\n",
    "\n",
    "ssDUP.columns=[1,2,3,4]\n",
    "esDUP.columns=[1,2,3,4]\n",
    "esDUP.eq(ssDUP)"
   ]
  },
  {
   "cell_type": "code",
   "execution_count": 68,
   "metadata": {},
   "outputs": [],
   "source": [
    "# For \"clean data\" purposes, stations with different coordinates should have different 'end station id' numbers. \n",
    "# We will not change 'end station names' as unique 'end start id' values are sufficient.\n",
    "# Any filtering will be performed using 'end station id' column."
   ]
  },
  {
   "cell_type": "code",
   "execution_count": 69,
   "metadata": {},
   "outputs": [
    {
     "name": "stdout",
     "output_type": "stream",
     "text": [
      "3795.0\n"
     ]
    }
   ],
   "source": [
    "# Determine maximum 'end station id' so new id numbers can be established to apply to 243 and 3727 cases.\n",
    "\n",
    "print(eskey['end station id'].max())"
   ]
  },
  {
   "cell_type": "code",
   "execution_count": 70,
   "metadata": {},
   "outputs": [],
   "source": [
    "# Save the latitude and longitude of the row 0 instance of 243 'end station id'\n",
    "\n",
    "latsave=esDUP.iloc[0,2]\n",
    "longsave=esDUP.iloc[0,3]"
   ]
  },
  {
   "cell_type": "code",
   "execution_count": 71,
   "metadata": {},
   "outputs": [],
   "source": [
    "# Assign '4444' to the 'end station id' for instances of 'end station id' 243 with latsave and longsave as its coordinates.\n",
    "\n",
    "mask = (dataset['end station id'] == 243.0) & (dataset['end station latitude'] == latsave) & (dataset['end station longitude']==longsave)\n",
    "dataset['end station id'] = dataset['end station id'].mask(mask, 4444)"
   ]
  },
  {
   "cell_type": "code",
   "execution_count": 72,
   "metadata": {},
   "outputs": [],
   "source": [
    "# Save the latitude and longitude of the row 8 instance of 3727 'end station id'\n",
    "\n",
    "latsave=esDUP.iloc[8,2]\n",
    "longsave=esDUP.iloc[8,3]"
   ]
  },
  {
   "cell_type": "code",
   "execution_count": 73,
   "metadata": {},
   "outputs": [],
   "source": [
    "# Assign '5555' to the 'end station id' for instances of 'end station id' 3727 with latsave and longsave as its coordinates.\n",
    "\n",
    "mask = (dataset['end station id'] == 3727.0) & (dataset['end station latitude'] == latsave) & (dataset['end station longitude']==longsave)\n",
    "dataset['end station id'] = dataset['end station id'].mask(mask, 5555)"
   ]
  },
  {
   "cell_type": "code",
   "execution_count": 74,
   "metadata": {},
   "outputs": [],
   "source": [
    "# Inspection of the esDUP table indicates that two of the duplicate 'end station names' were \n",
    "# not captured when filtering for duplicate 'end station ids'. \n",
    "\n",
    "rep=['W 45 St & 6 Ave','Cliff St & Fulton St']"
   ]
  },
  {
   "cell_type": "code",
   "execution_count": 75,
   "metadata": {
    "scrolled": true
   },
   "outputs": [
    {
     "data": {
      "text/html": [
       "<div>\n",
       "<style scoped>\n",
       "    .dataframe tbody tr th:only-of-type {\n",
       "        vertical-align: middle;\n",
       "    }\n",
       "\n",
       "    .dataframe tbody tr th {\n",
       "        vertical-align: top;\n",
       "    }\n",
       "\n",
       "    .dataframe thead th {\n",
       "        text-align: right;\n",
       "    }\n",
       "</style>\n",
       "<table border=\"1\" class=\"dataframe\">\n",
       "  <thead>\n",
       "    <tr style=\"text-align: right;\">\n",
       "      <th></th>\n",
       "      <th>end station id</th>\n",
       "      <th>end station name</th>\n",
       "      <th>end station latitude</th>\n",
       "      <th>end station longitude</th>\n",
       "    </tr>\n",
       "  </thead>\n",
       "  <tbody>\n",
       "    <tr>\n",
       "      <th>0</th>\n",
       "      <td>493.0</td>\n",
       "      <td>W 45 St &amp; 6 Ave</td>\n",
       "      <td>40.75680010</td>\n",
       "      <td>-73.98291153</td>\n",
       "    </tr>\n",
       "    <tr>\n",
       "      <th>1</th>\n",
       "      <td>3466.0</td>\n",
       "      <td>W 45 St &amp; 6 Ave</td>\n",
       "      <td>40.75668721</td>\n",
       "      <td>-73.98257732</td>\n",
       "    </tr>\n",
       "    <tr>\n",
       "      <th>2</th>\n",
       "      <td>3701.0</td>\n",
       "      <td>Cliff St &amp; Fulton St</td>\n",
       "      <td>40.70831794</td>\n",
       "      <td>-74.00504082</td>\n",
       "    </tr>\n",
       "    <tr>\n",
       "      <th>3</th>\n",
       "      <td>3783.0</td>\n",
       "      <td>Cliff St &amp; Fulton St</td>\n",
       "      <td>40.70838000</td>\n",
       "      <td>-74.00495000</td>\n",
       "    </tr>\n",
       "  </tbody>\n",
       "</table>\n",
       "</div>"
      ],
      "text/plain": [
       "   end station id      end station name  end station latitude  \\\n",
       "0           493.0       W 45 St & 6 Ave           40.75680010   \n",
       "1          3466.0       W 45 St & 6 Ave           40.75668721   \n",
       "2          3701.0  Cliff St & Fulton St           40.70831794   \n",
       "3          3783.0  Cliff St & Fulton St           40.70838000   \n",
       "\n",
       "   end station longitude  \n",
       "0           -73.98291153  \n",
       "1           -73.98257732  \n",
       "2           -74.00504082  \n",
       "3           -74.00495000  "
      ]
     },
     "execution_count": 75,
     "metadata": {},
     "output_type": "execute_result"
    }
   ],
   "source": [
    "# Isolate and inspect the duplicate 'end station names'\n",
    "\n",
    "# This output appears to be the same output generated when assessing duplicate start station names in snDUP data frame.\n",
    "\n",
    "enDUP=eskey.loc[eskey['end station name'].isin(rep)==True].sort_values('end station id')\n",
    "enDUP=enDUP.reset_index()\n",
    "enDUP=enDUP.drop('index', axis=1)\n",
    "enDUP"
   ]
  },
  {
   "cell_type": "code",
   "execution_count": 76,
   "metadata": {
    "scrolled": true
   },
   "outputs": [
    {
     "data": {
      "text/html": [
       "<div>\n",
       "<style scoped>\n",
       "    .dataframe tbody tr th:only-of-type {\n",
       "        vertical-align: middle;\n",
       "    }\n",
       "\n",
       "    .dataframe tbody tr th {\n",
       "        vertical-align: top;\n",
       "    }\n",
       "\n",
       "    .dataframe thead th {\n",
       "        text-align: right;\n",
       "    }\n",
       "</style>\n",
       "<table border=\"1\" class=\"dataframe\">\n",
       "  <thead>\n",
       "    <tr style=\"text-align: right;\">\n",
       "      <th></th>\n",
       "      <th>1</th>\n",
       "      <th>2</th>\n",
       "      <th>3</th>\n",
       "      <th>4</th>\n",
       "    </tr>\n",
       "  </thead>\n",
       "  <tbody>\n",
       "    <tr>\n",
       "      <th>0</th>\n",
       "      <td>True</td>\n",
       "      <td>True</td>\n",
       "      <td>True</td>\n",
       "      <td>True</td>\n",
       "    </tr>\n",
       "    <tr>\n",
       "      <th>1</th>\n",
       "      <td>True</td>\n",
       "      <td>True</td>\n",
       "      <td>True</td>\n",
       "      <td>True</td>\n",
       "    </tr>\n",
       "    <tr>\n",
       "      <th>2</th>\n",
       "      <td>True</td>\n",
       "      <td>True</td>\n",
       "      <td>True</td>\n",
       "      <td>True</td>\n",
       "    </tr>\n",
       "    <tr>\n",
       "      <th>3</th>\n",
       "      <td>True</td>\n",
       "      <td>True</td>\n",
       "      <td>True</td>\n",
       "      <td>True</td>\n",
       "    </tr>\n",
       "  </tbody>\n",
       "</table>\n",
       "</div>"
      ],
      "text/plain": [
       "      1     2     3     4\n",
       "0  True  True  True  True\n",
       "1  True  True  True  True\n",
       "2  True  True  True  True\n",
       "3  True  True  True  True"
      ]
     },
     "execution_count": 76,
     "metadata": {},
     "output_type": "execute_result"
    }
   ],
   "source": [
    "# We will compare the enDUP against snDUP electronically.\n",
    "\n",
    "# As per the output below, both tables are the same.\n",
    "\n",
    "snDUP.columns=[1,2,3,4]\n",
    "enDUP.columns=[1,2,3,4]\n",
    "enDUP.eq(snDUP)"
   ]
  },
  {
   "cell_type": "code",
   "execution_count": 77,
   "metadata": {},
   "outputs": [
    {
     "data": {
      "text/html": [
       "<div>\n",
       "<style scoped>\n",
       "    .dataframe tbody tr th:only-of-type {\n",
       "        vertical-align: middle;\n",
       "    }\n",
       "\n",
       "    .dataframe tbody tr th {\n",
       "        vertical-align: top;\n",
       "    }\n",
       "\n",
       "    .dataframe thead th {\n",
       "        text-align: right;\n",
       "    }\n",
       "</style>\n",
       "<table border=\"1\" class=\"dataframe\">\n",
       "  <thead>\n",
       "    <tr style=\"text-align: right;\">\n",
       "      <th></th>\n",
       "      <th>end station id</th>\n",
       "      <th>end station name</th>\n",
       "      <th>end station latitude</th>\n",
       "      <th>end station longitude</th>\n",
       "    </tr>\n",
       "  </thead>\n",
       "  <tbody>\n",
       "    <tr>\n",
       "      <th>756</th>\n",
       "      <td>3639.0</td>\n",
       "      <td>Harborside</td>\n",
       "      <td>40.71925170</td>\n",
       "      <td>-74.03423400</td>\n",
       "    </tr>\n",
       "    <tr>\n",
       "      <th>760</th>\n",
       "      <td>3184.0</td>\n",
       "      <td>Paulus Hook</td>\n",
       "      <td>40.71414540</td>\n",
       "      <td>-74.03355190</td>\n",
       "    </tr>\n",
       "    <tr>\n",
       "      <th>762</th>\n",
       "      <td>3275.0</td>\n",
       "      <td>Columbus Drive</td>\n",
       "      <td>40.71835520</td>\n",
       "      <td>-74.03891444</td>\n",
       "    </tr>\n",
       "    <tr>\n",
       "      <th>763</th>\n",
       "      <td>232.0</td>\n",
       "      <td>Cadman Plaza E &amp; Tillary St</td>\n",
       "      <td>40.69597683</td>\n",
       "      <td>-73.99014892</td>\n",
       "    </tr>\n",
       "    <tr>\n",
       "      <th>768</th>\n",
       "      <td>3240.0</td>\n",
       "      <td>NYCBS Depot BAL - DYR</td>\n",
       "      <td>40.75903008</td>\n",
       "      <td>-73.99385870</td>\n",
       "    </tr>\n",
       "    <tr>\n",
       "      <th>770</th>\n",
       "      <td>3211.0</td>\n",
       "      <td>Newark Ave</td>\n",
       "      <td>40.72152515</td>\n",
       "      <td>-74.04630454</td>\n",
       "    </tr>\n",
       "    <tr>\n",
       "      <th>775</th>\n",
       "      <td>3214.0</td>\n",
       "      <td>Essex Light Rail</td>\n",
       "      <td>40.71277420</td>\n",
       "      <td>-74.03648570</td>\n",
       "    </tr>\n",
       "    <tr>\n",
       "      <th>779</th>\n",
       "      <td>3196.0</td>\n",
       "      <td>Riverview Park</td>\n",
       "      <td>40.74431870</td>\n",
       "      <td>-74.04399090</td>\n",
       "    </tr>\n",
       "    <tr>\n",
       "      <th>791</th>\n",
       "      <td>3267.0</td>\n",
       "      <td>Morris Canal</td>\n",
       "      <td>40.71241882</td>\n",
       "      <td>-74.03852552</td>\n",
       "    </tr>\n",
       "    <tr>\n",
       "      <th>810</th>\n",
       "      <td>3199.0</td>\n",
       "      <td>Newport Pkwy</td>\n",
       "      <td>40.72874480</td>\n",
       "      <td>-74.03210820</td>\n",
       "    </tr>\n",
       "    <tr>\n",
       "      <th>818</th>\n",
       "      <td>3183.0</td>\n",
       "      <td>Exchange Place</td>\n",
       "      <td>40.71624690</td>\n",
       "      <td>-74.03345880</td>\n",
       "    </tr>\n",
       "    <tr>\n",
       "      <th>822</th>\n",
       "      <td>3205.0</td>\n",
       "      <td>JC Medical Center</td>\n",
       "      <td>40.71653978</td>\n",
       "      <td>-74.04963791</td>\n",
       "    </tr>\n",
       "    <tr>\n",
       "      <th>823</th>\n",
       "      <td>3681.0</td>\n",
       "      <td>Grand St</td>\n",
       "      <td>40.71517768</td>\n",
       "      <td>-74.03768331</td>\n",
       "    </tr>\n",
       "    <tr>\n",
       "      <th>831</th>\n",
       "      <td>3791.0</td>\n",
       "      <td>Hoboken Ave at Monmouth St</td>\n",
       "      <td>40.73520838</td>\n",
       "      <td>-74.04696375</td>\n",
       "    </tr>\n",
       "    <tr>\n",
       "      <th>835</th>\n",
       "      <td>3198.0</td>\n",
       "      <td>Heights Elevator</td>\n",
       "      <td>40.74871595</td>\n",
       "      <td>-74.04044330</td>\n",
       "    </tr>\n",
       "    <tr>\n",
       "      <th>836</th>\n",
       "      <td>3638.0</td>\n",
       "      <td>Washington St</td>\n",
       "      <td>40.72429410</td>\n",
       "      <td>-74.03548260</td>\n",
       "    </tr>\n",
       "    <tr>\n",
       "      <th>838</th>\n",
       "      <td>3213.0</td>\n",
       "      <td>Van Vorst Park</td>\n",
       "      <td>40.71848892</td>\n",
       "      <td>-74.04772662</td>\n",
       "    </tr>\n",
       "  </tbody>\n",
       "</table>\n",
       "</div>"
      ],
      "text/plain": [
       "     end station id             end station name  end station latitude  \\\n",
       "756          3639.0                   Harborside           40.71925170   \n",
       "760          3184.0                  Paulus Hook           40.71414540   \n",
       "762          3275.0               Columbus Drive           40.71835520   \n",
       "763           232.0  Cadman Plaza E & Tillary St           40.69597683   \n",
       "768          3240.0        NYCBS Depot BAL - DYR           40.75903008   \n",
       "770          3211.0                   Newark Ave           40.72152515   \n",
       "775          3214.0             Essex Light Rail           40.71277420   \n",
       "779          3196.0               Riverview Park           40.74431870   \n",
       "791          3267.0                 Morris Canal           40.71241882   \n",
       "810          3199.0                 Newport Pkwy           40.72874480   \n",
       "818          3183.0               Exchange Place           40.71624690   \n",
       "822          3205.0            JC Medical Center           40.71653978   \n",
       "823          3681.0                     Grand St           40.71517768   \n",
       "831          3791.0   Hoboken Ave at Monmouth St           40.73520838   \n",
       "835          3198.0             Heights Elevator           40.74871595   \n",
       "836          3638.0                Washington St           40.72429410   \n",
       "838          3213.0               Van Vorst Park           40.71848892   \n",
       "\n",
       "     end station longitude  \n",
       "756           -74.03423400  \n",
       "760           -74.03355190  \n",
       "762           -74.03891444  \n",
       "763           -73.99014892  \n",
       "768           -73.99385870  \n",
       "770           -74.04630454  \n",
       "775           -74.03648570  \n",
       "779           -74.04399090  \n",
       "791           -74.03852552  \n",
       "810           -74.03210820  \n",
       "818           -74.03345880  \n",
       "822           -74.04963791  \n",
       "823           -74.03768331  \n",
       "831           -74.04696375  \n",
       "835           -74.04044330  \n",
       "836           -74.03548260  \n",
       "838           -74.04772662  "
      ]
     },
     "execution_count": 77,
     "metadata": {},
     "output_type": "execute_result"
    }
   ],
   "source": [
    "# Identify the 'end station id' values that are not present in the list of 'start station id' values.\n",
    "\n",
    "# There are 17 stations which were end points for trips but were not starting points for trips\n",
    "# These 17 stations were searched in the Citi Bike 'Find a station' search engine (https://member.citibikenyc.com/map/).\n",
    "# 'Cadman Plaza E & Tillary St' is in Brooklyn and 'NYCBS Depot BAL - DYR' didn't return a result.\n",
    "# The remaining 15 stations were located on the west side of the Hudson River in New Jersy.\n",
    "\n",
    "esIDnotinssID=eskey[eskey['end station id'].isin(sskey['start station id'])==False]\n",
    "esIDnotinssID"
   ]
  },
  {
   "cell_type": "code",
   "execution_count": 78,
   "metadata": {},
   "outputs": [
    {
     "data": {
      "text/html": [
       "<div>\n",
       "<style scoped>\n",
       "    .dataframe tbody tr th:only-of-type {\n",
       "        vertical-align: middle;\n",
       "    }\n",
       "\n",
       "    .dataframe tbody tr th {\n",
       "        vertical-align: top;\n",
       "    }\n",
       "\n",
       "    .dataframe thead th {\n",
       "        text-align: right;\n",
       "    }\n",
       "</style>\n",
       "<table border=\"1\" class=\"dataframe\">\n",
       "  <thead>\n",
       "    <tr style=\"text-align: right;\">\n",
       "      <th></th>\n",
       "      <th>start station id</th>\n",
       "      <th>start station name</th>\n",
       "      <th>start station latitude</th>\n",
       "      <th>start station longitude</th>\n",
       "    </tr>\n",
       "  </thead>\n",
       "  <tbody>\n",
       "  </tbody>\n",
       "</table>\n",
       "</div>"
      ],
      "text/plain": [
       "Empty DataFrame\n",
       "Columns: [start station id, start station name, start station latitude, start station longitude]\n",
       "Index: []"
      ]
     },
     "execution_count": 78,
     "metadata": {},
     "output_type": "execute_result"
    }
   ],
   "source": [
    "# Identify the 'start station id' values that are not present in the list of 'end station id' values.\n",
    "\n",
    "# There are no stations which were start points for trips but were not end points for trips.\n",
    "\n",
    "ssIDnotinesID=sskey[sskey['start station id'].isin(eskey['end station id'])==False]\n",
    "ssIDnotinesID"
   ]
  },
  {
   "cell_type": "code",
   "execution_count": 79,
   "metadata": {},
   "outputs": [
    {
     "name": "stdout",
     "output_type": "stream",
     "text": [
      "<class 'pandas.core.frame.DataFrame'>\n",
      "Int64Index: 31 entries, 208617 to 7130430\n",
      "Data columns (total 15 columns):\n",
      "tripduration               31 non-null int64\n",
      "starttime                  31 non-null datetime64[ns]\n",
      "stoptime                   31 non-null datetime64[ns]\n",
      "start station id           31 non-null float64\n",
      "start station name         31 non-null object\n",
      "start station latitude     31 non-null float64\n",
      "start station longitude    31 non-null float64\n",
      "end station id             31 non-null float64\n",
      "end station name           31 non-null object\n",
      "end station latitude       31 non-null float64\n",
      "end station longitude      31 non-null float64\n",
      "bikeid                     31 non-null int64\n",
      "usertype                   31 non-null object\n",
      "birth year                 31 non-null int64\n",
      "gender                     31 non-null int64\n",
      "dtypes: datetime64[ns](2), float64(6), int64(4), object(3)\n",
      "memory usage: 3.9+ KB\n"
     ]
    }
   ],
   "source": [
    "# Identify how many trips ended at the 17 stations that didn't have trips originating from them.\n",
    "\n",
    "# There are only 31 trips ending at these 17 stations.\n",
    "\n",
    "endstation=dataset[dataset['end station id'].isin(esIDnotinssID['end station id'])==True].sort_values('end station id')\n",
    "endstation.info()"
   ]
  },
  {
   "cell_type": "code",
   "execution_count": 80,
   "metadata": {},
   "outputs": [],
   "source": [
    "# It is likely that trips starting from these 17 stations occurred but are missing from the data set.\n",
    "# The number of trips involving these 17 stations is only 31.\n",
    "# Thus, there isn't enough information to properly profile these stations.\n",
    "# The 31 trips ending at these 17 stations will be deleted.\n",
    "\n",
    "dataset.drop(dataset[dataset['end station name'].isin(endstation['end station name']) == True].index, inplace = True) "
   ]
  },
  {
   "cell_type": "code",
   "execution_count": 81,
   "metadata": {},
   "outputs": [
    {
     "name": "stdout",
     "output_type": "stream",
     "text": [
      "True    825\n",
      "Name: a, dtype: int64\n",
      "True    825\n",
      "Name: b, dtype: int64\n",
      "True    825\n",
      "Name: c, dtype: int64\n",
      "True    825\n",
      "Name: d, dtype: int64\n"
     ]
    }
   ],
   "source": [
    "# Final Check of start station and end station  data wrangling.\n",
    "\n",
    "# This check confirms that the same unique combinations of id, name, latitude and longitude are present in both the start station\n",
    "# and end station data.\n",
    "\n",
    "sscheck=dataset[['start station id','start station name','start station latitude','start station longitude']].copy().sort_values('start station id')\n",
    "escheck=dataset[['end station id','end station name','end station latitude','end station longitude']].copy().sort_values('end station id')\n",
    "\n",
    "sscheck=sscheck.drop_duplicates()\n",
    "escheck=escheck.drop_duplicates()\n",
    "\n",
    "sscheck=sscheck.reset_index()\n",
    "sscheck=sscheck.drop('index', axis=1)\n",
    "\n",
    "escheck=escheck.reset_index()\n",
    "escheck=escheck.drop('index', axis=1)\n",
    "\n",
    "sscheck.columns=['a','b','c','d']\n",
    "escheck.columns=['a','b','c','d']\n",
    "\n",
    "checkmatrix=sscheck.eq(escheck)\n",
    "print(checkmatrix['a'].value_counts())\n",
    "print(checkmatrix['b'].value_counts())\n",
    "print(checkmatrix['c'].value_counts())\n",
    "print(checkmatrix['d'].value_counts())"
   ]
  },
  {
   "cell_type": "code",
   "execution_count": 82,
   "metadata": {},
   "outputs": [],
   "source": [
    "# Final assessment of latitude and longitude values - are the value ranges reasonable?"
   ]
  },
  {
   "cell_type": "code",
   "execution_count": 83,
   "metadata": {},
   "outputs": [],
   "source": [
    "# Identify maximum and minimum values for latitude and longitude.\n",
    "\n",
    "latmax=dataset['start station latitude'].max()\n",
    "latmin=dataset['start station latitude'].min()\n",
    "lonmax=dataset['start station longitude'].max()\n",
    "lonmin=dataset['start station longitude'].min()"
   ]
  },
  {
   "cell_type": "code",
   "execution_count": 84,
   "metadata": {},
   "outputs": [
    {
     "name": "stdout",
     "output_type": "stream",
     "text": [
      "     start station id      start station name  start station latitude  \\\n",
      "686            3649.0  W 129 St & Convent Ave             40.81439444   \n",
      "\n",
      "     start station longitude  \n",
      "686             -73.95324737  \n",
      "     start station id                             start station name  \\\n",
      "386            3477.0  39 St & 2 Ave - Citi Bike HQ at Industry City   \n",
      "\n",
      "     start station latitude  start station longitude  \n",
      "386             40.65539977             -74.01062787  \n",
      "     start station id    start station name  start station latitude  \\\n",
      "606            3528.0  Steinway St & 23 Ave              40.7713937   \n",
      "\n",
      "     start station longitude  \n",
      "606              -73.9077436  \n",
      "     start station id start station name  start station latitude  \\\n",
      "804            3479.0       Picnic Point              40.6851256   \n",
      "\n",
      "     start station longitude  \n",
      "804             -74.02535319  \n"
     ]
    }
   ],
   "source": [
    "# Identify the station associated with each of the four points established.\n",
    "\n",
    "print(sskey[sskey['start station latitude']==latmax])\n",
    "print(sskey[sskey['start station latitude']==latmin])\n",
    "print(sskey[sskey['start station longitude']==lonmax])\n",
    "print(sskey[sskey['start station longitude']==lonmin])"
   ]
  },
  {
   "cell_type": "code",
   "execution_count": 85,
   "metadata": {},
   "outputs": [],
   "source": [
    "# These four stations were searched in the Citi Bike 'Find a station' search engine (https://member.citibikenyc.com/map/)\n",
    "\n",
    "# 'latmax' station: 'W 129 St & Convent Ave' was visually found to be the station on the map that was furthest north.\n",
    "# 'latmin' station: '39 St & 2 Ave - Citi Bike HQ at Industry City' was visually found to be the station that was furthest south.\n",
    "# 'lonmax' station: 'Steinway St & 23 Ave' was visually found to be the most eastern station on the map.\n",
    "# 'lonmin' station: 'Picnic Point' which is located on Governor's island was found to be the most western station located in\n",
    "# New York City. The 50 stations to the west of this station are located in New Jersey. Fifteen New Jersey stations were previously\n",
    "# deleted from the data set as they had trips ending at them but no trips starting at them and were assumed to be missing data.\n"
   ]
  }
 ],
 "metadata": {
  "kernelspec": {
   "display_name": "Python 3",
   "language": "python",
   "name": "python3"
  },
  "language_info": {
   "codemirror_mode": {
    "name": "ipython",
    "version": 3
   },
   "file_extension": ".py",
   "mimetype": "text/x-python",
   "name": "python",
   "nbconvert_exporter": "python",
   "pygments_lexer": "ipython3",
   "version": "3.7.3"
  }
 },
 "nbformat": 4,
 "nbformat_minor": 2
}
