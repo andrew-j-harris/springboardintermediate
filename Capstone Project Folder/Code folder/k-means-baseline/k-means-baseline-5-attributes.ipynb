{
 "cells": [
  {
   "cell_type": "code",
   "execution_count": 1,
   "metadata": {},
   "outputs": [],
   "source": [
    "# Import the required libraries.\n",
    "\n",
    "import matplotlib.pyplot as plt\n",
    "\n",
    "import pandas as pd\n",
    "import numpy as np\n",
    "import datetime as dt\n",
    "import os\n",
    "import scipy.stats\n",
    "from itertools import combinations\n",
    "import gmplot \n",
    "\n",
    "from sklearn import manifold\n",
    "from sklearn.metrics.pairwise import haversine_distances\n",
    "from math import radians"
   ]
  },
  {
   "cell_type": "code",
   "execution_count": 2,
   "metadata": {},
   "outputs": [],
   "source": [
    "# Read in the processed csv file created during data wrangling phase of project.\n",
    "\n",
    "dataset=pd.read_csv('C:/Users/andre/Desktop/citibiki-data-tocluster.csv')"
   ]
  },
  {
   "cell_type": "code",
   "execution_count": 3,
   "metadata": {},
   "outputs": [],
   "source": [
    "# Create a list of unique stations.\n",
    "\n",
    "stations=dataset[['start station id','start station latitude','start station longitude']].copy()\n",
    "stations.drop_duplicates(inplace=True)\n",
    "stations.sort_values('start station id', ascending=True, inplace=True)\n",
    "stations.reset_index(inplace=True)\n",
    "stations.drop('index',axis=1,inplace=True)"
   ]
  },
  {
   "cell_type": "code",
   "execution_count": 4,
   "metadata": {},
   "outputs": [],
   "source": [
    "# Create the coordinate list in radians \n",
    "\n",
    "xcoord=list(stations['start station latitude'])\n",
    "ycoord=list(stations['start station longitude'])\n",
    "\n",
    "xcoord_rad=[None]*822\n",
    "ycoord_rad=[None]*822\n",
    "coord_rad=[None]*822\n",
    "\n",
    "for i in range(822):\n",
    "    xcoord_rad[i]=radians(xcoord[i])\n",
    "    ycoord_rad[i]=radians(ycoord[i])\n",
    "\n",
    "for i in range(822):\n",
    "    coord_rad[i]=[xcoord_rad[i],ycoord_rad[i]]"
   ]
  },
  {
   "cell_type": "code",
   "execution_count": 5,
   "metadata": {},
   "outputs": [],
   "source": [
    "# Calculate pairwise Haversine distances and convert the distances to kilometers.\n",
    "\n",
    "similarities=haversine_distances(coord_rad)\n",
    "similarities=similarities * 6371000/1000  "
   ]
  },
  {
   "cell_type": "code",
   "execution_count": 6,
   "metadata": {},
   "outputs": [],
   "source": [
    "# Multi-dimensional scaling to reduce the latitiude and longitude pairs for each station to one dimension.\n",
    "\n",
    "mds= manifold.MDS(n_components=1, dissimilarity=\"precomputed\")\n",
    "\n",
    "pos = mds.fit(similarities).embedding_"
   ]
  },
  {
   "cell_type": "code",
   "execution_count": 7,
   "metadata": {},
   "outputs": [],
   "source": [
    "# Normalize the station numbers and create a dictionary to use to assign these numbers to the dataset\n",
    "\n",
    "normalized = (pos-min(pos))/(max(pos)-min(pos))\n",
    "normalized=pd.DataFrame(normalized)\n",
    "stations['normalized']=normalized\n",
    "normdict=stations[['start station id','normalized']].copy()\n",
    "normdict=normdict.set_index('start station id')\n",
    "normdict=normdict['normalized'].rename('start station id')\n",
    "normdict=normdict.to_dict()"
   ]
  },
  {
   "cell_type": "code",
   "execution_count": 8,
   "metadata": {},
   "outputs": [],
   "source": [
    "# Generate the data set for k-means clustering.\n",
    "\n",
    "cdata=dataset[['start station id','end station id','usertype','gender','age']].copy()"
   ]
  },
  {
   "cell_type": "code",
   "execution_count": 9,
   "metadata": {},
   "outputs": [],
   "source": [
    "# Normalize the 'age' data.\n",
    "\n",
    "cdata['age'] = (cdata['age']-min(cdata['age']))/(max(cdata['age'])-min(cdata['age']))"
   ]
  },
  {
   "cell_type": "code",
   "execution_count": 10,
   "metadata": {},
   "outputs": [],
   "source": [
    "# Replace the 'start station id' and 'end station id' with the station location numbers obtained from MDS.\n",
    "\n",
    "cdata['start station id']=cdata['start station id'].replace(to_replace = normdict, value=None)\n",
    "cdata['end station id']=cdata['end station id'].replace(to_replace = normdict, value=None)"
   ]
  },
  {
   "cell_type": "code",
   "execution_count": 11,
   "metadata": {},
   "outputs": [],
   "source": [
    "# Replace 'subscriber' with 1 and 'customer' with 0 in 'usertype' column.\n",
    "\n",
    "utdict={'Subscriber':1,'Customer':0}\n",
    "cdata['usertype']= cdata['usertype'].replace(to_replace = utdict, value=None)"
   ]
  },
  {
   "cell_type": "code",
   "execution_count": 12,
   "metadata": {},
   "outputs": [],
   "source": [
    "# Set 'male' to 0 and 'female' to 1 in 'gender' column.\n",
    "\n",
    "cdata['gender']=cdata['gender']-1"
   ]
  },
  {
   "cell_type": "code",
   "execution_count": 13,
   "metadata": {},
   "outputs": [],
   "source": [
    "# rename 'station id' columns to reflect change to mds scaling to identify stations.\n",
    "\n",
    "cdata.rename(columns={'start station id':'start station mds','end station id':'end station mds'}, inplace=True)"
   ]
  },
  {
   "cell_type": "code",
   "execution_count": 14,
   "metadata": {
    "scrolled": true
   },
   "outputs": [
    {
     "data": {
      "text/html": [
       "<div>\n",
       "<style scoped>\n",
       "    .dataframe tbody tr th:only-of-type {\n",
       "        vertical-align: middle;\n",
       "    }\n",
       "\n",
       "    .dataframe tbody tr th {\n",
       "        vertical-align: top;\n",
       "    }\n",
       "\n",
       "    .dataframe thead th {\n",
       "        text-align: right;\n",
       "    }\n",
       "</style>\n",
       "<table border=\"1\" class=\"dataframe\">\n",
       "  <thead>\n",
       "    <tr style=\"text-align: right;\">\n",
       "      <th></th>\n",
       "      <th>start station mds</th>\n",
       "      <th>end station mds</th>\n",
       "      <th>usertype</th>\n",
       "      <th>gender</th>\n",
       "      <th>age</th>\n",
       "    </tr>\n",
       "  </thead>\n",
       "  <tbody>\n",
       "    <tr>\n",
       "      <th>0</th>\n",
       "      <td>0.795584</td>\n",
       "      <td>0.152101</td>\n",
       "      <td>1</td>\n",
       "      <td>0</td>\n",
       "      <td>0.500000</td>\n",
       "    </tr>\n",
       "    <tr>\n",
       "      <th>1</th>\n",
       "      <td>0.648768</td>\n",
       "      <td>0.631993</td>\n",
       "      <td>1</td>\n",
       "      <td>0</td>\n",
       "      <td>0.609375</td>\n",
       "    </tr>\n",
       "    <tr>\n",
       "      <th>2</th>\n",
       "      <td>0.834250</td>\n",
       "      <td>0.772945</td>\n",
       "      <td>1</td>\n",
       "      <td>0</td>\n",
       "      <td>0.250000</td>\n",
       "    </tr>\n",
       "    <tr>\n",
       "      <th>3</th>\n",
       "      <td>0.552688</td>\n",
       "      <td>0.578093</td>\n",
       "      <td>1</td>\n",
       "      <td>0</td>\n",
       "      <td>0.203125</td>\n",
       "    </tr>\n",
       "    <tr>\n",
       "      <th>4</th>\n",
       "      <td>0.530884</td>\n",
       "      <td>0.580173</td>\n",
       "      <td>1</td>\n",
       "      <td>0</td>\n",
       "      <td>0.375000</td>\n",
       "    </tr>\n",
       "    <tr>\n",
       "      <th>5</th>\n",
       "      <td>0.940812</td>\n",
       "      <td>0.989096</td>\n",
       "      <td>1</td>\n",
       "      <td>1</td>\n",
       "      <td>0.218750</td>\n",
       "    </tr>\n",
       "    <tr>\n",
       "      <th>6</th>\n",
       "      <td>0.157248</td>\n",
       "      <td>0.813312</td>\n",
       "      <td>1</td>\n",
       "      <td>0</td>\n",
       "      <td>0.250000</td>\n",
       "    </tr>\n",
       "    <tr>\n",
       "      <th>7</th>\n",
       "      <td>0.563208</td>\n",
       "      <td>0.229807</td>\n",
       "      <td>1</td>\n",
       "      <td>0</td>\n",
       "      <td>0.343750</td>\n",
       "    </tr>\n",
       "    <tr>\n",
       "      <th>8</th>\n",
       "      <td>0.225140</td>\n",
       "      <td>0.228818</td>\n",
       "      <td>1</td>\n",
       "      <td>1</td>\n",
       "      <td>0.203125</td>\n",
       "    </tr>\n",
       "    <tr>\n",
       "      <th>9</th>\n",
       "      <td>0.524806</td>\n",
       "      <td>0.509060</td>\n",
       "      <td>1</td>\n",
       "      <td>0</td>\n",
       "      <td>0.250000</td>\n",
       "    </tr>\n",
       "  </tbody>\n",
       "</table>\n",
       "</div>"
      ],
      "text/plain": [
       "   start station mds  end station mds  usertype  gender       age\n",
       "0           0.795584         0.152101         1       0  0.500000\n",
       "1           0.648768         0.631993         1       0  0.609375\n",
       "2           0.834250         0.772945         1       0  0.250000\n",
       "3           0.552688         0.578093         1       0  0.203125\n",
       "4           0.530884         0.580173         1       0  0.375000\n",
       "5           0.940812         0.989096         1       1  0.218750\n",
       "6           0.157248         0.813312         1       0  0.250000\n",
       "7           0.563208         0.229807         1       0  0.343750\n",
       "8           0.225140         0.228818         1       1  0.203125\n",
       "9           0.524806         0.509060         1       0  0.250000"
      ]
     },
     "execution_count": 14,
     "metadata": {},
     "output_type": "execute_result"
    }
   ],
   "source": [
    "# Print out of data set for initial k-means clustering.\n",
    "\n",
    "cdata.head(10)"
   ]
  },
  {
   "cell_type": "code",
   "execution_count": 15,
   "metadata": {},
   "outputs": [
    {
     "name": "stderr",
     "output_type": "stream",
     "text": [
      "C:\\Users\\andre\\Anaconda3\\lib\\site-packages\\ipykernel_launcher.py:3: FutureWarning: Method .as_matrix will be removed in a future version. Use .values instead.\n",
      "  This is separate from the ipykernel package so we can avoid doing imports until\n"
     ]
    },
    {
     "name": "stdout",
     "output_type": "stream",
     "text": [
      "(8343761, 5)\n",
      "(8343761, 5)\n"
     ]
    }
   ],
   "source": [
    "# Convert data set from a data frame to a matrix.\n",
    "\n",
    "x_cols = cdata.as_matrix()\n",
    "x_cols = np.nan_to_num(x_cols)\n",
    "print(x_cols.shape)\n",
    "print(cdata.shape)"
   ]
  },
  {
   "cell_type": "code",
   "execution_count": 18,
   "metadata": {},
   "outputs": [
    {
     "data": {
      "image/png": "[encoded data removed]",
      "text/plain": [
       "<Figure size 432x288 with 1 Axes>"
      ]
     },
     "metadata": {
      "needs_background": "light"
     },
     "output_type": "display_data"
    }
   ],
   "source": [
    "# Perform clustering with number of groups ranging from k=2 to k=20. Compute SS value for each k value and plot the elbow curve.\n",
    "# cluster number assignments for each k value were saved to .csv files.\n",
    "\n",
    "# elbows appear at k=3 and k=6.\n",
    "\n",
    "# It should be noted that sillhouette scoring was attempted but it required too much computing time.\n",
    "\n",
    "from sklearn.cluster import KMeans\n",
    "\n",
    "k = [2,3,4,5,6,7,8,9,10,11,12,13,14,15,16,17,18,19,20]\n",
    "assignment = np.zeros(shape=(19,8343761)) \n",
    "SS = np.zeros(shape=(19,1))\n",
    "\n",
    "for i,b in enumerate(k):\n",
    "    \n",
    "    clusterer = KMeans(n_clusters=b, random_state=0)    \n",
    "    cluster_labels = clusterer.fit_predict(x_cols)      \n",
    "    assignment[i] = cluster_labels  \n",
    "    SS[i] = clusterer.inertia_\n",
    "           \n",
    "plt.plot(k,SS)\n",
    "plt.xlabel('K Value')\n",
    "plt.ylabel('SS Value')\n",
    "plt.show()\n",
    "\n",
    "for i,b in enumerate(k):\n",
    "    cluster=pd.DataFrame(assignment[i])\n",
    "    cluster.columns=['cluster']\n",
    "    cluster.to_csv('C:/Users/andre/Desktop/clustered/citibiki-20cluster-data{:.0f}.csv'.format(b), index=None)"
   ]
  },
  {
   "cell_type": "code",
   "execution_count": 16,
   "metadata": {},
   "outputs": [],
   "source": [
    "# Re-create a data set that the cluster assignments for concatenation with the k-means cluster assignments.\n",
    "\n",
    "cdata=dataset[['start station id','end station id','usertype','gender','age']].copy()\n",
    "cdata['trip']=cdata['start station id'].map(str) +\" to \" + cdata['end station id'].map(str)"
   ]
  },
  {
   "cell_type": "code",
   "execution_count": 17,
   "metadata": {},
   "outputs": [],
   "source": [
    "# clustering assignments were saved to .csv files as clustering from k=2 to k=20 takes over five hours and cannot be repeated\n",
    "# every time the notebook is reset. This code reads the .csv files and assigns them to data frames.\n",
    "\n",
    "cdata2=pd.read_csv('C:/Users/andre/Desktop/clustered/citibiki-20cluster-data2.csv')\n",
    "cdata3=pd.read_csv('C:/Users/andre/Desktop/clustered/citibiki-20cluster-data3.csv')\n",
    "cdata4=pd.read_csv('C:/Users/andre/Desktop/clustered/citibiki-20cluster-data4.csv')\n",
    "cdata5=pd.read_csv('C:/Users/andre/Desktop/clustered/citibiki-20cluster-data5.csv')\n",
    "cdata6=pd.read_csv('C:/Users/andre/Desktop/clustered/citibiki-20cluster-data6.csv')\n",
    "cdata7=pd.read_csv('C:/Users/andre/Desktop/clustered/citibiki-20cluster-data7.csv')\n",
    "cdata8=pd.read_csv('C:/Users/andre/Desktop/clustered/citibiki-20cluster-data8.csv')\n",
    "cdata9=pd.read_csv('C:/Users/andre/Desktop/clustered/citibiki-20cluster-data9.csv')\n",
    "cdata10=pd.read_csv('C:/Users/andre/Desktop/clustered/citibiki-20cluster-data10.csv')\n",
    "\n",
    "cdata11=pd.read_csv('C:/Users/andre/Desktop/clustered/citibiki-20cluster-data11.csv')\n",
    "cdata12=pd.read_csv('C:/Users/andre/Desktop/clustered/citibiki-20cluster-data12.csv')\n",
    "cdata13=pd.read_csv('C:/Users/andre/Desktop/clustered/citibiki-20cluster-data13.csv')\n",
    "cdata14=pd.read_csv('C:/Users/andre/Desktop/clustered/citibiki-20cluster-data14.csv')\n",
    "cdata15=pd.read_csv('C:/Users/andre/Desktop/clustered/citibiki-20cluster-data15.csv')\n",
    "cdata16=pd.read_csv('C:/Users/andre/Desktop/clustered/citibiki-20cluster-data16.csv')\n",
    "cdata17=pd.read_csv('C:/Users/andre/Desktop/clustered/citibiki-20cluster-data17.csv')\n",
    "cdata18=pd.read_csv('C:/Users/andre/Desktop/clustered/citibiki-20cluster-data18.csv')\n",
    "cdata19=pd.read_csv('C:/Users/andre/Desktop/clustered/citibiki-20cluster-data19.csv')\n",
    "cdata20=pd.read_csv('C:/Users/andre/Desktop/clustered/citibiki-20cluster-data20.csv')"
   ]
  },
  {
   "cell_type": "code",
   "execution_count": 18,
   "metadata": {},
   "outputs": [],
   "source": [
    "# merge clustering data frame with cluster assignments obtained from k-means clustering.\n",
    "\n",
    "cdata2=pd.concat([cdata,cdata2], axis=1)\n",
    "cdata3=pd.concat([cdata,cdata3], axis=1)\n",
    "cdata4=pd.concat([cdata,cdata4], axis=1)\n",
    "cdata5=pd.concat([cdata,cdata5], axis=1)\n",
    "cdata6=pd.concat([cdata,cdata6], axis=1)\n",
    "cdata7=pd.concat([cdata,cdata7], axis=1)\n",
    "cdata8=pd.concat([cdata,cdata8], axis=1)\n",
    "cdata9=pd.concat([cdata,cdata9], axis=1)\n",
    "cdata10=pd.concat([cdata,cdata10], axis=1)\n",
    "\n",
    "cdata11=pd.concat([cdata,cdata11], axis=1)\n",
    "cdata12=pd.concat([cdata,cdata12], axis=1)\n",
    "cdata13=pd.concat([cdata,cdata13], axis=1)\n",
    "cdata14=pd.concat([cdata,cdata14], axis=1)\n",
    "cdata15=pd.concat([cdata,cdata15], axis=1)\n",
    "cdata16=pd.concat([cdata,cdata16], axis=1)\n",
    "cdata17=pd.concat([cdata,cdata17], axis=1)\n",
    "cdata18=pd.concat([cdata,cdata18], axis=1)\n",
    "cdata19=pd.concat([cdata,cdata19], axis=1)\n",
    "cdata20=pd.concat([cdata,cdata20], axis=1)"
   ]
  },
  {
   "cell_type": "code",
   "execution_count": 19,
   "metadata": {},
   "outputs": [],
   "source": [
    "# Cluster Describe Function - Provides description of the clusters that have been produced for a given k value.\n",
    "\n",
    "def clusterdescribe(k,df):\n",
    "    \n",
    "    n=list(range(k))                 \n",
    "\n",
    "    for i,b in enumerate(n):\n",
    "        \n",
    "        cluster=df[df['cluster']==b]   \n",
    "    \n",
    "        cluster1=cluster['age'].describe()\n",
    "        cluster1=pd.DataFrame(cluster1)\n",
    "        print('\\nCluster Number {}.'.format(b))\n",
    "        print('minimum age is {:.1f}.'.format(cluster1.loc['min','age']))\n",
    "        #print('25 percentile age is {:.1f}.'.format(cluster1.loc['25%','age']))\n",
    "        #print('median age is {:.1f}.'.format(cluster1.loc['50%','age']))\n",
    "        print('mean age is {:.1f}.'.format(cluster1.loc['mean','age']))\n",
    "        #print('75 percentile age is {:.1f}.'.format(cluster1.loc['75%','age']))\n",
    "        print('maximum age is {:.1f}.'.format(cluster1.loc['max','age']))\n",
    "    \n",
    "        cluster1=cluster['gender'].value_counts()\n",
    "        cluster1=pd.DataFrame(cluster1)\n",
    "        cluster1.reset_index(inplace=True)\n",
    "        cluster1.columns=['gender','count']\n",
    "        tempdict={1:'males',2:'females'}\n",
    "        cluster1['gender']= cluster1['gender'].replace(to_replace = tempdict, value=None)\n",
    "        for index, row in cluster1.iterrows():\n",
    "            print('the number of {} is {}.'.format(row['gender'],row['count']))\n",
    "        \n",
    "        cluster1=cluster['usertype'].value_counts()\n",
    "        cluster1=pd.DataFrame(cluster1)\n",
    "        cluster1.reset_index(inplace=True)\n",
    "        cluster1.columns=['usertype','count']\n",
    "        for index, row in cluster1.iterrows():\n",
    "            print('the number of {} is {}.'.format(row['usertype'],row['count']))\n",
    "        \n",
    "    return()"
   ]
  },
  {
   "cell_type": "code",
   "execution_count": 20,
   "metadata": {},
   "outputs": [],
   "source": [
    "# Trip Frequency Analysis Function.\n",
    "\n",
    "# This function is used to count the number of times each trip was taken in a specified data set.\n",
    "\n",
    "def tripfreq(df):\n",
    "        \n",
    "    # Create the 'trip' column with the format: 'start station id' ' to ' 'end station id'. \n",
    "    \n",
    "    df1=df.copy()\n",
    "    \n",
    "   # Calculate how many times each trip was taken ('frequency') and sort by decreasing trip frequency. \n",
    "    \n",
    "    freq=df1['trip'].value_counts()\n",
    "    freq=pd.DataFrame(freq)\n",
    "    freq=freq.reset_index()\n",
    "    freq.columns=['trip', 'frequency']\n",
    "    freq.sort_values('frequency',ascending=False,inplace=True)\n",
    "    freq=freq.reset_index()\n",
    "    freq=freq.drop('index', axis=1) \n",
    "    \n",
    "    return(freq)\n"
   ]
  },
  {
   "cell_type": "code",
   "execution_count": 21,
   "metadata": {},
   "outputs": [],
   "source": [
    "# Trip Frequency Mapping Function.\n",
    "\n",
    "# Input: 1. freqanalysis - the data frame generated by the \"Trip Frequency Analysis Function\".\n",
    "#        2. df - a data frame with the same format and columns as the 'dataset' data frame created during data wrangling.\n",
    "#        3. F - the trip frequency cut off point. Only trips with a frequency greater than or equal to 'F' will be plotted. \n",
    "#        4. X - File name string for the map that this function will generate.\n",
    "#\n",
    "# Output: Creates a html file containing a map of New York City with the trips plotted as follows:  \n",
    "#         -Stations that are only start stations are plotted as pink circles.\n",
    "#         -Stations that are only end stations are plotted as cyan circles\n",
    "#         -Stations that are both end stations and start stations are plotted as purple circles.\n",
    "#         -A blue line is drawn from the start station to the end station to show where a trip begins and ends.      \n",
    "\n",
    "def tripfreqmap(freqanalysis, df, F, X):\n",
    "\n",
    "    # Generate a list of the trips for which the trip frequency is greater than or equal to 'F'. \n",
    "\n",
    "    trip=freqanalysis[freqanalysis['frequency']>=F].copy()\n",
    "    tripdf=trip['trip'].copy()\n",
    "    triplist=tripdf.to_list()\n",
    "        \n",
    "    # Create a dictionary so that information regarding a specific 'trip' can be looked up.\n",
    "\n",
    "    df1=df.copy()\n",
    "    dictionary=df1[['trip','start station id','end station id','start station latitude',\\\n",
    "                    'start station longitude','end station latitude','end station longitude']].copy()\n",
    "    dictionary.drop_duplicates(inplace=True)\n",
    "    dictionarytrip=dictionary.set_index('trip')\n",
    "    dictionarytrip=dictionarytrip.to_dict('index')\n",
    "\n",
    "    # Create lists to hold latitude and longitude for the start stations and end stations. \n",
    "    \n",
    "    L=len(triplist)\n",
    "    topsslat=[None]*L\n",
    "    topsslon=[None]*L\n",
    "    topeslat=[None]*L\n",
    "    topeslon=[None]*L\n",
    "\n",
    "    for i,x in enumerate(triplist):\n",
    "        topsslat[i]=dictionarytrip[x]['start station latitude']\n",
    "        topsslon[i]=dictionarytrip[x]['start station longitude']\n",
    "        topeslat[i]=dictionarytrip[x]['end station latitude']\n",
    "        topeslon[i]=dictionarytrip[x]['end station longitude']\n",
    "\n",
    "    # The gmap.plot() function draws lines from one coordinate to the next it plots the lists. \n",
    "    # However, we only want lines drawn between start station and end station \"pairs\" to show actual trips. \n",
    "    # This piece of code places start station and end station coordinates next to each other in a list so that\n",
    "    # a line can be drawn when looping through the list with a condition of \"i % 2 == 0\" to draw between pairs.\n",
    "    \n",
    "    LL=int(L*2)\n",
    "    latholder=[None]*LL\n",
    "    lonholder=[None]*LL\n",
    "\n",
    "    for i in range(0,LL):    \n",
    "        if i == 0:\n",
    "            latholder[i] = topsslat[i]\n",
    "            lonholder[i] = topsslon[i]    \n",
    "        if i == 1:\n",
    "            latholder[i] = topeslat[i]\n",
    "            lonholder[i] = topeslon[i]\n",
    "        if i % 2 == 0:\n",
    "            x=int(i/2)\n",
    "            latholder[i] = topsslat[x]\n",
    "            lonholder[i] = topsslon[x]\n",
    "        if i % 2 != 0:\n",
    "            y=int(((i+1)/2)-1)\n",
    "            latholder[i] = topeslat[y]\n",
    "            lonholder[i] = topeslon[y]\n",
    "\n",
    "    # Divide the start stations and end stations used by the trips into three groups:\n",
    "    # 1. stations that are only start stations. These stations will be plotted as pink circles.\n",
    "    # 2. stations that are only end stations. These stations will be plotted as cyan circles.\n",
    "    # 3. stations that are both end stations and start stations. These stations will be plotted as purple circles.\n",
    "\n",
    "    L=len(triplist)\n",
    "    endstationlist=[None]*L\n",
    "    startstationlist=[None]*L\n",
    "\n",
    "    for i,x in enumerate(triplist):\n",
    "        endstationlist[i]=dictionarytrip[x]['end station id']\n",
    "        startstationlist[i]=dictionarytrip[x]['start station id']\n",
    "    \n",
    "    dupstationlist = list(set(endstationlist) & set(startstationlist))\n",
    "    startstationexclusive=list(set(startstationlist)-set(dupstationlist)) \n",
    "    endstationexclusive=list(set(endstationlist)-set(dupstationlist))\n",
    "\n",
    "    # Create a dictionary so that information regarding a specific 'start station id' can be looked up.\n",
    "\n",
    "    dictionarystation = dictionary.drop_duplicates(subset='start station id', keep=\"first\")\n",
    "    dictionarystation=dictionarystation.set_index('start station id')\n",
    "    dictionarystation=dictionarystation.to_dict('index')                             \n",
    "\n",
    "    # Create lists of latitude and longitude for each of the three station groups.\n",
    "\n",
    "    L=len(startstationexclusive)\n",
    "    topsslat=[None]*L\n",
    "    topsslon=[None]*L\n",
    "\n",
    "    for i,x in enumerate(startstationexclusive):\n",
    "        topsslat[i]=dictionarystation[x]['start station latitude']\n",
    "        topsslon[i]=dictionarystation[x]['start station longitude']\n",
    "    \n",
    "    L=len(endstationexclusive)\n",
    "    topeslat=[None]*L\n",
    "    topeslon=[None]*L\n",
    "\n",
    "    for i,x in enumerate(endstationexclusive):\n",
    "        topeslat[i]=dictionarystation[x]['start station latitude']\n",
    "        topeslon[i]=dictionarystation[x]['start station longitude']    \n",
    "    \n",
    "    L=len(dupstationlist)\n",
    "    duplat=[None]*L\n",
    "    duplon=[None]*L\n",
    "\n",
    "    for i,x in enumerate(dupstationlist):\n",
    "        duplat[i]=dictionarystation[x]['start station latitude']\n",
    "        duplon[i]=dictionarystation[x]['start station longitude']\n",
    "        \n",
    "    # Generate the google maps plot and scatter plots of start station, end station and start/end station coordinates.\n",
    "\n",
    "    gmap = gmplot.GoogleMapPlotter(40.727434,-73.993790, 13) \n",
    "    gmap.scatter(topsslat,topsslon, c='pink', size = 40, marker = False) \n",
    "    gmap.scatter(topeslat,topeslon, c='cyan', size = 40, marker = False)\n",
    "    gmap.scatter(duplat,duplon, c='purple', size = 40, marker = False)\n",
    "\n",
    "    # Draw the line between the start station and end station for each trip being plotted.\n",
    "    \n",
    "    for i in range(0,LL):\n",
    "        if i % 2 == 0:\n",
    "            latitude_list=[latholder[i], latholder[i+1]]\n",
    "            longitude_list=[lonholder[i],lonholder[i+1]]\n",
    "            gmap.plot(latitude_list, longitude_list,'cornflowerblue', edge_width = 2.5)\n",
    "\n",
    "    # Save the map as html file.\n",
    "    \n",
    "    gmap.draw(\"C:\\\\Users\\\\andre\\\\Desktop\\\\gmapplots\\\\{}\".format(X))\n",
    "        \n",
    "    return()      "
   ]
  },
  {
   "cell_type": "code",
   "execution_count": 22,
   "metadata": {},
   "outputs": [],
   "source": [
    "# Three Clusters - First elbow point on SS-Curve."
   ]
  },
  {
   "cell_type": "code",
   "execution_count": 23,
   "metadata": {},
   "outputs": [],
   "source": [
    "# Data Set generation.\n",
    "\n",
    "n3freq0=tripfreq(cdata3[cdata3['cluster']==0])\n",
    "n3freq1=tripfreq(cdata3[cdata3['cluster']==1])\n",
    "n3freq2=tripfreq(cdata3[cdata3['cluster']==2])"
   ]
  },
  {
   "cell_type": "code",
   "execution_count": 24,
   "metadata": {},
   "outputs": [
    {
     "name": "stdout",
     "output_type": "stream",
     "text": [
      "\n",
      "Cluster Number 0.\n",
      "minimum age is 16.0.\n",
      "mean age is 39.2.\n",
      "maximum age is 80.0.\n",
      "the number of males is 5901493.\n",
      "the number of Subscriber is 5901493.\n",
      "\n",
      "Cluster Number 1.\n",
      "minimum age is 16.0.\n",
      "mean age is 38.4.\n",
      "maximum age is 80.0.\n",
      "the number of females is 1881309.\n",
      "the number of Subscriber is 1881309.\n",
      "\n",
      "Cluster Number 2.\n",
      "minimum age is 16.0.\n",
      "mean age is 31.7.\n",
      "maximum age is 80.0.\n",
      "the number of males is 363040.\n",
      "the number of females is 197919.\n",
      "the number of Customer is 560959.\n"
     ]
    },
    {
     "data": {
      "text/plain": [
       "()"
      ]
     },
     "execution_count": 24,
     "metadata": {},
     "output_type": "execute_result"
    }
   ],
   "source": [
    "clusterdescribe(3,cdata3)"
   ]
  },
  {
   "cell_type": "code",
   "execution_count": 25,
   "metadata": {},
   "outputs": [
    {
     "data": {
      "text/plain": [
       "1"
      ]
     },
     "execution_count": 25,
     "metadata": {},
     "output_type": "execute_result"
    }
   ],
   "source": [
    "# gmap plotting of trips - 200 most frequently taken trips in each cluster will be plotted in a different file.\n",
    "\n",
    "tripfreqmap(n3freq0,dataset, 781, 'n3c0top200.html')\n",
    "os.system('n3c0top200.html')\n",
    "\n",
    "tripfreqmap(n3freq1,dataset, 230, 'n3c1top200.html')\n",
    "os.system('n3c1top200.html')\n",
    "\n",
    "tripfreqmap(n3freq2,dataset, 117, 'n3c2top200.html')\n",
    "os.system('n3c2top200.html')"
   ]
  },
  {
   "cell_type": "code",
   "execution_count": 26,
   "metadata": {},
   "outputs": [],
   "source": [
    "# Six Clusters - Second Elbow point on SS curve."
   ]
  },
  {
   "cell_type": "code",
   "execution_count": 27,
   "metadata": {},
   "outputs": [],
   "source": [
    "# Data Set generation.\n",
    "\n",
    "n6freq0=tripfreq(cdata6[cdata6['cluster']==0])\n",
    "n6freq1=tripfreq(cdata6[cdata6['cluster']==1])\n",
    "n6freq2=tripfreq(cdata6[cdata6['cluster']==2])\n",
    "n6freq3=tripfreq(cdata6[cdata6['cluster']==3])\n",
    "n6freq4=tripfreq(cdata6[cdata6['cluster']==4])\n",
    "n6freq5=tripfreq(cdata6[cdata6['cluster']==5])"
   ]
  },
  {
   "cell_type": "code",
   "execution_count": 28,
   "metadata": {},
   "outputs": [
    {
     "name": "stdout",
     "output_type": "stream",
     "text": [
      "\n",
      "Cluster Number 0.\n",
      "minimum age is 43.0.\n",
      "mean age is 53.8.\n",
      "maximum age is 80.0.\n",
      "the number of males is 1664146.\n",
      "the number of Subscriber is 1664146.\n",
      "\n",
      "Cluster Number 1.\n",
      "minimum age is 16.0.\n",
      "mean age is 31.4.\n",
      "maximum age is 42.0.\n",
      "the number of males is 2712464.\n",
      "the number of Subscriber is 2712464.\n",
      "\n",
      "Cluster Number 2.\n",
      "minimum age is 16.0.\n",
      "mean age is 38.4.\n",
      "maximum age is 80.0.\n",
      "the number of females is 1881309.\n",
      "the number of Subscriber is 1881309.\n",
      "\n",
      "Cluster Number 3.\n",
      "minimum age is 16.0.\n",
      "mean age is 37.2.\n",
      "maximum age is 80.0.\n",
      "the number of males is 1524883.\n",
      "the number of Subscriber is 1524883.\n",
      "\n",
      "Cluster Number 4.\n",
      "minimum age is 16.0.\n",
      "mean age is 31.2.\n",
      "maximum age is 80.0.\n",
      "the number of females is 197919.\n",
      "the number of Customer is 197919.\n",
      "\n",
      "Cluster Number 5.\n",
      "minimum age is 16.0.\n",
      "mean age is 32.0.\n",
      "maximum age is 80.0.\n",
      "the number of males is 363040.\n",
      "the number of Customer is 363040.\n"
     ]
    },
    {
     "data": {
      "text/plain": [
       "()"
      ]
     },
     "execution_count": 28,
     "metadata": {},
     "output_type": "execute_result"
    }
   ],
   "source": [
    "clusterdescribe(6,cdata6)"
   ]
  },
  {
   "cell_type": "code",
   "execution_count": 29,
   "metadata": {},
   "outputs": [
    {
     "data": {
      "text/plain": [
       "1"
      ]
     },
     "execution_count": 29,
     "metadata": {},
     "output_type": "execute_result"
    }
   ],
   "source": [
    "#gmap plotting of trips - 200 most frequently taken trips in each cluster will be plotted in a different file.\n",
    "\n",
    "tripfreqmap(n6freq0,dataset, 300, 'n6c0top200.html')\n",
    "os.system('n6c0top200.html')\n",
    "\n",
    "tripfreqmap(n6freq1,dataset, 432, 'n6c1top200.html')\n",
    "os.system('n6c1top200.html')\n",
    "\n",
    "tripfreqmap(n6freq2,dataset, 230, 'n6c2top200.html')\n",
    "os.system('n6c2top200.html')\n",
    "\n",
    "tripfreqmap(n6freq3,dataset, 368, 'n6c3top200.html')\n",
    "os.system('n6c3top200.html')\n",
    "\n",
    "tripfreqmap(n6freq4,dataset, 55, 'n6c4top200.html')\n",
    "os.system('n6c4top200.html')\n",
    "\n",
    "tripfreqmap(n6freq5,dataset, 67, 'n6c5top200.html')\n",
    "os.system('n6c5top200.html')"
   ]
  },
  {
   "cell_type": "code",
   "execution_count": 30,
   "metadata": {},
   "outputs": [],
   "source": [
    "# 10 Clusters - at this point and beyond the curve is almost a straight line."
   ]
  },
  {
   "cell_type": "code",
   "execution_count": 31,
   "metadata": {},
   "outputs": [],
   "source": [
    "# Data Set generation\n",
    "\n",
    "n10freq0=tripfreq(cdata10[cdata10['cluster']==0])\n",
    "n10freq1=tripfreq(cdata10[cdata10['cluster']==1])\n",
    "n10freq2=tripfreq(cdata10[cdata10['cluster']==2])\n",
    "n10freq3=tripfreq(cdata10[cdata10['cluster']==3])\n",
    "n10freq4=tripfreq(cdata10[cdata10['cluster']==4])\n",
    "n10freq5=tripfreq(cdata10[cdata10['cluster']==5])\n",
    "n10freq6=tripfreq(cdata10[cdata10['cluster']==6])\n",
    "n10freq7=tripfreq(cdata10[cdata10['cluster']==7])\n",
    "n10freq8=tripfreq(cdata10[cdata10['cluster']==8])\n",
    "n10freq9=tripfreq(cdata10[cdata10['cluster']==9])"
   ]
  },
  {
   "cell_type": "code",
   "execution_count": 32,
   "metadata": {},
   "outputs": [
    {
     "name": "stdout",
     "output_type": "stream",
     "text": [
      "\n",
      "Cluster Number 0.\n",
      "minimum age is 16.0.\n",
      "mean age is 32.9.\n",
      "maximum age is 48.0.\n",
      "the number of males is 1103492.\n",
      "the number of Subscriber is 1103492.\n",
      "\n",
      "Cluster Number 1.\n",
      "minimum age is 42.0.\n",
      "mean age is 53.7.\n",
      "maximum age is 80.0.\n",
      "the number of females is 496500.\n",
      "the number of Subscriber is 496500.\n",
      "\n",
      "Cluster Number 2.\n",
      "minimum age is 16.0.\n",
      "mean age is 32.0.\n",
      "maximum age is 80.0.\n",
      "the number of males is 363040.\n",
      "the number of Customer is 363040.\n",
      "\n",
      "Cluster Number 3.\n",
      "minimum age is 16.0.\n",
      "mean age is 36.6.\n",
      "maximum age is 74.0.\n",
      "the number of males is 760559.\n",
      "the number of Subscriber is 760559.\n",
      "\n",
      "Cluster Number 4.\n",
      "minimum age is 16.0.\n",
      "mean age is 31.2.\n",
      "maximum age is 80.0.\n",
      "the number of females is 197919.\n",
      "the number of Customer is 197919.\n",
      "\n",
      "Cluster Number 5.\n",
      "minimum age is 42.0.\n",
      "mean age is 53.0.\n",
      "maximum age is 80.0.\n",
      "the number of males is 987435.\n",
      "the number of Subscriber is 987435.\n",
      "\n",
      "Cluster Number 6.\n",
      "minimum age is 42.0.\n",
      "mean age is 53.9.\n",
      "maximum age is 80.0.\n",
      "the number of males is 887893.\n",
      "the number of Subscriber is 887893.\n",
      "\n",
      "Cluster Number 7.\n",
      "minimum age is 16.0.\n",
      "mean age is 36.4.\n",
      "maximum age is 79.0.\n",
      "the number of females is 515360.\n",
      "the number of Subscriber is 515360.\n",
      "\n",
      "Cluster Number 8.\n",
      "minimum age is 16.0.\n",
      "mean age is 30.9.\n",
      "maximum age is 43.0.\n",
      "the number of males is 2162114.\n",
      "the number of Subscriber is 2162114.\n",
      "\n",
      "Cluster Number 9.\n",
      "minimum age is 16.0.\n",
      "mean age is 30.8.\n",
      "maximum age is 43.0.\n",
      "the number of females is 869449.\n",
      "the number of Subscriber is 869449.\n"
     ]
    },
    {
     "data": {
      "text/plain": [
       "()"
      ]
     },
     "execution_count": 32,
     "metadata": {},
     "output_type": "execute_result"
    }
   ],
   "source": [
    "clusterdescribe(10,cdata10)"
   ]
  },
  {
   "cell_type": "code",
   "execution_count": 33,
   "metadata": {},
   "outputs": [
    {
     "data": {
      "text/plain": [
       "1"
      ]
     },
     "execution_count": 33,
     "metadata": {},
     "output_type": "execute_result"
    }
   ],
   "source": [
    "# gmap plotting of trips - 200 most frequently taken trips in each cluster.\n",
    "\n",
    "tripfreqmap(n10freq0,dataset, 272, 'n10c0top200.html')\n",
    "os.system('n10c0top200.html')\n",
    "\n",
    "tripfreqmap(n10freq1,dataset, 95, 'n10c1top200.html')\n",
    "os.system('n10c1top200.html')\n",
    "\n",
    "tripfreqmap(n10freq2,dataset, 67, 'n10c2top200.html')\n",
    "os.system('n10c2top200.html')\n",
    "\n",
    "tripfreqmap(n10freq3,dataset, 247, 'n10c3top200.html')\n",
    "os.system('n10c3top200.html')\n",
    "\n",
    "tripfreqmap(n10freq4,dataset, 55, 'n10c4top200.html')\n",
    "os.system('n10c4top200.html')\n",
    "\n",
    "tripfreqmap(n10freq5,dataset, 287, 'n10c5top200.html')\n",
    "os.system('n10c5top200.html')\n",
    "\n",
    "tripfreqmap(n10freq6,dataset, 202, 'n10c6top200.html')\n",
    "os.system('n10c6top200.html')\n",
    "\n",
    "tripfreqmap(n10freq7,dataset, 134, 'n10c7top200.html')\n",
    "os.system('n10c7top200.html')\n",
    "\n",
    "tripfreqmap(n10freq8,dataset, 425, 'n10c8top200.html')\n",
    "os.system('n10c8top200.html')\n",
    "\n",
    "tripfreqmap(n10freq9,dataset, 142, 'n10c9top200.html')\n",
    "os.system('n10c9to200.html')"
   ]
  },
  {
   "cell_type": "code",
   "execution_count": 34,
   "metadata": {},
   "outputs": [],
   "source": [
    "# Analysis of Clustering:\n",
    "\n",
    "# k = 3:\n",
    "\n",
    "# cluster 0 = male subscribers 16 to 80 years of age.\n",
    "# cluster 1 = female subscribers 16 to 80 years of age.\n",
    "# cluster 2 = male and female customers 16 to 80 years of age.\n",
    "\n",
    "\n",
    "# k = 6:  ( increase = now have three male subscriber clusters and two customer clusters)\n",
    "\n",
    "# cluster 0 = male subscribers 43 to 80 years of age. Trips primarily within Midtown Manhattan.\n",
    "# cluster 1 = male subscriber 16 to 42 years of age.  Trips primarily within south end of Midtown Manhattan and Lower Manhattan.\n",
    "# cluster 2 = female subscriber 16 to 80 years of age.\n",
    "# cluster 3 = male subscriber 16 to 80 years of age.  Trips primarily within Brooklyn and south end of lower Manhattan.\n",
    "# cluster 4 = female customers 16 to 80 years of age. \n",
    "# cluster 5 = males customer 16 to 80 years of age.\n",
    "\n",
    "\n",
    "# k = 10: ( increase = now have five male subscriber clusters and three female subscriber clusters)\n",
    "\n",
    "# cluster 0 = male subscribers 16 to 48 years of age. Trips primarily within Midtown Manhattan and Upper East Side and Upper \n",
    "# West Side\n",
    "\n",
    "# cluster 1 = female subscriber 16 to 80 years of age. Trips primarily scattered around Manhattan.\n",
    "\n",
    "# cluster 2 = male customer 16 to 80 years of age. looks similar to cluster 5 in k=6. \n",
    "\n",
    "# cluster 3 = male subscriber 16 to 80 years of age.  Trips primarily within Brooklyn and south end of lower Manhattan.\n",
    "# looks similar to cluster 3 in k=6.\n",
    "\n",
    "# cluster 4 = female customers 16 to 80 years of age. looks similar to cluster 5 in k=6.\n",
    "\n",
    "# cluster 5 = males subscriber 42 to 80 years of age. Trips primarily within Midtown Manhattan.\n",
    "# looks similar to cluster 0 in k=6.\n",
    "\n",
    "# cluster 6 = male subscriber 42 to 80 years of age. Trips primarily along Hudson River, Battery Park, accross East Village.  \n",
    "\n",
    "# cluster 7 = female subscriber 16 to 79 years of age. Trips primarily in south end of lower Manhattan and Brooklyn.\n",
    "\n",
    "# cluster 8 = male subscriber 16 to 43 years of age.  Trips primarily along Hudson River, across East Village and in \n",
    "# Williamsburg region of Brooklyn.\n",
    "\n",
    "# cluster 9 = female subscriber 16 to 43 years of age. Trips primarily along Hudson River,East Village and Williamsburg.\n",
    "\n",
    "\n"
   ]
  },
  {
   "cell_type": "code",
   "execution_count": null,
   "metadata": {},
   "outputs": [],
   "source": []
  }
 ],
 "metadata": {
  "kernelspec": {
   "display_name": "Python 3",
   "language": "python",
   "name": "python3"
  },
  "language_info": {
   "codemirror_mode": {
    "name": "ipython",
    "version": 3
   },
   "file_extension": ".py",
   "mimetype": "text/x-python",
   "name": "python",
   "nbconvert_exporter": "python",
   "pygments_lexer": "ipython3",
   "version": "3.7.3"
  }
 },
 "nbformat": 4,
 "nbformat_minor": 2
}
