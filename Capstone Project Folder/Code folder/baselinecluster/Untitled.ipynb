{
 "cells": [
  {
   "cell_type": "code",
   "execution_count": 1,
   "metadata": {},
   "outputs": [],
   "source": [
    "# Import the required libraries.\n",
    "\n",
    "import matplotlib.pyplot as plt\n",
    "\n",
    "import pandas as pd\n",
    "import numpy as np\n",
    "import datetime as dt\n",
    "import os\n",
    "import scipy.stats\n",
    "from itertools import combinations\n",
    "import gmplot \n",
    "\n",
    "from sklearn import manifold\n",
    "from sklearn.metrics.pairwise import haversine_distances\n",
    "from math import radians"
   ]
  },
  {
   "cell_type": "code",
   "execution_count": 2,
   "metadata": {},
   "outputs": [],
   "source": [
    "# Read in the processed csv file created during data wrangling phase of project.\n",
    "\n",
    "dataset=pd.read_csv('C:/Users/andre/Desktop/citibiki-data-tocluster.csv')"
   ]
  },
  {
   "cell_type": "code",
   "execution_count": 3,
   "metadata": {},
   "outputs": [],
   "source": [
    "# Convert the 'starttime' and 'stoptime' columns to datetime format.\n",
    "\n",
    "#dataset['starttime'] = dataset.loc[:,'starttime'].apply(lambda x:dt.datetime.strptime(x,'%Y-%m-%d %H:%M:%S.%f'))\n",
    "#dataset['stoptime'] = dataset.loc[:,'stoptime'].apply(lambda x:dt.datetime.strptime(x,'%Y-%m-%d %H:%M:%S.%f'))"
   ]
  },
  {
   "cell_type": "code",
   "execution_count": 4,
   "metadata": {},
   "outputs": [],
   "source": [
    "# Create a list of unique start stations.\n",
    "\n",
    "stations=dataset[['start station id','start station latitude','start station longitude']].copy()\n",
    "stations.drop_duplicates(inplace=True)\n",
    "stations.sort_values('start station id', ascending=True, inplace=True)\n",
    "stations.reset_index(inplace=True)\n",
    "stations.drop('index',axis=1,inplace=True)"
   ]
  },
  {
   "cell_type": "code",
   "execution_count": 5,
   "metadata": {},
   "outputs": [],
   "source": [
    "# Create the coordinate list in radians \n",
    "\n",
    "xcoord=list(stations['start station latitude'])\n",
    "ycoord=list(stations['start station longitude'])\n",
    "\n",
    "xcoord_rad=[None]*822\n",
    "ycoord_rad=[None]*822\n",
    "coord_rad=[None]*822\n",
    "\n",
    "for i in range(822):\n",
    "    xcoord_rad[i]=radians(xcoord[i])\n",
    "    ycoord_rad[i]=radians(ycoord[i])\n",
    "\n",
    "for i in range(822):\n",
    "    coord_rad[i]=[xcoord_rad[i],ycoord_rad[i]]"
   ]
  },
  {
   "cell_type": "code",
   "execution_count": 6,
   "metadata": {},
   "outputs": [],
   "source": [
    "# Calculate pairwise Haversine distances and convert the distances to kilometers.\n",
    "\n",
    "similarities=haversine_distances(coord_rad)\n",
    "similarities=similarities * 6371000/1000  "
   ]
  },
  {
   "cell_type": "code",
   "execution_count": 7,
   "metadata": {},
   "outputs": [],
   "source": [
    "# Multi-dimensional scaling to reduce the latitiude and longitude pairs for each station to one dimension.\n",
    "\n",
    "mds= manifold.MDS(n_components=1, dissimilarity=\"precomputed\")\n",
    "\n",
    "pos = mds.fit(similarities).embedding_"
   ]
  },
  {
   "cell_type": "code",
   "execution_count": 8,
   "metadata": {},
   "outputs": [],
   "source": [
    "# Normalize the station numbers and create a dictionary to use to assign these numbers to the dataset\n",
    "\n",
    "normalized = (pos-min(pos))/(max(pos)-min(pos))\n",
    "normalized=pd.DataFrame(normalized)\n",
    "stations['normalized']=normalized\n",
    "normdict=stations[['start station id','normalized']].copy()\n",
    "normdict=normdict.set_index('start station id')\n",
    "normdict=normdict['normalized'].rename('start station id')\n",
    "normdict=normdict.to_dict()"
   ]
  },
  {
   "cell_type": "code",
   "execution_count": 9,
   "metadata": {},
   "outputs": [],
   "source": [
    "# Generate the data set for k-means clustering.\n",
    "\n",
    "cdata=dataset[['start station id','end station id','usertype','gender','age']].copy()"
   ]
  },
  {
   "cell_type": "code",
   "execution_count": 10,
   "metadata": {},
   "outputs": [],
   "source": [
    "# Normalize the 'age' data.\n",
    "\n",
    "cdata['age'] = (cdata['age']-min(cdata['age']))/(max(cdata['age'])-min(cdata['age']))"
   ]
  },
  {
   "cell_type": "code",
   "execution_count": 11,
   "metadata": {},
   "outputs": [],
   "source": [
    "# Replace the 'start station id' and 'end station id' with the station location numbers obtained from MDS.\n",
    "\n",
    "cdata['start station id']=cdata['start station id'].replace(to_replace = normdict, value=None)\n",
    "cdata['end station id']=cdata['end station id'].replace(to_replace = normdict, value=None)"
   ]
  },
  {
   "cell_type": "code",
   "execution_count": 12,
   "metadata": {},
   "outputs": [],
   "source": [
    "# Replace 'subscriber' with 1 and 'customer' with 0 in 'usertype' column.\n",
    "\n",
    "utdict={'Subscriber':1,'Customer':0}\n",
    "cdata['usertype']= cdata['usertype'].replace(to_replace = utdict, value=None)"
   ]
  },
  {
   "cell_type": "code",
   "execution_count": 13,
   "metadata": {},
   "outputs": [],
   "source": [
    "# Set 'male' to 0 and 'female' to 1 in 'gender' column.\n",
    "\n",
    "cdata['gender']=cdata['gender']-1"
   ]
  },
  {
   "cell_type": "code",
   "execution_count": 14,
   "metadata": {
    "scrolled": true
   },
   "outputs": [
    {
     "data": {
      "text/html": [
       "<div>\n",
       "<style scoped>\n",
       "    .dataframe tbody tr th:only-of-type {\n",
       "        vertical-align: middle;\n",
       "    }\n",
       "\n",
       "    .dataframe tbody tr th {\n",
       "        vertical-align: top;\n",
       "    }\n",
       "\n",
       "    .dataframe thead th {\n",
       "        text-align: right;\n",
       "    }\n",
       "</style>\n",
       "<table border=\"1\" class=\"dataframe\">\n",
       "  <thead>\n",
       "    <tr style=\"text-align: right;\">\n",
       "      <th></th>\n",
       "      <th>start station id</th>\n",
       "      <th>end station id</th>\n",
       "      <th>usertype</th>\n",
       "      <th>gender</th>\n",
       "      <th>age</th>\n",
       "    </tr>\n",
       "  </thead>\n",
       "  <tbody>\n",
       "    <tr>\n",
       "      <th>0</th>\n",
       "      <td>0.784073</td>\n",
       "      <td>0.844461</td>\n",
       "      <td>1</td>\n",
       "      <td>0</td>\n",
       "      <td>0.500000</td>\n",
       "    </tr>\n",
       "    <tr>\n",
       "      <th>1</th>\n",
       "      <td>0.633329</td>\n",
       "      <td>0.617198</td>\n",
       "      <td>1</td>\n",
       "      <td>0</td>\n",
       "      <td>0.609375</td>\n",
       "    </tr>\n",
       "    <tr>\n",
       "      <th>2</th>\n",
       "      <td>0.824118</td>\n",
       "      <td>0.764504</td>\n",
       "      <td>1</td>\n",
       "      <td>0</td>\n",
       "      <td>0.250000</td>\n",
       "    </tr>\n",
       "    <tr>\n",
       "      <th>3</th>\n",
       "      <td>0.532651</td>\n",
       "      <td>0.557308</td>\n",
       "      <td>1</td>\n",
       "      <td>0</td>\n",
       "      <td>0.203125</td>\n",
       "    </tr>\n",
       "    <tr>\n",
       "      <th>4</th>\n",
       "      <td>0.507246</td>\n",
       "      <td>0.560344</td>\n",
       "      <td>1</td>\n",
       "      <td>0</td>\n",
       "      <td>0.375000</td>\n",
       "    </tr>\n",
       "    <tr>\n",
       "      <th>5</th>\n",
       "      <td>0.935968</td>\n",
       "      <td>0.985251</td>\n",
       "      <td>1</td>\n",
       "      <td>1</td>\n",
       "      <td>0.218750</td>\n",
       "    </tr>\n",
       "    <tr>\n",
       "      <th>6</th>\n",
       "      <td>0.839218</td>\n",
       "      <td>0.805887</td>\n",
       "      <td>1</td>\n",
       "      <td>0</td>\n",
       "      <td>0.250000</td>\n",
       "    </tr>\n",
       "    <tr>\n",
       "      <th>7</th>\n",
       "      <td>0.541776</td>\n",
       "      <td>0.194752</td>\n",
       "      <td>1</td>\n",
       "      <td>0</td>\n",
       "      <td>0.343750</td>\n",
       "    </tr>\n",
       "    <tr>\n",
       "      <th>8</th>\n",
       "      <td>0.189654</td>\n",
       "      <td>0.193011</td>\n",
       "      <td>1</td>\n",
       "      <td>1</td>\n",
       "      <td>0.203125</td>\n",
       "    </tr>\n",
       "    <tr>\n",
       "      <th>9</th>\n",
       "      <td>0.502452</td>\n",
       "      <td>0.485905</td>\n",
       "      <td>1</td>\n",
       "      <td>0</td>\n",
       "      <td>0.250000</td>\n",
       "    </tr>\n",
       "  </tbody>\n",
       "</table>\n",
       "</div>"
      ],
      "text/plain": [
       "   start station id  end station id  usertype  gender       age\n",
       "0          0.784073        0.844461         1       0  0.500000\n",
       "1          0.633329        0.617198         1       0  0.609375\n",
       "2          0.824118        0.764504         1       0  0.250000\n",
       "3          0.532651        0.557308         1       0  0.203125\n",
       "4          0.507246        0.560344         1       0  0.375000\n",
       "5          0.935968        0.985251         1       1  0.218750\n",
       "6          0.839218        0.805887         1       0  0.250000\n",
       "7          0.541776        0.194752         1       0  0.343750\n",
       "8          0.189654        0.193011         1       1  0.203125\n",
       "9          0.502452        0.485905         1       0  0.250000"
      ]
     },
     "execution_count": 14,
     "metadata": {},
     "output_type": "execute_result"
    }
   ],
   "source": [
    "# Print out of data set for initial k-means clustering.\n",
    "\n",
    "cdata.head(10)"
   ]
  },
  {
   "cell_type": "code",
   "execution_count": 26,
   "metadata": {},
   "outputs": [
    {
     "name": "stderr",
     "output_type": "stream",
     "text": [
      "C:\\Users\\andre\\Anaconda3\\lib\\site-packages\\ipykernel_launcher.py:3: FutureWarning: Method .as_matrix will be removed in a future version. Use .values instead.\n",
      "  This is separate from the ipykernel package so we can avoid doing imports until\n"
     ]
    },
    {
     "name": "stdout",
     "output_type": "stream",
     "text": [
      "(8343761, 5)\n",
      "(8343761, 5)\n"
     ]
    }
   ],
   "source": [
    "# Convert data set from a data frame to a matrix.\n",
    "\n",
    "x_cols = cdata.as_matrix()\n",
    "x_cols = np.nan_to_num(x_cols)\n",
    "print(x_cols.shape)\n",
    "print(cdata.shape)"
   ]
  },
  {
   "cell_type": "code",
   "execution_count": 18,
   "metadata": {},
   "outputs": [
    {
     "data": {
      "image/png": "[encoded data removed]",
      "text/plain": [
       "<Figure size 432x288 with 1 Axes>"
      ]
     },
     "metadata": {
      "needs_background": "light"
     },
     "output_type": "display_data"
    }
   ],
   "source": [
    "# Perform clustering with number of groups ranging from k=2 to k=20. Compute SS value for each k value and plot the elbow curve.\n",
    "\n",
    "# elbows appear at k=3 and k=6.\n",
    "\n",
    "# sillhouette scoring was attempted but requires too much computing time.\n",
    "\n",
    "from sklearn.cluster import KMeans\n",
    "\n",
    "k = [2,3,4,5,6,7,8,9,10,11,12,13,14,15,16,17,18,19,20]\n",
    "assignment = np.zeros(shape=(19,8343761)) \n",
    "SS = np.zeros(shape=(19,1))\n",
    "\n",
    "for i,b in enumerate(k):\n",
    "    \n",
    "    clusterer = KMeans(n_clusters=b, random_state=0)    \n",
    "    cluster_labels = clusterer.fit_predict(x_cols)      \n",
    "    assignment[i] = cluster_labels  \n",
    "    SS[i] = clusterer.inertia_\n",
    "           \n",
    "plt.plot(k,SS)\n",
    "plt.xlabel('K Value')\n",
    "plt.ylabel('SS Value')\n",
    "plt.show()\n",
    "\n",
    "for i,b in enumerate(k):\n",
    "    cluster=pd.DataFrame(assignment[i])\n",
    "    cluster.columns=['cluster']\n",
    "    cluster.to_csv('C:/Users/andre/Desktop/clustered/citibiki-20cluster-data{:.0f}.csv'.format(b), index=None)"
   ]
  },
  {
   "cell_type": "code",
   "execution_count": 27,
   "metadata": {},
   "outputs": [
    {
     "data": {
      "text/plain": [
       "array([0.54175163, 0.18458079])"
      ]
     },
     "execution_count": 27,
     "metadata": {},
     "output_type": "execute_result"
    }
   ],
   "source": [
    "# Explained variance of two component PCA ~ 72 % is explained by two component PCA.\n",
    "\n",
    "from sklearn.decomposition import PCA\n",
    "pca = PCA(n_components=2)\n",
    "XYcoor = pca.fit_transform(x_cols)\n",
    "pca.explained_variance_ratio_"
   ]
  },
  {
   "cell_type": "code",
   "execution_count": 48,
   "metadata": {
    "scrolled": false
   },
   "outputs": [
    {
     "data": {
      "image/png": "[encoded data removed]",
      "text/plain": [
       "<Figure size 720x360 with 1 Axes>"
      ]
     },
     "metadata": {
      "needs_background": "light"
     },
     "output_type": "display_data"
    },
    {
     "data": {
      "image/png": "[encoded data removed]",
      "text/plain": [
       "<Figure size 720x360 with 1 Axes>"
      ]
     },
     "metadata": {
      "needs_background": "light"
     },
     "output_type": "display_data"
    },
    {
     "data": {
      "image/png": "[encoded data removed]",
      "text/plain": [
       "<Figure size 720x360 with 1 Axes>"
      ]
     },
     "metadata": {
      "needs_background": "light"
     },
     "output_type": "display_data"
    },
    {
     "data": {
      "image/png": "[encoded data removed]",
      "text/plain": [
       "<Figure size 720x360 with 1 Axes>"
      ]
     },
     "metadata": {
      "needs_background": "light"
     },
     "output_type": "display_data"
    },
    {
     "data": {
      "image/png": "[encoded data removed]",
      "text/plain": [
       "<Figure size 720x360 with 1 Axes>"
      ]
     },
     "metadata": {
      "needs_background": "light"
     },
     "output_type": "display_data"
    },
    {
     "data": {
      "image/png": "[encoded data removed]",
      "text/plain": [
       "<Figure size 720x360 with 1 Axes>"
      ]
     },
     "metadata": {
      "needs_background": "light"
     },
     "output_type": "display_data"
    },
    {
     "data": {
      "image/png": "[encoded data removed]",
      "text/plain": [
       "<Figure size 720x360 with 1 Axes>"
      ]
     },
     "metadata": {
      "needs_background": "light"
     },
     "output_type": "display_data"
    },
    {
     "data": {
      "image/png": "[encoded data removed]",
      "text/plain": [
       "<Figure size 720x360 with 1 Axes>"
      ]
     },
     "metadata": {
      "needs_background": "light"
     },
     "output_type": "display_data"
    },
    {
     "data": {
      "image/png": "[encoded data removed]",
      "text/plain": [
       "<Figure size 720x360 with 1 Axes>"
      ]
     },
     "metadata": {
      "needs_background": "light"
     },
     "output_type": "display_data"
    }
   ],
   "source": [
    "# Plotting of the K=2 to k=10. There are four distinct regions which segment further with regard to color as the number of\n",
    "# clusters increases.\n",
    "\n",
    "clusternum = np.zeros(shape=(0,8343761))  \n",
    "\n",
    "color_dict = dict({0.0:'purple', 1.0 :'green', 2.0: 'orange', 3.0: 'red',4.0: 'blue',5.0: 'pink',6.0:'yellow',7.0:'black',\n",
    "                  8.0:'magenta',9.0:'cyan'})\n",
    "\n",
    "for i,j in enumerate(assignment):\n",
    "    fig, ax1 = plt.subplots()                      \n",
    "    fig.set_size_inches(10, 5)\n",
    "    clusternum=assignment[i]\n",
    "    clusternum = pd.DataFrame(clusternum)\n",
    "    clusternum.columns=['cluster']\n",
    "    XYcoor=pd.DataFrame(XYcoor)\n",
    "    names=pd.concat([clusternum,XYcoor], axis=1)\n",
    "    names.columns=['cluster', 'X PCA', 'Y PCA']\n",
    "    names[\"cluster\"] = names[\"cluster\"].map(color_dict)\n",
    "    plt.scatter(names['X PCA'],names['Y PCA'],c=names['cluster'])\n",
    "    ax1.set_title(\"2 Component PCA with {:.0f} clusters\".format(i+2))\n",
    "    ax1.set_xlabel(\"X PCA\")\n",
    "    ax1.set_ylabel(\"Y PCA\")"
   ]
  },
  {
   "cell_type": "code",
   "execution_count": 28,
   "metadata": {},
   "outputs": [],
   "source": [
    "# Perform clustering with number of groups ranging from k=2 to k=10. \n",
    "\n",
    "#from sklearn.cluster import KMeans\n",
    "\n",
    "#k = [2,3,4,5,6,7,8,9,10]\n",
    "#assignment = np.zeros(shape=(9,8343761)) \n",
    "#\n",
    "#for i,b in enumerate(k):\n",
    "#    \n",
    "#    clusterer = KMeans(n_clusters=b, random_state=0)    \n",
    "#    cluster_labels = clusterer.fit_predict(x_cols)      \n",
    "#    assignment[i] = cluster_labels      "
   ]
  },
  {
   "cell_type": "code",
   "execution_count": 29,
   "metadata": {},
   "outputs": [],
   "source": [
    "#for i,b in enumerate(k):\n",
    "#    cluster=pd.DataFrame(assignment[i])\n",
    "#    cluster.columns=['cluster']\n",
    "#    cluster.to_csv('C:/Users/andre/Desktop/citibiki-wrangled-data{:.0f}.csv'.format(b), index=None)\n"
   ]
  },
  {
   "cell_type": "code",
   "execution_count": 31,
   "metadata": {},
   "outputs": [],
   "source": [
    "# clustering assignments were saved to .csv files as clustering from k=2 to k=20 takes over five hours and cannot be repeated\n",
    "# every time the notebook is reset.\n",
    "\n",
    "cdata=dataset[['start station id','end station id','usertype','gender','age']].copy()\n",
    "cdata['trip']=cdata['start station id'].map(str) +\" to \" + cdata['end station id'].map(str)"
   ]
  },
  {
   "cell_type": "code",
   "execution_count": 32,
   "metadata": {},
   "outputs": [],
   "source": [
    "# clustering assignments were saved to .csv files as clustering from k=2 to k=20 takes over five hours and cannot be repeated\n",
    "# every time the notebook is reset.\n",
    "\n",
    "cdata2=pd.read_csv('C:/Users/andre/Desktop/clustered/citibiki-20cluster-data2.csv')\n",
    "cdata3=pd.read_csv('C:/Users/andre/Desktop/clustered/citibiki-20cluster-data3.csv')\n",
    "cdata4=pd.read_csv('C:/Users/andre/Desktop/clustered/citibiki-20cluster-data4.csv')\n",
    "cdata5=pd.read_csv('C:/Users/andre/Desktop/clustered/citibiki-20cluster-data5.csv')\n",
    "cdata6=pd.read_csv('C:/Users/andre/Desktop/clustered/citibiki-20cluster-data6.csv')\n",
    "cdata7=pd.read_csv('C:/Users/andre/Desktop/clustered/citibiki-20cluster-data7.csv')\n",
    "cdata8=pd.read_csv('C:/Users/andre/Desktop/clustered/citibiki-20cluster-data8.csv')\n",
    "cdata9=pd.read_csv('C:/Users/andre/Desktop/clustered/citibiki-20cluster-data9.csv')\n",
    "cdata10=pd.read_csv('C:/Users/andre/Desktop/clustered/citibiki-20cluster-data10.csv')\n",
    "\n",
    "cdata11=pd.read_csv('C:/Users/andre/Desktop/clustered/citibiki-20cluster-data11.csv')\n",
    "cdata12=pd.read_csv('C:/Users/andre/Desktop/clustered/citibiki-20cluster-data12.csv')\n",
    "cdata13=pd.read_csv('C:/Users/andre/Desktop/clustered/citibiki-20cluster-data13.csv')\n",
    "cdata14=pd.read_csv('C:/Users/andre/Desktop/clustered/citibiki-20cluster-data14.csv')\n",
    "cdata15=pd.read_csv('C:/Users/andre/Desktop/clustered/citibiki-20cluster-data15.csv')\n",
    "cdata16=pd.read_csv('C:/Users/andre/Desktop/clustered/citibiki-20cluster-data16.csv')\n",
    "cdata17=pd.read_csv('C:/Users/andre/Desktop/clustered/citibiki-20cluster-data17.csv')\n",
    "cdata18=pd.read_csv('C:/Users/andre/Desktop/clustered/citibiki-20cluster-data18.csv')\n",
    "cdata19=pd.read_csv('C:/Users/andre/Desktop/clustered/citibiki-20cluster-data19.csv')\n",
    "cdata20=pd.read_csv('C:/Users/andre/Desktop/clustered/citibiki-20cluster-data20.csv')"
   ]
  },
  {
   "cell_type": "code",
   "execution_count": 33,
   "metadata": {},
   "outputs": [],
   "source": [
    "# merge clustering data frame with cluster assignments obtained from k-means clustering\n",
    "\n",
    "cdata2=pd.concat([cdata,cdata2], axis=1)\n",
    "cdata3=pd.concat([cdata,cdata3], axis=1)\n",
    "cdata4=pd.concat([cdata,cdata4], axis=1)\n",
    "cdata5=pd.concat([cdata,cdata5], axis=1)\n",
    "cdata6=pd.concat([cdata,cdata6], axis=1)\n",
    "cdata7=pd.concat([cdata,cdata7], axis=1)\n",
    "cdata8=pd.concat([cdata,cdata8], axis=1)\n",
    "cdata9=pd.concat([cdata,cdata9], axis=1)\n",
    "cdata10=pd.concat([cdata,cdata10], axis=1)\n",
    "\n",
    "cdata11=pd.concat([cdata,cdata11], axis=1)\n",
    "cdata12=pd.concat([cdata,cdata12], axis=1)\n",
    "cdata13=pd.concat([cdata,cdata13], axis=1)\n",
    "cdata14=pd.concat([cdata,cdata14], axis=1)\n",
    "cdata15=pd.concat([cdata,cdata15], axis=1)\n",
    "cdata16=pd.concat([cdata,cdata16], axis=1)\n",
    "cdata17=pd.concat([cdata,cdata17], axis=1)\n",
    "cdata18=pd.concat([cdata,cdata18], axis=1)\n",
    "cdata19=pd.concat([cdata,cdata19], axis=1)\n",
    "cdata20=pd.concat([cdata,cdata20], axis=1)"
   ]
  },
  {
   "cell_type": "code",
   "execution_count": 58,
   "metadata": {},
   "outputs": [
    {
     "name": "stdout",
     "output_type": "stream",
     "text": [
      "\n",
      "Cluster Number 0.\n",
      "minimum age is 16.0.\n",
      "mean age is 32.9.\n",
      "maximum age is 48.0.\n",
      "the number of males is 1103492.\n",
      "the number of Subscriber is 1103492.\n",
      "\n",
      "Cluster Number 1.\n",
      "minimum age is 42.0.\n",
      "mean age is 53.7.\n",
      "maximum age is 80.0.\n",
      "the number of females is 496500.\n",
      "the number of Subscriber is 496500.\n",
      "\n",
      "Cluster Number 2.\n",
      "minimum age is 16.0.\n",
      "mean age is 32.0.\n",
      "maximum age is 80.0.\n",
      "the number of males is 363040.\n",
      "the number of Customer is 363040.\n",
      "\n",
      "Cluster Number 3.\n",
      "minimum age is 16.0.\n",
      "mean age is 36.6.\n",
      "maximum age is 74.0.\n",
      "the number of males is 760559.\n",
      "the number of Subscriber is 760559.\n",
      "\n",
      "Cluster Number 4.\n",
      "minimum age is 16.0.\n",
      "mean age is 31.2.\n",
      "maximum age is 80.0.\n",
      "the number of females is 197919.\n",
      "the number of Customer is 197919.\n",
      "\n",
      "Cluster Number 5.\n",
      "minimum age is 42.0.\n",
      "mean age is 53.0.\n",
      "maximum age is 80.0.\n",
      "the number of males is 987435.\n",
      "the number of Subscriber is 987435.\n",
      "\n",
      "Cluster Number 6.\n",
      "minimum age is 42.0.\n",
      "mean age is 53.9.\n",
      "maximum age is 80.0.\n",
      "the number of males is 887893.\n",
      "the number of Subscriber is 887893.\n",
      "\n",
      "Cluster Number 7.\n",
      "minimum age is 16.0.\n",
      "mean age is 36.4.\n",
      "maximum age is 79.0.\n",
      "the number of females is 515360.\n",
      "the number of Subscriber is 515360.\n",
      "\n",
      "Cluster Number 8.\n",
      "minimum age is 16.0.\n",
      "mean age is 30.9.\n",
      "maximum age is 43.0.\n",
      "the number of males is 2162114.\n",
      "the number of Subscriber is 2162114.\n",
      "\n",
      "Cluster Number 9.\n",
      "minimum age is 16.0.\n",
      "mean age is 30.8.\n",
      "maximum age is 43.0.\n",
      "the number of females is 869449.\n",
      "the number of Subscriber is 869449.\n"
     ]
    }
   ],
   "source": [
    "# Cluster Summary Loop - Provides description of the clusters that have been produced for a given k value.\n",
    "\n",
    "n=list(range(10))                 # change the range number to the k value\n",
    "\n",
    "for i,b in enumerate(n):\n",
    "    \n",
    "    cluster=cdata10[cdata10['cluster']==b]   # change data source based on k value\n",
    "    \n",
    "    cluster1=cluster['age'].describe()\n",
    "    cluster1=pd.DataFrame(cluster1)\n",
    "    print('\\nCluster Number {}.'.format(b))\n",
    "    print('minimum age is {:.1f}.'.format(cluster1.loc['min','age']))\n",
    "    #print('25 percentile age is {:.1f}.'.format(cluster1.loc['25%','age']))\n",
    "    #print('median age is {:.1f}.'.format(cluster1.loc['50%','age']))\n",
    "    print('mean age is {:.1f}.'.format(cluster1.loc['mean','age']))\n",
    "    #print('75 percentile age is {:.1f}.'.format(cluster1.loc['75%','age']))\n",
    "    print('maximum age is {:.1f}.'.format(cluster1.loc['max','age']))\n",
    "    \n",
    "    cluster1=cluster['gender'].value_counts()\n",
    "    cluster1=pd.DataFrame(cluster1)\n",
    "    cluster1.reset_index(inplace=True)\n",
    "    cluster1.columns=['gender','count']\n",
    "    tempdict={1:'males',2:'females'}\n",
    "    cluster1['gender']= cluster1['gender'].replace(to_replace = tempdict, value=None)\n",
    "    for index, row in cluster1.iterrows():\n",
    "        print('the number of {} is {}.'.format(row['gender'],row['count']))\n",
    "        \n",
    "    cluster1=cluster['usertype'].value_counts()\n",
    "    cluster1=pd.DataFrame(cluster1)\n",
    "    cluster1.reset_index(inplace=True)\n",
    "    cluster1.columns=['usertype','count']\n",
    "    for index, row in cluster1.iterrows():\n",
    "        print('the number of {} is {}.'.format(row['usertype'],row['count']))    "
   ]
  },
  {
   "cell_type": "code",
   "execution_count": 38,
   "metadata": {},
   "outputs": [],
   "source": [
    "# Trip Frequency Analysis Function.\n",
    "\n",
    "def tripfreq(df):\n",
    "        \n",
    "    # Create the 'trip' column with the format: 'start station id' ' to ' 'end station id'. \n",
    "    \n",
    "    df1=df.copy()\n",
    "    \n",
    "   # Calculate how many times each trip was taken ('frequency') and sort by decreasing trip frequency. \n",
    "    \n",
    "    freq=df1['trip'].value_counts()\n",
    "    freq=pd.DataFrame(freq)\n",
    "    freq=freq.reset_index()\n",
    "    freq.columns=['trip', 'frequency']\n",
    "    freq.sort_values('frequency',ascending=False,inplace=True)\n",
    "    freq=freq.reset_index()\n",
    "    freq=freq.drop('index', axis=1) \n",
    "    \n",
    "    return(freq)\n"
   ]
  },
  {
   "cell_type": "code",
   "execution_count": 39,
   "metadata": {},
   "outputs": [],
   "source": [
    "# Trip Frequency Mapping Function.\n",
    "\n",
    "# Input: 1. freqanalysis - the data frame generated by the \"Trip Frequency Analysis Function\".\n",
    "#        2. df - a data frame with the same format and columns as the 'dataset' data frame created during data wrangling.\n",
    "#        3. F - the trip frequency cut off point. Only trips with a frequency greater than or equal to 'F' will be plotted. \n",
    "#        4. X - File name string for the map that this function will generate.\n",
    "#\n",
    "# Output: Creates a html file containing a map of New York City with the trips plotted as follows:  \n",
    "#         -Stations that are only start stations are plotted as pink circles.\n",
    "#         -Stations that are only end stations are plotted as cyan circles\n",
    "#         -Stations that are both end stations and start stations are plotted as purple circles.\n",
    "#         -A blue line is drawn from the start station to the end station to show where a trip begins and ends.      \n",
    "\n",
    "def tripfreqmap(freqanalysis, df, F, X):\n",
    "\n",
    "    # Generate a list of the trips for which the trip frequency is greater than or equal to 'F'. \n",
    "\n",
    "    trip=freqanalysis[freqanalysis['frequency']>=F].copy()\n",
    "    tripdf=trip['trip'].copy()\n",
    "    triplist=tripdf.to_list()\n",
    "        \n",
    "    # Create a dictionary so that information regarding a specific 'trip' can be looked up.\n",
    "\n",
    "    df1=df.copy()\n",
    "    dictionary=df1[['trip','start station id','end station id','start station latitude',\\\n",
    "                    'start station longitude','end station latitude','end station longitude']].copy()\n",
    "    dictionary.drop_duplicates(inplace=True)\n",
    "    dictionarytrip=dictionary.set_index('trip')\n",
    "    dictionarytrip=dictionarytrip.to_dict('index')\n",
    "\n",
    "    # Create lists to hold latitude and longitude for the start stations and end stations. \n",
    "    \n",
    "    L=len(triplist)\n",
    "    topsslat=[None]*L\n",
    "    topsslon=[None]*L\n",
    "    topeslat=[None]*L\n",
    "    topeslon=[None]*L\n",
    "\n",
    "    for i,x in enumerate(triplist):\n",
    "        topsslat[i]=dictionarytrip[x]['start station latitude']\n",
    "        topsslon[i]=dictionarytrip[x]['start station longitude']\n",
    "        topeslat[i]=dictionarytrip[x]['end station latitude']\n",
    "        topeslon[i]=dictionarytrip[x]['end station longitude']\n",
    "\n",
    "    # The gmap.plot() function draws lines from one coordinate to the next it plots the lists. \n",
    "    # However, we only want lines drawn between start station and end station \"pairs\" to show actual trips. \n",
    "    # This piece of code places start station and end station coordinates next to each other in a list so that\n",
    "    # a line can be drawn when looping through the list with a condition of \"i % 2 == 0\" to draw between pairs.\n",
    "    \n",
    "    LL=int(L*2)\n",
    "    latholder=[None]*LL\n",
    "    lonholder=[None]*LL\n",
    "\n",
    "    for i in range(0,LL):    \n",
    "        if i == 0:\n",
    "            latholder[i] = topsslat[i]\n",
    "            lonholder[i] = topsslon[i]    \n",
    "        if i == 1:\n",
    "            latholder[i] = topeslat[i]\n",
    "            lonholder[i] = topeslon[i]\n",
    "        if i % 2 == 0:\n",
    "            x=int(i/2)\n",
    "            latholder[i] = topsslat[x]\n",
    "            lonholder[i] = topsslon[x]\n",
    "        if i % 2 != 0:\n",
    "            y=int(((i+1)/2)-1)\n",
    "            latholder[i] = topeslat[y]\n",
    "            lonholder[i] = topeslon[y]\n",
    "\n",
    "    # Divide the start stations and end stations used by the trips into three groups:\n",
    "    # 1. stations that are only start stations. These stations will be plotted as pink circles.\n",
    "    # 2. stations that are only end stations. These stations will be plotted as cyan circles.\n",
    "    # 3. stations that are both end stations and start stations. These stations will be plotted as purple circles.\n",
    "\n",
    "    L=len(triplist)\n",
    "    endstationlist=[None]*L\n",
    "    startstationlist=[None]*L\n",
    "\n",
    "    for i,x in enumerate(triplist):\n",
    "        endstationlist[i]=dictionarytrip[x]['end station id']\n",
    "        startstationlist[i]=dictionarytrip[x]['start station id']\n",
    "    \n",
    "    dupstationlist = list(set(endstationlist) & set(startstationlist))\n",
    "    startstationexclusive=list(set(startstationlist)-set(dupstationlist)) \n",
    "    endstationexclusive=list(set(endstationlist)-set(dupstationlist))\n",
    "\n",
    "    # Create a dictionary so that information regarding a specific 'start station id' can be looked up.\n",
    "\n",
    "    dictionarystation = dictionary.drop_duplicates(subset='start station id', keep=\"first\")\n",
    "    dictionarystation=dictionarystation.set_index('start station id')\n",
    "    dictionarystation=dictionarystation.to_dict('index')                             \n",
    "\n",
    "    # Create lists of latitude and longitude for each of the three station groups.\n",
    "\n",
    "    L=len(startstationexclusive)\n",
    "    topsslat=[None]*L\n",
    "    topsslon=[None]*L\n",
    "\n",
    "    for i,x in enumerate(startstationexclusive):\n",
    "        topsslat[i]=dictionarystation[x]['start station latitude']\n",
    "        topsslon[i]=dictionarystation[x]['start station longitude']\n",
    "    \n",
    "    L=len(endstationexclusive)\n",
    "    topeslat=[None]*L\n",
    "    topeslon=[None]*L\n",
    "\n",
    "    for i,x in enumerate(endstationexclusive):\n",
    "        topeslat[i]=dictionarystation[x]['start station latitude']\n",
    "        topeslon[i]=dictionarystation[x]['start station longitude']    \n",
    "    \n",
    "    L=len(dupstationlist)\n",
    "    duplat=[None]*L\n",
    "    duplon=[None]*L\n",
    "\n",
    "    for i,x in enumerate(dupstationlist):\n",
    "        duplat[i]=dictionarystation[x]['start station latitude']\n",
    "        duplon[i]=dictionarystation[x]['start station longitude']\n",
    "        \n",
    "    # Generate the google maps plot and scatter plots of start station, end station and start/end station coordinates.\n",
    "\n",
    "    gmap = gmplot.GoogleMapPlotter(40.727434,-73.993790, 13) \n",
    "    gmap.scatter(topsslat,topsslon, c='pink', size = 40, marker = False) \n",
    "    gmap.scatter(topeslat,topeslon, c='cyan', size = 40, marker = False)\n",
    "    gmap.scatter(duplat,duplon, c='purple', size = 40, marker = False)\n",
    "\n",
    "    # Draw the line between the start station and end station for each trip being plotted.\n",
    "    \n",
    "    for i in range(0,LL):\n",
    "        if i % 2 == 0:\n",
    "            latitude_list=[latholder[i], latholder[i+1]]\n",
    "            longitude_list=[lonholder[i],lonholder[i+1]]\n",
    "            gmap.plot(latitude_list, longitude_list,'cornflowerblue', edge_width = 2.5)\n",
    "\n",
    "    # Save the map as html file.\n",
    "    \n",
    "    gmap.draw(\"C:\\\\Users\\\\andre\\\\Desktop\\\\gmapplots\\\\{}\".format(X))\n",
    "        \n",
    "    return()      "
   ]
  },
  {
   "cell_type": "code",
   "execution_count": null,
   "metadata": {},
   "outputs": [],
   "source": [
    "# Plotting."
   ]
  },
  {
   "cell_type": "code",
   "execution_count": null,
   "metadata": {},
   "outputs": [],
   "source": [
    "# Three Clusters."
   ]
  },
  {
   "cell_type": "code",
   "execution_count": 47,
   "metadata": {},
   "outputs": [],
   "source": [
    "# Data Set generation\n",
    "\n",
    "n3freq0=tripfreq(cdata3[cdata3['cluster']==0])\n",
    "n3freq1=tripfreq(cdata3[cdata3['cluster']==1])\n",
    "n3freq2=tripfreq(cdata3[cdata3['cluster']==2])"
   ]
  },
  {
   "cell_type": "code",
   "execution_count": 57,
   "metadata": {},
   "outputs": [
    {
     "data": {
      "text/plain": [
       "1"
      ]
     },
     "execution_count": 57,
     "metadata": {},
     "output_type": "execute_result"
    }
   ],
   "source": [
    "# gmap plotting of trips - 100 most frequently taken trips in each cluster.\n",
    "\n",
    "tripfreqmap(n3freq0,dataset, 989, 'n3c0top100.html')\n",
    "os.system('n3c0top100.html')\n",
    "\n",
    "tripfreqmap(n3freq1,dataset, 296, 'n3c1top100.html')\n",
    "os.system('n3c1top100.html')\n",
    "\n",
    "tripfreqmap(n3freq2,dataset, 177, 'n3c2top100.html')\n",
    "os.system('n3c2top100.html')"
   ]
  },
  {
   "cell_type": "code",
   "execution_count": null,
   "metadata": {},
   "outputs": [],
   "source": [
    "# Four Clusters."
   ]
  },
  {
   "cell_type": "code",
   "execution_count": 40,
   "metadata": {},
   "outputs": [],
   "source": [
    "# Data Set generation - 100 most frequently taken trips in each cluster.\n",
    "\n",
    "n4freq0=tripfreq(cdata4[cdata4['cluster']==0])\n",
    "n4freq1=tripfreq(cdata4[cdata4['cluster']==1])\n",
    "n4freq2=tripfreq(cdata4[cdata4['cluster']==2])\n",
    "n4freq3=tripfreq(cdata4[cdata4['cluster']==3])"
   ]
  },
  {
   "cell_type": "code",
   "execution_count": null,
   "metadata": {},
   "outputs": [],
   "source": [
    "# gmap plotting of trips\n",
    "\n",
    "tripfreqmap(n4freq0,dataset, 609, 'n4c0top100.html')\n",
    "os.system('n4c0top100.html')\n",
    "\n",
    "tripfreqmap(n4freq1,dataset, 296, 'n4c1top100.html')\n",
    "os.system('n4c1top100.html')\n",
    "\n",
    "tripfreqmap(n4freq2,dataset, 793, 'n4c2top100.html')\n",
    "os.system('n4c2top100.html')\n",
    "\n",
    "tripfreqmap(n4freq3,dataset, 177, 'n4c3top100.html')\n",
    "os.system('n4c3top100.html')"
   ]
  },
  {
   "cell_type": "code",
   "execution_count": null,
   "metadata": {},
   "outputs": [],
   "source": [
    "# Five Clusters."
   ]
  },
  {
   "cell_type": "code",
   "execution_count": null,
   "metadata": {},
   "outputs": [],
   "source": [
    "# Data Set generation - 100 most frequently taken trips in each cluster.\n",
    "\n",
    "n5freq0=tripfreq(cdata5[cdata5['cluster']==0])\n",
    "n5freq1=tripfreq(cdata5[cdata5['cluster']==1])\n",
    "n5freq2=tripfreq(cdata5[cdata5['cluster']==2])\n",
    "n5freq3=tripfreq(cdata5[cdata5['cluster']==3])\n",
    "n5freq4=tripfreq(cdata5[cdata5['cluster']==4])"
   ]
  },
  {
   "cell_type": "code",
   "execution_count": 42,
   "metadata": {},
   "outputs": [
    {
     "data": {
      "text/plain": [
       "0"
      ]
     },
     "execution_count": 42,
     "metadata": {},
     "output_type": "execute_result"
    }
   ],
   "source": [
    "# gmap plotting of trips\n",
    "\n",
    "tripfreqmap(n5freq0,dataset, 793, 'n5c0top100.html')\n",
    "os.system('n5c0top100.html')\n",
    "\n",
    "tripfreqmap(n5freq1,dataset, 296, 'n5c1top100.html')\n",
    "os.system('n5c1top100.html')\n",
    "\n",
    "tripfreqmap(n5freq2,dataset, 83, 'n5c2top100.html')\n",
    "os.system('n5c2top100.html')\n",
    "\n",
    "tripfreqmap(n5freq3,dataset, 97, 'n5c3top100.html')\n",
    "os.system('n5c3top100.html')\n",
    "\n",
    "tripfreqmap(n5freq4,dataset, 609, 'n5c4top100.html')\n",
    "os.system('n5c4top100.html')"
   ]
  },
  {
   "cell_type": "code",
   "execution_count": null,
   "metadata": {},
   "outputs": [],
   "source": [
    "# Six Clusters."
   ]
  },
  {
   "cell_type": "code",
   "execution_count": 54,
   "metadata": {},
   "outputs": [],
   "source": [
    "# Data Set generation\n",
    "\n",
    "n6freq0=tripfreq(cdata6[cdata6['cluster']==0])\n",
    "n6freq1=tripfreq(cdata6[cdata6['cluster']==1])\n",
    "n6freq2=tripfreq(cdata6[cdata6['cluster']==2])\n",
    "n6freq3=tripfreq(cdata6[cdata6['cluster']==3])\n",
    "n6freq4=tripfreq(cdata6[cdata6['cluster']==4])\n",
    "n6freq5=tripfreq(cdata6[cdata6['cluster']==5])"
   ]
  },
  {
   "cell_type": "code",
   "execution_count": 55,
   "metadata": {},
   "outputs": [
    {
     "data": {
      "text/plain": [
       "1"
      ]
     },
     "execution_count": 55,
     "metadata": {},
     "output_type": "execute_result"
    }
   ],
   "source": [
    "# gmap plotting of trips - 100 most frequently taken trips in each cluster.\n",
    "\n",
    "tripfreqmap(n6freq0,dataset, 386, 'n6c0top100.html')\n",
    "os.system('n6c0top100.html')\n",
    "\n",
    "tripfreqmap(n6freq1,dataset, 529, 'n6c1top100.html')\n",
    "os.system('n6c1top100.html')\n",
    "\n",
    "tripfreqmap(n6freq2,dataset, 296, 'n6c2top100.html')\n",
    "os.system('n6c2top100.html')\n",
    "\n",
    "tripfreqmap(n6freq3,dataset, 480, 'n6c3top100.html')\n",
    "os.system('n6c3top100.html')\n",
    "\n",
    "tripfreqmap(n6freq4,dataset, 83, 'n6c4top100.html')\n",
    "os.system('n6c4top100.html')\n",
    "\n",
    "tripfreqmap(n6freq5,dataset, 97, 'n6c5top100.html')\n",
    "os.system('n6c5top100.html')"
   ]
  },
  {
   "cell_type": "code",
   "execution_count": null,
   "metadata": {},
   "outputs": [],
   "source": [
    "# Seven Clusters."
   ]
  },
  {
   "cell_type": "code",
   "execution_count": 57,
   "metadata": {},
   "outputs": [],
   "source": [
    "# Data Set generation\n",
    "\n",
    "n7freq0=tripfreq(cdata7[cdata7['cluster']==0])\n",
    "n7freq1=tripfreq(cdata7[cdata7['cluster']==1])\n",
    "n7freq2=tripfreq(cdata7[cdata7['cluster']==2])\n",
    "n7freq3=tripfreq(cdata7[cdata7['cluster']==3])\n",
    "n7freq4=tripfreq(cdata7[cdata7['cluster']==4])\n",
    "n7freq5=tripfreq(cdata7[cdata7['cluster']==5])\n",
    "n7freq6=tripfreq(cdata7[cdata7['cluster']==6])"
   ]
  },
  {
   "cell_type": "code",
   "execution_count": 66,
   "metadata": {},
   "outputs": [
    {
     "data": {
      "text/plain": [
       "0"
      ]
     },
     "execution_count": 66,
     "metadata": {},
     "output_type": "execute_result"
    }
   ],
   "source": [
    "# gmap plotting of trips - 100 most frequently taken trips in each cluster.\n",
    "\n",
    "tripfreqmap(n7freq0,dataset, 529, 'n7c0top100.html')\n",
    "os.system('n7c0top100.html')\n",
    "\n",
    "tripfreqmap(n7freq1,dataset, 235, 'n7c1top100.html')\n",
    "os.system('n7c1top100.html')\n",
    "\n",
    "tripfreqmap(n7freq2,dataset, 97, 'n7c2top100.html')\n",
    "os.system('n7c2top100.html')\n",
    "\n",
    "tripfreqmap(n7freq3,dataset, 386, 'n7c3top100.html')\n",
    "os.system('n7c3top100.html')\n",
    "\n",
    "tripfreqmap(n7freq4,dataset, 480, 'n7c4top100.html')\n",
    "os.system('n7c4top100.html')\n",
    "\n",
    "tripfreqmap(n7freq5,dataset, 189, 'n7c5top100.html')\n",
    "os.system('n7c5top100.html')\n",
    "\n",
    "tripfreqmap(n7freq6,dataset, 83, 'n7c6top100.html')\n",
    "os.system('n7c6top100.html')"
   ]
  },
  {
   "cell_type": "code",
   "execution_count": null,
   "metadata": {},
   "outputs": [],
   "source": [
    "# Eight Clusters."
   ]
  },
  {
   "cell_type": "code",
   "execution_count": 78,
   "metadata": {},
   "outputs": [],
   "source": [
    "# Data Set generation\n",
    "\n",
    "n8freq0=tripfreq(cdata8[cdata8['cluster']==0])\n",
    "n8freq1=tripfreq(cdata8[cdata8['cluster']==1])\n",
    "n8freq2=tripfreq(cdata8[cdata8['cluster']==2])\n",
    "n8freq3=tripfreq(cdata8[cdata8['cluster']==3])\n",
    "n8freq4=tripfreq(cdata8[cdata8['cluster']==4])\n",
    "n8freq5=tripfreq(cdata8[cdata8['cluster']==5])\n",
    "n8freq6=tripfreq(cdata8[cdata8['cluster']==6])\n",
    "n8freq7=tripfreq(cdata8[cdata8['cluster']==7])"
   ]
  },
  {
   "cell_type": "code",
   "execution_count": 82,
   "metadata": {},
   "outputs": [
    {
     "data": {
      "text/plain": [
       "0"
      ]
     },
     "execution_count": 82,
     "metadata": {},
     "output_type": "execute_result"
    }
   ],
   "source": [
    "# gmap plotting of trips - 100 most frequently taken trips in each cluster.\n",
    "\n",
    "tripfreqmap(n8freq0,dataset, 97, 'n8c0top100.html')\n",
    "os.system('n8c0top100.html')\n",
    "\n",
    "tripfreqmap(n8freq1,dataset, 531, 'n8c1top100.html')\n",
    "os.system('n8c1top100.html')\n",
    "\n",
    "tripfreqmap(n8freq2,dataset, 236, 'n8c2top100.html')\n",
    "os.system('n8c2top100.html')\n",
    "\n",
    "tripfreqmap(n8freq3,dataset, 83, 'n8c3top100.html')\n",
    "os.system('n8c3top100.html')\n",
    "\n",
    "tripfreqmap(n8freq4,dataset, 374, 'n8c4top100.html')\n",
    "os.system('n8c4top100.html')\n",
    "\n",
    "tripfreqmap(n8freq5,dataset, 395, 'n8c5top100.html')\n",
    "os.system('n8c5top100.html')\n",
    "\n",
    "tripfreqmap(n8freq6,dataset, 189, 'n8c6top100.html')\n",
    "os.system('n8c6top100.html')\n",
    "\n",
    "tripfreqmap(n8freq7,dataset, 375, 'n8c7top100.html')\n",
    "os.system('n8c7top100.html')"
   ]
  },
  {
   "cell_type": "code",
   "execution_count": null,
   "metadata": {},
   "outputs": [],
   "source": [
    "# Nine Clusters"
   ]
  },
  {
   "cell_type": "code",
   "execution_count": 102,
   "metadata": {},
   "outputs": [],
   "source": [
    "# Data Set generation\n",
    "\n",
    "n9freq0=tripfreq(cdata9[cdata9['cluster']==0])\n",
    "n9freq1=tripfreq(cdata9[cdata9['cluster']==1])\n",
    "n9freq2=tripfreq(cdata9[cdata9['cluster']==2])\n",
    "n9freq3=tripfreq(cdata9[cdata9['cluster']==3])\n",
    "n9freq4=tripfreq(cdata9[cdata9['cluster']==4])\n",
    "n9freq5=tripfreq(cdata9[cdata9['cluster']==5])\n",
    "n9freq6=tripfreq(cdata9[cdata9['cluster']==6])\n",
    "n9freq7=tripfreq(cdata9[cdata9['cluster']==7])\n",
    "n9freq8=tripfreq(cdata9[cdata9['cluster']==8])"
   ]
  },
  {
   "cell_type": "code",
   "execution_count": 107,
   "metadata": {},
   "outputs": [
    {
     "data": {
      "text/plain": [
       "0"
      ]
     },
     "execution_count": 107,
     "metadata": {},
     "output_type": "execute_result"
    }
   ],
   "source": [
    "# gmap plotting of trips - 100 most frequently taken trips in each cluster.\n",
    "\n",
    "tripfreqmap(n9freq0,dataset, 97, 'n9c0top100.html')\n",
    "os.system('n9c0top100.html')\n",
    "\n",
    "tripfreqmap(n9freq1,dataset, 531, 'n9c1top100.html')\n",
    "os.system('n9c1top100.html')\n",
    "\n",
    "tripfreqmap(n9freq2,dataset, 178, 'n9c2top100.html')\n",
    "os.system('n9c2top100.html')\n",
    "\n",
    "tripfreqmap(n9freq3,dataset, 374, 'n9c3top100.html')\n",
    "os.system('n9c3top100.html')\n",
    "\n",
    "tripfreqmap(n9freq4,dataset, 83, 'n9c4top100.html')\n",
    "os.system('n9c4top100.html')\n",
    "\n",
    "tripfreqmap(n9freq5,dataset, 179, 'n9c5top100.html')\n",
    "os.system('n9c5top100.html')\n",
    "\n",
    "tripfreqmap(n9freq6,dataset, 375, 'n9c6top100.html')\n",
    "os.system('n9c6top100.html')\n",
    "\n",
    "tripfreqmap(n9freq7,dataset, 392, 'n9c7top100.html')\n",
    "os.system('n9c7top100.html')\n",
    "\n",
    "tripfreqmap(n9freq8,dataset, 116, 'n9c8top100.html')\n",
    "os.system('n9c8top100.html')"
   ]
  },
  {
   "cell_type": "code",
   "execution_count": 59,
   "metadata": {},
   "outputs": [],
   "source": [
    "# Ten Clusters"
   ]
  },
  {
   "cell_type": "code",
   "execution_count": 60,
   "metadata": {},
   "outputs": [],
   "source": [
    "# Data Set generation\n",
    "\n",
    "n10freq0=tripfreq(cdata10[cdata10['cluster']==0])\n",
    "n10freq1=tripfreq(cdata10[cdata10['cluster']==1])\n",
    "n10freq2=tripfreq(cdata10[cdata10['cluster']==2])\n",
    "n10freq3=tripfreq(cdata10[cdata10['cluster']==3])\n",
    "n10freq4=tripfreq(cdata10[cdata10['cluster']==4])\n",
    "n10freq5=tripfreq(cdata10[cdata10['cluster']==5])\n",
    "n10freq6=tripfreq(cdata10[cdata10['cluster']==6])\n",
    "n10freq7=tripfreq(cdata10[cdata10['cluster']==7])\n",
    "n10freq8=tripfreq(cdata10[cdata10['cluster']==8])\n",
    "n10freq9=tripfreq(cdata10[cdata10['cluster']==9])"
   ]
  },
  {
   "cell_type": "code",
   "execution_count": 61,
   "metadata": {},
   "outputs": [
    {
     "data": {
      "text/plain": [
       "1"
      ]
     },
     "execution_count": 61,
     "metadata": {},
     "output_type": "execute_result"
    }
   ],
   "source": [
    "# gmap plotting of trips - 100 most frequently taken trips in each cluster.\n",
    "\n",
    "tripfreqmap(n10freq0,dataset, 365, 'n10c0top100.html')\n",
    "os.system('n10c0top100.html')\n",
    "\n",
    "tripfreqmap(n10freq1,dataset, 116, 'n10c1top100.html')\n",
    "os.system('n10c1top100.html')\n",
    "\n",
    "tripfreqmap(n10freq2,dataset, 97, 'n10c2top100.html')\n",
    "os.system('n10c2top100.html')\n",
    "\n",
    "tripfreqmap(n10freq3,dataset, 336, 'n10c3top100.html')\n",
    "os.system('n10c3top100.html')\n",
    "\n",
    "tripfreqmap(n10freq4,dataset, 83, 'n10c4top100.html')\n",
    "os.system('n10c4top100.html')\n",
    "\n",
    "tripfreqmap(n10freq5,dataset, 382, 'n10c5top100.html')\n",
    "os.system('n10c5top100.html')\n",
    "\n",
    "tripfreqmap(n10freq6,dataset, 253, 'n10c6top100.html')\n",
    "os.system('n10c6top100.html')\n",
    "\n",
    "tripfreqmap(n10freq7,dataset, 179, 'n10c7top100.html')\n",
    "os.system('n10c7top100.html')\n",
    "\n",
    "tripfreqmap(n10freq8,dataset, 521, 'n10c8top100.html')\n",
    "os.system('n10c8top100.html')\n",
    "\n",
    "tripfreqmap(n10freq9,dataset, 178, 'n10c9top100.html')\n",
    "os.system('n10c9top100.html')"
   ]
  },
  {
   "cell_type": "code",
   "execution_count": null,
   "metadata": {},
   "outputs": [],
   "source": [
    "# Analysis of Clustering:\n",
    "\n",
    "# k = 3:\n",
    "\n",
    "# cluster 0 = male subscribers 16 to 80 years of age.\n",
    "# cluster 1 = female subscribers 16 to 80 years of age.\n",
    "# cluster 2 = male and female customers 16 to 80 years of age.\n",
    "\n",
    "\n",
    "\n",
    "\n",
    "\n",
    "# k = 6:  ( increase = now have three male subscriber clusters and two customer clusters)\n",
    "\n",
    "# cluster 0 = male subscribers 43 to 80 years of age. Trips primarily within Midtown Manhattan.\n",
    "# cluster 1 = male subscriber 16 to 42 years of age.  Trips primarily within south end of Midtown Manhattan and Lower Manhattan.\n",
    "# cluster 2 = female subscriber 16 to 80 years of age.\n",
    "# cluster 3 = male subscriber 16 to 80 years of age.  Trips primarily within Brooklyn, Queens and south end of lower Manhattan.\n",
    "# cluster 4 = female customers 16 to 80 years of age. \n",
    "# cluster 5 = males customer 16 to 80 years of age.\n",
    "\n",
    "\n",
    "\n",
    "\n",
    "\n",
    "\n",
    "# k = 10: ( increase = now have five male subscriber clusters and three female subscriber clusters)\n",
    "\n",
    "# cluster 0 = male subscribers 16 to 48 years of age. Trips primarily within Midtown Manhattan and Upper East Side and Upper \n",
    "# West Side\n",
    "\n",
    "# cluster 1 = female subscriber 16 to 80 years of age. Trips primarily scattered around Manhattan.\n",
    "\n",
    "# cluster 2 = male customer 16 to 80 years of age. looks similar to cluster 5 in k=6. \n",
    "\n",
    "# cluster 3 = male subscriber 16 to 80 years of age.  Trips primarily within Brooklyn, Queens and south end of lower Manhattan.\n",
    "# looks similar to cluster 3 in k=6.\n",
    "\n",
    "# cluster 4 = female customers 16 to 80 years of age. looks similar to cluster 5 in k=6.\n",
    "\n",
    "# cluster 5 = males subscriber 42 to 80 years of age. Trips primarily within Midtown Manhattan.\n",
    "# looks similar to cluster 0 in k=6.\n",
    "\n",
    "# cluster 6 = male subscriber 42 to 80 years of age. Trips primarily along Hudson River, Battery Park, accross East Village.  \n",
    "\n",
    "# cluster 7 = female subscriber 16 to 79 years of age. Trips primarily in south end of lower Manhattan and Brooklyn.\n",
    "\n",
    "# cluster 8 = male subscriber 16 to 43 years of age.  Trips primarily along Hudson River, across East Village and in \n",
    "# Williamsburg region of Brooklyn.\n",
    "\n",
    "# cluster 9 = female subscriber 16 to 43 years of age. Trips primarily along Hudson River,East Village and Williamsburg.\n",
    "\n",
    "\n"
   ]
  },
  {
   "cell_type": "code",
   "execution_count": null,
   "metadata": {},
   "outputs": [],
   "source": []
  },
  {
   "cell_type": "code",
   "execution_count": null,
   "metadata": {},
   "outputs": [],
   "source": [
    "# initiated at 8:45 PM and terminated at 4:20 PM. at that time, the k=10 clustering was not complete.\n",
    "# kprototypes is too slow to use for comparison purposes.\n",
    "\n",
    "from kmodes.kprototypes import KPrototypes\n",
    "\n",
    "clusterer = KPrototypes(n_clusters=10, random_state=0)    \n",
    "cluster_labels = clusterer.fit_predict(x_cols,categorical=[2, 3])\n",
    "\n",
    "cluster=pd.DataFrame(cluster_labels)\n",
    "cluster.columns=['cluster']\n",
    "cluster.to_csv('C:/Users/andre/Desktop/protoclust/citibiki-data10.csv', index=None)\n",
    "\n",
    "\n",
    "\n",
    "clusterer = KPrototypes(n_clusters=6, random_state=0)    \n",
    "cluster_labels = clusterer.fit_predict(x_cols,categorical=[2, 3])\n",
    "\n",
    "cluster=pd.DataFrame(cluster_labels)\n",
    "cluster.columns=['cluster']\n",
    "cluster.to_csv('C:/Users/andre/Desktop/protoclust/citibiki-data6.csv', index=None)"
   ]
  }
 ],
 "metadata": {
  "kernelspec": {
   "display_name": "Python 3",
   "language": "python",
   "name": "python3"
  },
  "language_info": {
   "codemirror_mode": {
    "name": "ipython",
    "version": 3
   },
   "file_extension": ".py",
   "mimetype": "text/x-python",
   "name": "python",
   "nbconvert_exporter": "python",
   "pygments_lexer": "ipython3",
   "version": "3.7.3"
  }
 },
 "nbformat": 4,
 "nbformat_minor": 2
}
