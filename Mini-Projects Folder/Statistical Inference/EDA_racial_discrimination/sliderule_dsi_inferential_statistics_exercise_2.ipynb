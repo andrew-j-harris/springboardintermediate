{
 "cells": [
  {
   "cell_type": "markdown",
   "metadata": {},
   "source": [
    "# Examining Racial Discrimination in the US Job Market\n",
    "\n",
    "### Background\n",
    "Racial discrimination continues to be pervasive in cultures throughout the world. Researchers examined the level of racial discrimination in the United States labor market by randomly assigning identical résumés to black-sounding or white-sounding names and observing the impact on requests for interviews from employers.\n",
    "\n",
    "### Data\n",
    "In the dataset provided, each row represents a resume. The 'race' column has two values, 'b' and 'w', indicating black-sounding and white-sounding. The column 'call' has two values, 1 and 0, indicating whether the resume received a call from employers or not.\n",
    "\n",
    "Note that the 'b' and 'w' values in race are assigned randomly to the resumes when presented to the employer."
   ]
  },
  {
   "cell_type": "markdown",
   "metadata": {},
   "source": [
    "### Exercises\n",
    "You will perform a statistical analysis to establish whether race has a significant impact on the rate of callbacks for resumes.\n",
    "\n",
    "Answer the following questions **in this notebook below and submit to your Github account**. \n",
    "\n",
    "   1. What test is appropriate for this problem? Does CLT apply?\n",
    "   2. What are the null and alternate hypotheses?\n",
    "   3. Compute margin of error, confidence interval, and p-value. Try using both the bootstrapping and the frequentist statistical approaches.\n",
    "   4. Write a story describing the statistical significance in the context or the original problem.\n",
    "   5. Does your analysis mean that race/name is the most important factor in callback success? Why or why not? If not, how would you amend your analysis?\n",
    "\n",
    "You can include written notes in notebook cells using Markdown: \n",
    "   - In the control panel at the top, choose Cell > Cell Type > Markdown\n",
    "   - Markdown syntax: http://nestacms.com/docs/creating-content/markdown-cheat-sheet\n",
    "\n",
    "#### Resources\n",
    "+ Experiment information and data source: http://www.povertyactionlab.org/evaluation/discrimination-job-market-united-states\n",
    "+ Scipy statistical methods: http://docs.scipy.org/doc/scipy/reference/stats.html \n",
    "+ Markdown syntax: http://nestacms.com/docs/creating-content/markdown-cheat-sheet\n",
    "+ Formulas for the Bernoulli distribution: https://en.wikipedia.org/wiki/Bernoulli_distribution"
   ]
  },
  {
   "cell_type": "code",
   "execution_count": 1,
   "metadata": {},
   "outputs": [],
   "source": [
    "import pandas as pd\n",
    "import numpy as np\n",
    "from scipy import stats\n",
    "import matplotlib.pyplot as plt"
   ]
  },
  {
   "cell_type": "code",
   "execution_count": 2,
   "metadata": {},
   "outputs": [],
   "source": [
    "data = pd.io.stata.read_stata('data/us_job_market_discrimination.dta')"
   ]
  },
  {
   "cell_type": "code",
   "execution_count": 3,
   "metadata": {},
   "outputs": [
    {
     "data": {
      "text/html": [
       "<div>\n",
       "<style scoped>\n",
       "    .dataframe tbody tr th:only-of-type {\n",
       "        vertical-align: middle;\n",
       "    }\n",
       "\n",
       "    .dataframe tbody tr th {\n",
       "        vertical-align: top;\n",
       "    }\n",
       "\n",
       "    .dataframe thead th {\n",
       "        text-align: right;\n",
       "    }\n",
       "</style>\n",
       "<table border=\"1\" class=\"dataframe\">\n",
       "  <thead>\n",
       "    <tr style=\"text-align: right;\">\n",
       "      <th></th>\n",
       "      <th>id</th>\n",
       "      <th>ad</th>\n",
       "      <th>education</th>\n",
       "      <th>ofjobs</th>\n",
       "      <th>yearsexp</th>\n",
       "      <th>honors</th>\n",
       "      <th>volunteer</th>\n",
       "      <th>military</th>\n",
       "      <th>empholes</th>\n",
       "      <th>occupspecific</th>\n",
       "      <th>...</th>\n",
       "      <th>compreq</th>\n",
       "      <th>orgreq</th>\n",
       "      <th>manuf</th>\n",
       "      <th>transcom</th>\n",
       "      <th>bankreal</th>\n",
       "      <th>trade</th>\n",
       "      <th>busservice</th>\n",
       "      <th>othservice</th>\n",
       "      <th>missind</th>\n",
       "      <th>ownership</th>\n",
       "    </tr>\n",
       "  </thead>\n",
       "  <tbody>\n",
       "    <tr>\n",
       "      <th>0</th>\n",
       "      <td>b</td>\n",
       "      <td>1</td>\n",
       "      <td>4</td>\n",
       "      <td>2</td>\n",
       "      <td>6</td>\n",
       "      <td>0</td>\n",
       "      <td>0</td>\n",
       "      <td>0</td>\n",
       "      <td>1</td>\n",
       "      <td>17</td>\n",
       "      <td>...</td>\n",
       "      <td>1.0</td>\n",
       "      <td>0.0</td>\n",
       "      <td>1.0</td>\n",
       "      <td>0.0</td>\n",
       "      <td>0.0</td>\n",
       "      <td>0.0</td>\n",
       "      <td>0.0</td>\n",
       "      <td>0.0</td>\n",
       "      <td>0.0</td>\n",
       "      <td></td>\n",
       "    </tr>\n",
       "    <tr>\n",
       "      <th>1</th>\n",
       "      <td>b</td>\n",
       "      <td>1</td>\n",
       "      <td>3</td>\n",
       "      <td>3</td>\n",
       "      <td>6</td>\n",
       "      <td>0</td>\n",
       "      <td>1</td>\n",
       "      <td>1</td>\n",
       "      <td>0</td>\n",
       "      <td>316</td>\n",
       "      <td>...</td>\n",
       "      <td>1.0</td>\n",
       "      <td>0.0</td>\n",
       "      <td>1.0</td>\n",
       "      <td>0.0</td>\n",
       "      <td>0.0</td>\n",
       "      <td>0.0</td>\n",
       "      <td>0.0</td>\n",
       "      <td>0.0</td>\n",
       "      <td>0.0</td>\n",
       "      <td></td>\n",
       "    </tr>\n",
       "    <tr>\n",
       "      <th>2</th>\n",
       "      <td>b</td>\n",
       "      <td>1</td>\n",
       "      <td>4</td>\n",
       "      <td>1</td>\n",
       "      <td>6</td>\n",
       "      <td>0</td>\n",
       "      <td>0</td>\n",
       "      <td>0</td>\n",
       "      <td>0</td>\n",
       "      <td>19</td>\n",
       "      <td>...</td>\n",
       "      <td>1.0</td>\n",
       "      <td>0.0</td>\n",
       "      <td>1.0</td>\n",
       "      <td>0.0</td>\n",
       "      <td>0.0</td>\n",
       "      <td>0.0</td>\n",
       "      <td>0.0</td>\n",
       "      <td>0.0</td>\n",
       "      <td>0.0</td>\n",
       "      <td></td>\n",
       "    </tr>\n",
       "    <tr>\n",
       "      <th>3</th>\n",
       "      <td>b</td>\n",
       "      <td>1</td>\n",
       "      <td>3</td>\n",
       "      <td>4</td>\n",
       "      <td>6</td>\n",
       "      <td>0</td>\n",
       "      <td>1</td>\n",
       "      <td>0</td>\n",
       "      <td>1</td>\n",
       "      <td>313</td>\n",
       "      <td>...</td>\n",
       "      <td>1.0</td>\n",
       "      <td>0.0</td>\n",
       "      <td>1.0</td>\n",
       "      <td>0.0</td>\n",
       "      <td>0.0</td>\n",
       "      <td>0.0</td>\n",
       "      <td>0.0</td>\n",
       "      <td>0.0</td>\n",
       "      <td>0.0</td>\n",
       "      <td></td>\n",
       "    </tr>\n",
       "    <tr>\n",
       "      <th>4</th>\n",
       "      <td>b</td>\n",
       "      <td>1</td>\n",
       "      <td>3</td>\n",
       "      <td>3</td>\n",
       "      <td>22</td>\n",
       "      <td>0</td>\n",
       "      <td>0</td>\n",
       "      <td>0</td>\n",
       "      <td>0</td>\n",
       "      <td>313</td>\n",
       "      <td>...</td>\n",
       "      <td>1.0</td>\n",
       "      <td>1.0</td>\n",
       "      <td>0.0</td>\n",
       "      <td>0.0</td>\n",
       "      <td>0.0</td>\n",
       "      <td>0.0</td>\n",
       "      <td>0.0</td>\n",
       "      <td>1.0</td>\n",
       "      <td>0.0</td>\n",
       "      <td>Nonprofit</td>\n",
       "    </tr>\n",
       "  </tbody>\n",
       "</table>\n",
       "<p>5 rows × 65 columns</p>\n",
       "</div>"
      ],
      "text/plain": [
       "  id ad  education  ofjobs  yearsexp  honors  volunteer  military  empholes  \\\n",
       "0  b  1          4       2         6       0          0         0         1   \n",
       "1  b  1          3       3         6       0          1         1         0   \n",
       "2  b  1          4       1         6       0          0         0         0   \n",
       "3  b  1          3       4         6       0          1         0         1   \n",
       "4  b  1          3       3        22       0          0         0         0   \n",
       "\n",
       "   occupspecific  ...  compreq  orgreq  manuf  transcom  bankreal trade  \\\n",
       "0             17  ...      1.0     0.0    1.0       0.0       0.0   0.0   \n",
       "1            316  ...      1.0     0.0    1.0       0.0       0.0   0.0   \n",
       "2             19  ...      1.0     0.0    1.0       0.0       0.0   0.0   \n",
       "3            313  ...      1.0     0.0    1.0       0.0       0.0   0.0   \n",
       "4            313  ...      1.0     1.0    0.0       0.0       0.0   0.0   \n",
       "\n",
       "  busservice othservice  missind  ownership  \n",
       "0        0.0        0.0      0.0             \n",
       "1        0.0        0.0      0.0             \n",
       "2        0.0        0.0      0.0             \n",
       "3        0.0        0.0      0.0             \n",
       "4        0.0        1.0      0.0  Nonprofit  \n",
       "\n",
       "[5 rows x 65 columns]"
      ]
     },
     "execution_count": 3,
     "metadata": {},
     "output_type": "execute_result"
    }
   ],
   "source": [
    "data.head()"
   ]
  },
  {
   "cell_type": "markdown",
   "metadata": {
    "collapsed": true
   },
   "source": [
    "<div class=\"span5 alert alert-success\">\n",
    "<p>Your answers to Q1 and Q2 and Q3 here </p>\n",
    "</div>"
   ]
  },
  {
   "cell_type": "code",
   "execution_count": 4,
   "metadata": {},
   "outputs": [],
   "source": [
    "# 1. What test is appropriate for this problem? Does CLT apply?\n",
    "# 2. What are the null and alternate hypotheses?"
   ]
  },
  {
   "cell_type": "code",
   "execution_count": null,
   "metadata": {},
   "outputs": [],
   "source": [
    "# The appropriate test for this problem are \"Two Sample Bootstrap test for difference of means\" and the \"one-way chi square test\"\n",
    "\n",
    "# The central limit theorem applies as the data set is large.\n",
    "\n",
    "# Two Sample Bootstrap test for difference of means:\n",
    "# H0: difference of means equals 0.\n",
    "# HA: difference of means does not equal 0.\n",
    "\n",
    "# one-way chi square test:\n",
    "# H0: there is no association between the race and call back.\n",
    "# HA: there is an association between the race and call back."
   ]
  },
  {
   "cell_type": "code",
   "execution_count": 9,
   "metadata": {},
   "outputs": [],
   "source": [
    "# 3. Compute margin of error, confidence interval, and p-value. Try using both the bootstrapping and the frequentist\n",
    "# statistical approaches."
   ]
  },
  {
   "cell_type": "code",
   "execution_count": null,
   "metadata": {},
   "outputs": [],
   "source": [
    "# Create sperate data sets for \"black sounding\" and \"white sounding\" names.\n",
    "\n",
    "w = data[data.race=='w']\n",
    "b = data[data.race=='b']"
   ]
  },
  {
   "cell_type": "code",
   "execution_count": null,
   "metadata": {},
   "outputs": [],
   "source": [
    "# 2435 resumes with \"white sounding\" names resulted in 235 calls for interviews.\n",
    "\n",
    "w['call'].value_counts()"
   ]
  },
  {
   "cell_type": "code",
   "execution_count": null,
   "metadata": {},
   "outputs": [],
   "source": [
    "# 2435 resumes with \"black sounding\" names resulted in 157 calls for interviews.\n",
    "\n",
    "b['call'].value_counts()"
   ]
  },
  {
   "cell_type": "code",
   "execution_count": 10,
   "metadata": {
    "scrolled": true
   },
   "outputs": [
    {
     "name": "stdout",
     "output_type": "stream",
     "text": [
      "Black call back\n",
      "0.06447519495420158\n",
      "0.004993118993541376\n",
      "[0.0550308  0.07433265]\n"
     ]
    },
    {
     "data": {
      "image/png": "[encoded data removed]",
      "text/plain": [
       "<Figure size 432x288 with 1 Axes>"
      ]
     },
     "metadata": {
      "needs_background": "light"
     },
     "output_type": "display_data"
    },
    {
     "name": "stdout",
     "output_type": "stream",
     "text": [
      "White call back\n",
      "0.09649433264225721\n",
      "0.005980452750310963\n",
      "[0.08501027 0.10841889]\n"
     ]
    },
    {
     "data": {
      "image/png": "[encoded data removed]",
      "text/plain": [
       "<Figure size 432x288 with 1 Axes>"
      ]
     },
     "metadata": {
      "needs_background": "light"
     },
     "output_type": "display_data"
    }
   ],
   "source": [
    "# Bootstrap Mean, Standard Error of Mean and 95% confidence level Calculation for w and b data sets. \n",
    "\n",
    "bs_rep_b = np.empty(100000)\n",
    "bs_rep_w = np.empty(100000)\n",
    "\n",
    "for i in range(100000):\n",
    "        bs_rep_b[i] = np.mean(np.random.choice(b['call'], size=2435))\n",
    "        bs_rep_w[i] = np.mean(np.random.choice(w['call'], size=2435))\n",
    "        \n",
    "\n",
    "print(\"Black call back\")        \n",
    "        \n",
    "b_bs_mean=bs_rep_b.mean()        \n",
    "print(b_bs_mean)\n",
    "\n",
    "b_bs_std = np.std(bs_rep_b)\n",
    "print(b_bs_std)\n",
    "\n",
    "b_bs_con=np.percentile(bs_rep_b,[2.5,97.5])\n",
    "print(b_bs_con)\n",
    "\n",
    "_ = plt.hist(bs_rep_b, bins=50, density=True)\n",
    "_ = plt.xlabel('call back')\n",
    "_ = plt.ylabel('PDF')\n",
    "\n",
    "plt.show()\n",
    "\n",
    "\n",
    "print(\"White call back\")  \n",
    "\n",
    "w_bs_mean=bs_rep_w.mean()        \n",
    "print(w_bs_mean)\n",
    "\n",
    "w_bs_std = np.std(bs_rep_w)\n",
    "print(w_bs_std)\n",
    "\n",
    "w_bs_con=np.percentile(bs_rep_w,[2.5,97.5])\n",
    "print(w_bs_con)\n",
    "\n",
    "_ = plt.hist(bs_rep_w, bins=50, density=True)\n",
    "_ = plt.xlabel('call back')\n",
    "_ = plt.ylabel('PDF')\n",
    "\n",
    "plt.show()"
   ]
  },
  {
   "cell_type": "code",
   "execution_count": 11,
   "metadata": {},
   "outputs": [
    {
     "name": "stdout",
     "output_type": "stream",
     "text": [
      "0.08049932656347751\n",
      "0.0038827097097792924\n",
      "[0.07289527 0.08829569]\n"
     ]
    },
    {
     "data": {
      "image/png": "[encoded data removed]",
      "text/plain": [
       "<Figure size 432x288 with 1 Axes>"
      ]
     },
     "metadata": {
      "needs_background": "light"
     },
     "output_type": "display_data"
    }
   ],
   "source": [
    "# Bootstrap Mean, Standard Error of Mean and 95% confidence level Calculation for whole data set.\n",
    "\n",
    "bs_rep = np.empty(100000)\n",
    "\n",
    "\n",
    "for i in range(100000):\n",
    "        w_draw=np.random.choice(w['call'], size=2435)\n",
    "        b_draw=np.random.choice(b['call'], size=2435)\n",
    "        total=np.concatenate((w_draw,b_draw),axis=None)\n",
    "        bs_rep[i] = np.mean(total)\n",
    "        \n",
    "        \n",
    "bs_mean=bs_rep.mean()        \n",
    "print(bs_mean)\n",
    "\n",
    "bs_std = np.std(bs_rep)\n",
    "print(bs_std)\n",
    "\n",
    "bs_con=np.percentile(bs_rep,[2.5,97.5])\n",
    "print(bs_con)\n",
    "\n",
    "_ = plt.hist(bs_rep, bins=50, density=True)\n",
    "_ = plt.xlabel('call back')\n",
    "_ = plt.ylabel('PDF')\n",
    "\n",
    "plt.show()"
   ]
  },
  {
   "cell_type": "code",
   "execution_count": 12,
   "metadata": {},
   "outputs": [
    {
     "name": "stdout",
     "output_type": "stream",
     "text": [
      "p-value = 0.0\n"
     ]
    }
   ],
   "source": [
    "# Two Sample Bootstrap test for difference of means.\n",
    "\n",
    "# H0: difference of means equals 0.\n",
    "# HA: difference of means does not equal 0.\n",
    "\n",
    "# p-value = 0.0. Therefore, we reject the null hypothesis in favour of the alternative hypothesis.\n",
    "\n",
    "B=b['call']\n",
    "W=w['call']\n",
    "\n",
    "bshifted= B- np.mean(B) + data['call'].mean()\n",
    "wshifted= W - np.mean(W) + data['call'].mean()\n",
    "\n",
    "n=100000\n",
    "\n",
    "bs_rep_B = np.empty(n) \n",
    "bs_rep_W = np.empty(n) \n",
    "\n",
    "for i in range(n):\n",
    "        bs_rep_B[i] = np.mean(np.random.choice(bshifted, size=2435))\n",
    "        bs_rep_W[i] = np.mean(np.random.choice(wshifted, size=2435))\n",
    "\n",
    "bs_rep = bs_rep_W - bs_rep_B\n",
    "                              \n",
    "p = np.sum(bs_rep >= (W.mean()-B.mean())) / n\n",
    "print('p-value =', p)"
   ]
  },
  {
   "cell_type": "code",
   "execution_count": 24,
   "metadata": {},
   "outputs": [
    {
     "name": "stdout",
     "output_type": "stream",
     "text": [
      "Black call back\n",
      "0.06447638603696099\n",
      "0.004977121442811946\n",
      "0.05452214315133709\n",
      "0.07443062892258488\n",
      "\n",
      "White call back\n",
      "0.09650924024640657\n",
      "0.005984072178128066\n",
      "0.08454109589015044\n",
      "0.10847738460266271\n"
     ]
    }
   ],
   "source": [
    "# Frequentist Mean, Standard Error of Mean and 95% confidence level Calculation for w and b data sets.\n",
    "\n",
    "# For Bernoulli distribution, the mean is calculated as E[X]=p where p is probability of call back.\n",
    "# For Bernoulli distribution, the standard error of mean SEM = (k*p*(1-p)/n)^0.5 where k = number of trial and n = sample size.\n",
    "# for Bernoulli distribution, the 95% confidence interval is calculated as p + 2 * SEM and p - 2 * SEM.\n",
    "\n",
    "# The results below match those obtained from the bootstrap calculations.\n",
    "\n",
    "print(\"Black call back\")\n",
    "\n",
    "bmean=157/2435\n",
    "print(bmean)\n",
    "\n",
    "bsem=((bmean*(1-bmean))/2435)**(0.5)\n",
    "print(bsem)\n",
    "\n",
    "bconl = bmean - 2*bsem\n",
    "bconu = bmean + 2*bsem\n",
    "print(bconl)\n",
    "print(bconu)\n",
    "\n",
    "print(\"\\nWhite call back\")\n",
    "\n",
    "wmean=235/2435\n",
    "print(wmean)\n",
    "\n",
    "wsem=((wmean*(1-wmean))/2435)**(0.5)\n",
    "print(wsem)\n",
    "\n",
    "wconl = wmean - 2*wsem\n",
    "wconu = wmean + 2*wsem\n",
    "print(wconl)\n",
    "print(wconu)"
   ]
  },
  {
   "cell_type": "code",
   "execution_count": 29,
   "metadata": {},
   "outputs": [
    {
     "name": "stdout",
     "output_type": "stream",
     "text": [
      "Overall call back\n",
      "0.08049281314168377\n",
      "0.0038984470180852284\n",
      "0.07269591910551332\n",
      "0.08828970717785423\n"
     ]
    }
   ],
   "source": [
    "# Frequentist Mean, Standard Error of Mean and 95% confidence level Calculation for whole data set.\n",
    "\n",
    "# For Bernoulli distribution, the mean is calculated as E[X]=p where p is probability of call back.\n",
    "# For Bernoulli distribution, the standard error of mean SEM = (k*p*(1-p)/n)^0.5 where k = number of trial and n = sample size.\n",
    "# for Bernoulli distribution, the 95% confidence interval is calculated as p + 2 * SEM and p - 2 * SEM.\n",
    "\n",
    "# The results below match those obtained from the bootstrap calculations.\n",
    "\n",
    "print(\"Overall call back\")\n",
    "\n",
    "mean=(157+235)/(2435*2)\n",
    "print(mean)\n",
    "\n",
    "sem=((mean*(1-mean))/(2435*2))**(0.5)\n",
    "print(sem)\n",
    "\n",
    "conl = mean - 2*sem\n",
    "conu = mean + 2*sem\n",
    "print(conl)\n",
    "print(conu)"
   ]
  },
  {
   "cell_type": "code",
   "execution_count": 33,
   "metadata": {},
   "outputs": [
    {
     "data": {
      "text/plain": [
       "Power_divergenceResult(statistic=28.654816247582204, pvalue=2.646407945261075e-06)"
      ]
     },
     "execution_count": 33,
     "metadata": {},
     "output_type": "execute_result"
    }
   ],
   "source": [
    "# Frequentist p-value calculation.\n",
    "\n",
    "# one-way chi square test is used because data is categorical.\n",
    "\n",
    "# H0: there is no association between the race and call back.\n",
    "# HA: there is an association between the race and call back.\n",
    "\n",
    "# pvalue=2.6464e-06. We reject the null hypothesis in favour of the alternative hypothesis.\n",
    "\n",
    "# This result is in alignment with the results of the \"Two Sample Bootstrap test for difference of means\".\n",
    "\n",
    "import scipy\n",
    "\n",
    "scipy.stats.chisquare([2200,235,2278,157],[2200,235,2200,235])\n"
   ]
  },
  {
   "cell_type": "markdown",
   "metadata": {},
   "source": [
    "<div class=\"span5 alert alert-success\">\n",
    "<p> Your answers to Q4 and Q5 here </p>\n",
    "</div>"
   ]
  },
  {
   "cell_type": "code",
   "execution_count": null,
   "metadata": {},
   "outputs": [],
   "source": [
    "# 4. Write a story describing the statistical significance in the context or the original problem."
   ]
  },
  {
   "cell_type": "code",
   "execution_count": null,
   "metadata": {},
   "outputs": [],
   "source": [
    "# 2435 resumes with \"white sounding\" names were sent to employers and 235 calls for interiews were obtained.\n",
    "# 2435 resumes with \"white sounding\" names were sent to employers and 157 calls for interiews were obtained.\n",
    "# White call back percentage was 9.65% and black call back percentage was 6.44%.\n",
    "# \"Two Sample Bootstrap test for difference of means\" confirmed that the difference between the means was statistically \n",
    "# significant.\n",
    "# \"one-way chi square test\" confirmed that there is an association between \"race\" and \"call back\""
   ]
  },
  {
   "cell_type": "code",
   "execution_count": null,
   "metadata": {},
   "outputs": [],
   "source": [
    "# 5. Does your analysis mean that race/name is the most important factor in callback success? Why or why not? \n",
    "# If not, how would you amend your analysis?"
   ]
  },
  {
   "cell_type": "code",
   "execution_count": null,
   "metadata": {},
   "outputs": [],
   "source": [
    "# No. race/name is the only factor that was analysed. If more variables such as relevance of past work experience, \n",
    "# years of experience, education level, field of study were analyzed, it could possibly be found that one of these other factors\n",
    "# was a greater determinante in getting called for an interview.\n",
    "\n",
    "# The analysis should be appended to test other variables to determine which variable is the most important factor in getting\n",
    "# called for an interview."
   ]
  },
  {
   "cell_type": "code",
   "execution_count": null,
   "metadata": {},
   "outputs": [],
   "source": []
  }
 ],
 "metadata": {
  "kernelspec": {
   "display_name": "Python 3",
   "language": "python",
   "name": "python3"
  },
  "language_info": {
   "codemirror_mode": {
    "name": "ipython",
    "version": 3
   },
   "file_extension": ".py",
   "mimetype": "text/x-python",
   "name": "python",
   "nbconvert_exporter": "python",
   "pygments_lexer": "ipython3",
   "version": "3.7.3"
  }
 },
 "nbformat": 4,
 "nbformat_minor": 1
}
