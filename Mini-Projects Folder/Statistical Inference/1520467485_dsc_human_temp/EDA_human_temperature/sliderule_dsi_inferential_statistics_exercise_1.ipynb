{
 "cells": [
  {
   "cell_type": "markdown",
   "metadata": {},
   "source": [
    "# What is the True Normal Human Body Temperature? \n",
    "\n",
    "#### Background\n",
    "\n",
    "The mean normal body temperature was held to be 37$^{\\circ}$C or 98.6$^{\\circ}$F for more than 120 years since it was first conceptualized and reported by Carl Wunderlich in a famous 1868 book. But, is this value statistically correct?"
   ]
  },
  {
   "cell_type": "markdown",
   "metadata": {},
   "source": [
    "<h3>Exercises</h3>\n",
    "\n",
    "<p>In this exercise, you will analyze a dataset of human body temperatures and employ the concepts of hypothesis testing, confidence intervals, and statistical significance.</p>\n",
    "\n",
    "<p>Answer the following questions <b>in this notebook below and submit to your Github account</b>.</p> \n",
    "\n",
    "<ol>\n",
    "<li>  Is the distribution of body temperatures normal? \n",
    "    <ul>\n",
    "    <li> Although this is not a requirement for the Central Limit Theorem to hold (read the introduction on Wikipedia's page about the CLT carefully: https://en.wikipedia.org/wiki/Central_limit_theorem), it gives us some peace of mind that the population may also be normally distributed if we assume that this sample is representative of the population.\n",
    "    <li> Think about the way you're going to check for the normality of the distribution. Graphical methods are usually used first, but there are also other ways: https://en.wikipedia.org/wiki/Normality_test\n",
    "    </ul>\n",
    "<li>  Is the sample size large? Are the observations independent?\n",
    "    <ul>\n",
    "    <li> Remember that this is a condition for the Central Limit Theorem, and hence the statistical tests we are using, to apply.\n",
    "    </ul>\n",
    "<li>  Is the true population mean really 98.6 degrees F?\n",
    "    <ul>\n",
    "    <li> First, try a bootstrap hypothesis test.\n",
    "    <li> Now, let's try frequentist statistical testing. Would you use a one-sample or two-sample test? Why?\n",
    "    <li> In this situation, is it appropriate to use the $t$ or $z$ statistic? \n",
    "    <li> Now try using the other test. How is the result be different? Why?\n",
    "    </ul>\n",
    "<li>  Draw a small sample of size 10 from the data and repeat both frequentist tests. \n",
    "    <ul>\n",
    "    <li> Which one is the correct one to use? \n",
    "    <li> What do you notice? What does this tell you about the difference in application of the $t$ and $z$ statistic?\n",
    "    </ul>\n",
    "<li>  At what temperature should we consider someone's temperature to be \"abnormal\"?\n",
    "    <ul>\n",
    "    <li> As in the previous example, try calculating everything using the boostrap approach, as well as the frequentist approach.\n",
    "    <li> Start by computing the margin of error and confidence interval. When calculating the confidence interval, keep in mind that you should use the appropriate formula for one draw, and not N draws.\n",
    "    </ul>\n",
    "<li>  Is there a significant difference between males and females in normal temperature?\n",
    "    <ul>\n",
    "    <li> What testing approach did you use and why?\n",
    "    <li> Write a story with your conclusion in the context of the original problem.\n",
    "    </ul>\n",
    "</ol>\n",
    "\n",
    "You can include written notes in notebook cells using Markdown: \n",
    "   - In the control panel at the top, choose Cell > Cell Type > Markdown\n",
    "   - Markdown syntax: http://nestacms.com/docs/creating-content/markdown-cheat-sheet\n",
    "\n",
    "#### Resources\n",
    "\n",
    "+ Information and data sources: http://www.amstat.org/publications/jse/datasets/normtemp.txt, http://www.amstat.org/publications/jse/jse_data_archive.htm\n",
    "+ Markdown syntax: http://nestacms.com/docs/creating-content/markdown-cheat-sheet\n",
    "\n",
    "****"
   ]
  },
  {
   "cell_type": "code",
   "execution_count": 1,
   "metadata": {},
   "outputs": [],
   "source": [
    "import pandas as pd\n",
    "import matplotlib.pyplot as plt\n",
    "import numpy as np\n",
    "\n",
    "df = pd.read_csv('data/human_body_temperature.csv')"
   ]
  },
  {
   "cell_type": "code",
   "execution_count": 3,
   "metadata": {},
   "outputs": [
    {
     "data": {
      "text/html": [
       "<div>\n",
       "<style scoped>\n",
       "    .dataframe tbody tr th:only-of-type {\n",
       "        vertical-align: middle;\n",
       "    }\n",
       "\n",
       "    .dataframe tbody tr th {\n",
       "        vertical-align: top;\n",
       "    }\n",
       "\n",
       "    .dataframe thead th {\n",
       "        text-align: right;\n",
       "    }\n",
       "</style>\n",
       "<table border=\"1\" class=\"dataframe\">\n",
       "  <thead>\n",
       "    <tr style=\"text-align: right;\">\n",
       "      <th></th>\n",
       "      <th>temperature</th>\n",
       "      <th>gender</th>\n",
       "      <th>heart_rate</th>\n",
       "    </tr>\n",
       "  </thead>\n",
       "  <tbody>\n",
       "    <tr>\n",
       "      <th>0</th>\n",
       "      <td>99.3</td>\n",
       "      <td>F</td>\n",
       "      <td>68.0</td>\n",
       "    </tr>\n",
       "    <tr>\n",
       "      <th>1</th>\n",
       "      <td>98.4</td>\n",
       "      <td>F</td>\n",
       "      <td>81.0</td>\n",
       "    </tr>\n",
       "    <tr>\n",
       "      <th>2</th>\n",
       "      <td>97.8</td>\n",
       "      <td>M</td>\n",
       "      <td>73.0</td>\n",
       "    </tr>\n",
       "  </tbody>\n",
       "</table>\n",
       "</div>"
      ],
      "text/plain": [
       "   temperature gender  heart_rate\n",
       "0         99.3      F        68.0\n",
       "1         98.4      F        81.0\n",
       "2         97.8      M        73.0"
      ]
     },
     "execution_count": 3,
     "metadata": {},
     "output_type": "execute_result"
    }
   ],
   "source": [
    "df.head(3)"
   ]
  },
  {
   "cell_type": "code",
   "execution_count": 4,
   "metadata": {
    "scrolled": true
   },
   "outputs": [
    {
     "name": "stdout",
     "output_type": "stream",
     "text": [
      "<class 'pandas.core.frame.DataFrame'>\n",
      "RangeIndex: 130 entries, 0 to 129\n",
      "Data columns (total 3 columns):\n",
      "temperature    130 non-null float64\n",
      "gender         130 non-null object\n",
      "heart_rate     130 non-null float64\n",
      "dtypes: float64(2), object(1)\n",
      "memory usage: 3.1+ KB\n"
     ]
    }
   ],
   "source": [
    "df.info()"
   ]
  },
  {
   "cell_type": "code",
   "execution_count": 5,
   "metadata": {},
   "outputs": [],
   "source": [
    "# 1. Is the distribution of body temperatures normal? "
   ]
  },
  {
   "cell_type": "code",
   "execution_count": 36,
   "metadata": {},
   "outputs": [
    {
     "data": {
      "text/plain": [
       "Text(0, 0.5, 'frequency')"
      ]
     },
     "execution_count": 36,
     "metadata": {},
     "output_type": "execute_result"
    },
    {
     "data": {
      "image/png": "[encoded data removed]",
      "text/plain": [
       "<Figure size 432x288 with 1 Axes>"
      ]
     },
     "metadata": {
      "needs_background": "light"
     },
     "output_type": "display_data"
    }
   ],
   "source": [
    "# This distibution below appears to be approximately normal.\n",
    "\n",
    "plt.hist(df['temperature'],bins=20);\n",
    "plt.xlabel('body temperature')\n",
    "plt.ylabel('frequency')"
   ]
  },
  {
   "cell_type": "code",
   "execution_count": 7,
   "metadata": {},
   "outputs": [
    {
     "data": {
      "image/png": "[encoded data removed]",
      "text/plain": [
       "<Figure size 432x288 with 1 Axes>"
      ]
     },
     "metadata": {
      "needs_background": "light"
     },
     "output_type": "display_data"
    }
   ],
   "source": [
    "# qqplot to compare temperature data with normal distribution. The temperature data is close to being normally distributed.\n",
    "\n",
    "# The slope of the fitted line is less steep than y=x indicating that temperature distribution is less dispersed than a \n",
    "# normal distribution. \n",
    "\n",
    "import statsmodels.api as sm\n",
    "\n",
    "fig = sm.qqplot(df['temperature'],line='q')"
   ]
  },
  {
   "cell_type": "code",
   "execution_count": 8,
   "metadata": {},
   "outputs": [
    {
     "data": {
      "text/plain": [
       "NormaltestResult(statistic=2.703801433319203, pvalue=0.2587479863488254)"
      ]
     },
     "execution_count": 8,
     "metadata": {},
     "output_type": "execute_result"
    }
   ],
   "source": [
    "# Agostino's K-squared test\n",
    "\n",
    "# H0: the sample has a normal distribution.\n",
    "# HA: the sample does not have a normal distribution.\n",
    "\n",
    "# pvalue=0.25874. We do not reject the null hypothesis.\n",
    "\n",
    "import scipy \n",
    "\n",
    "scipy.stats.normaltest(df['temperature'])"
   ]
  },
  {
   "cell_type": "code",
   "execution_count": 10,
   "metadata": {
    "scrolled": true
   },
   "outputs": [
    {
     "data": {
      "text/plain": [
       "(0.5201038826714921, 0.18292460444352898)"
      ]
     },
     "execution_count": 10,
     "metadata": {},
     "output_type": "execute_result"
    }
   ],
   "source": [
    "# Anderson–Darling test\n",
    "\n",
    "# H0: the sample has a normal distribution.\n",
    "# HA: the sample does not have a normal distribution.\n",
    "\n",
    "# pvalue=0.18292. We do not reject the null hypothesis.\n",
    "\n",
    "import statsmodels\n",
    "\n",
    "statsmodels.stats.diagnostic.normal_ad(df['temperature'])"
   ]
  },
  {
   "cell_type": "code",
   "execution_count": 11,
   "metadata": {},
   "outputs": [
    {
     "data": {
      "text/plain": [
       "(0.9865769743919373, 0.2331680953502655)"
      ]
     },
     "execution_count": 11,
     "metadata": {},
     "output_type": "execute_result"
    }
   ],
   "source": [
    "# Shapiro-Wilk Test\n",
    "\n",
    "# H0: the sample has a normal distribution.\n",
    "# HA: the sample does not have a normal distribution.\n",
    "\n",
    "# pvalue=0.23316. We do not reject the null hypothesis.\n",
    "\n",
    "from scipy.stats import shapiro\n",
    "\n",
    "scipy.stats.shapiro(df['temperature'])"
   ]
  },
  {
   "cell_type": "code",
   "execution_count": 12,
   "metadata": {},
   "outputs": [],
   "source": [
    "# 2. Is the sample size large? Are the observations independent?"
   ]
  },
  {
   "cell_type": "code",
   "execution_count": null,
   "metadata": {},
   "outputs": [],
   "source": [
    "# The sample is considered large if the number of observations is greater than or equal to 30.\n",
    "# The temperature observations are independent if each observation was taken from a different person."
   ]
  },
  {
   "cell_type": "code",
   "execution_count": 13,
   "metadata": {},
   "outputs": [],
   "source": [
    "# 3. Is the true population mean really 98.6 degrees F? "
   ]
  },
  {
   "cell_type": "code",
   "execution_count": 28,
   "metadata": {},
   "outputs": [
    {
     "data": {
      "text/plain": [
       "98.24923076923078"
      ]
     },
     "execution_count": 28,
     "metadata": {},
     "output_type": "execute_result"
    }
   ],
   "source": [
    "# Sample Mean is lower than 98.6 degrees F.\n",
    "\n",
    "df['temperature'].mean()"
   ]
  },
  {
   "cell_type": "code",
   "execution_count": 29,
   "metadata": {},
   "outputs": [],
   "source": [
    "# First, try a bootstrap hypothesis test:"
   ]
  },
  {
   "cell_type": "code",
   "execution_count": 30,
   "metadata": {},
   "outputs": [
    {
     "name": "stdout",
     "output_type": "stream",
     "text": [
      "p =  0.0\n"
     ]
    }
   ],
   "source": [
    "# H0: mean temperature is equal to 98.6\n",
    "# HA: mean temperature is not equal to 98.6.\n",
    "\n",
    "# P = 0.0 therefore we reject the null hypothesis in favour of the alternative hypothesis.\n",
    "\n",
    "translated_temperature=df['temperature'] - np.mean(df['temperature']) + 98.6\n",
    "bs_replicates = np.empty(10000)\n",
    "\n",
    "for i in range(10000):\n",
    "        bs_replicates[i] = np.mean(np.random.choice(translated_temperature, size=len(df['temperature'])))\n",
    "    \n",
    "p = np.sum(bs_replicates <= np.mean(df['temperature']))/ 10000\n",
    "\n",
    "print('p = ', p)"
   ]
  },
  {
   "cell_type": "code",
   "execution_count": 31,
   "metadata": {},
   "outputs": [],
   "source": [
    "# Now, let's try frequentist statistical testing. Would you use a one-sample or two-sample test? Why? \n",
    "# In this situation, is it appropriate to use the 𝑡 or 𝑧 statistic? "
   ]
  },
  {
   "cell_type": "code",
   "execution_count": null,
   "metadata": {},
   "outputs": [],
   "source": [
    "# A one sample test was used because we have a data set which has a mean of 98.249 that we wish to compare to a mean of 98.6\n",
    "# which is claimed to be the population mean. However, we do not have the data used to calculate the mean of 98.6. Thus, we\n",
    "# do not have two samples to compare.\n",
    "\n",
    "# t-statistic is used in cases where the sample size is less than 30 or the population standard deviation is unknown.\n",
    "# z-statistic is used in cases where the sample size is above 30 and the population standard deviation is known.\n",
    "\n",
    "# In this situation, the t-statistic is used because the population standard deviation is unknown."
   ]
  },
  {
   "cell_type": "code",
   "execution_count": 32,
   "metadata": {},
   "outputs": [
    {
     "data": {
      "text/plain": [
       "Ttest_1sampResult(statistic=-5.4548232923645195, pvalue=2.4106320415561276e-07)"
      ]
     },
     "execution_count": 32,
     "metadata": {},
     "output_type": "execute_result"
    }
   ],
   "source": [
    "# t-test\n",
    "\n",
    "# H0: mean temperature is equal to 98.6\n",
    "# HA: mean temperature is not equal to 98.6.\n",
    "\n",
    "# pvalue=2.4106e-07 which is practically zero. We reject the null hypothesis in favour of the alternative hypothesis.\n",
    "\n",
    "scipy.stats.ttest_1samp(df['temperature'],98.6)"
   ]
  },
  {
   "cell_type": "code",
   "execution_count": 33,
   "metadata": {},
   "outputs": [],
   "source": [
    "# Now try using the other test. How is the result be different? Why?"
   ]
  },
  {
   "cell_type": "code",
   "execution_count": 34,
   "metadata": {},
   "outputs": [
    {
     "data": {
      "text/plain": [
       "(-5.4548232923645195, 4.9021570141012155e-08)"
      ]
     },
     "execution_count": 34,
     "metadata": {},
     "output_type": "execute_result"
    }
   ],
   "source": [
    "# z-test\n",
    "\n",
    "# H0: mean temperature is equal to 98.6\n",
    "# HA: mean temperature is not equal to 98.6.\n",
    "\n",
    "# pvalue=4.902e-08 which is practically zero.We reject the null hypothesis in favour of the alternative hypothesis.\n",
    "\n",
    "# The test statistic calculated is the same as the test statistic calculated by the t-test.\n",
    "\n",
    "statsmodels.stats.weightstats.ztest(x1=df['temperature'],x2=None,value=98.6, alternative='two-sided', usevar='pooled', ddof=1.0)\n"
   ]
  },
  {
   "cell_type": "code",
   "execution_count": 35,
   "metadata": {},
   "outputs": [
    {
     "name": "stdout",
     "output_type": "stream",
     "text": [
      "tensample_datapoints[99.  98.7 97.6 98.  98.9 98.2 99.4 97.3 97.8 98.6]\n",
      "tensample_samplemean 98.35\n",
      "Ttest_1sampResult(statistic=-1.1677484162422795, pvalue=0.2729122150940388)\n",
      "Ztest_result(-5.4548232923645195, 4.9021570141012155e-08)\n"
     ]
    }
   ],
   "source": [
    "# 4. Draw a small sample of size 10 from the data and repeat both frequentist tests. \n",
    "# Which one is the correct one to use? \n",
    "# what do you notice? What does this tell you about the difference in application of the 𝑡 and 𝑧 statistic? \n",
    "\n",
    "# H0: mean temperature is equal to 98.6\n",
    "# HA: mean temperature is not equal to 98.6.\n",
    "\n",
    "# The t and z test results do not agree. z-test has the exact same p-value as when it was performed for 130 observations and\n",
    "# tells us to reject the null hypothesis. The t-test has a p-value of 0.2729 which tells us not to reject the null hypothesis.\n",
    "# As per the output below, 5 of the 10 observations drawn are greater than or equal to 98.6 indicating that a mean of 98.6 is\n",
    "# possible. The sample size of ten is too small for a z-test to work properly.\n",
    "\n",
    "np.random.seed(4)\n",
    "tensample = np.random.choice(df['temperature'], size=10)\n",
    "tenmean=np.mean(tensample)\n",
    "ttest =scipy.stats.ttest_1samp(tensample,98.6)\n",
    "ztest=statsmodels.stats.weightstats.ztest(x1=df['temperature'],x2=None,value=98.6, alternative='two-sided', \\\n",
    "                                          usevar='pooled', ddof=1.0)\n",
    "\n",
    "print(\"tensample_datapoints{}\".format(tensample))\n",
    "print(\"tensample_samplemean {}\".format((tenmean)))\n",
    "print(ttest)\n",
    "print(\"Ztest_result{}\".format(ztest))"
   ]
  },
  {
   "cell_type": "code",
   "execution_count": null,
   "metadata": {},
   "outputs": [],
   "source": [
    "# 5. At what temperature should we consider someone's temperature to be \"abnormal\"? \n",
    "# As in the previous example, try calculating everything using the boostrap approach, as well as the frequentist approach. \n",
    "# Start by computing the margin of error and confidence interval. When calculating the confidence interval, keep in mind \n",
    "# that you should use the appropriate formula for one draw, and not N draws."
   ]
  },
  {
   "cell_type": "code",
   "execution_count": null,
   "metadata": {},
   "outputs": [],
   "source": [
    "# As per the reuslts below, abnormal body temperature would be above 98.37 and below 98.12 if using 95% confidence interval."
   ]
  },
  {
   "cell_type": "code",
   "execution_count": 127,
   "metadata": {},
   "outputs": [
    {
     "name": "stdout",
     "output_type": "stream",
     "text": [
      "98.24923076923078\n"
     ]
    }
   ],
   "source": [
    "# Frequentist Approach - Mean calculation\n",
    "\n",
    "mean=df['temperature'].mean()"
   ]
  },
  {
   "cell_type": "code",
   "execution_count": 126,
   "metadata": {},
   "outputs": [
    {
     "name": "stdout",
     "output_type": "stream",
     "text": [
      "0.06405661469519336\n"
     ]
    }
   ],
   "source": [
    "# Frequentist Approach - Standard Error of Mean Calculation.\n",
    "\n",
    "sem = np.std(df['temperature']) / np.sqrt(len(df['temperature']))\n",
    "print(sem)"
   ]
  },
  {
   "cell_type": "code",
   "execution_count": 144,
   "metadata": {},
   "outputs": [
    {
     "name": "stdout",
     "output_type": "stream",
     "text": [
      "98.37606286632726\n",
      "98.1223986721343\n"
     ]
    }
   ],
   "source": [
    "# Frequentist Approach - 95% Confidence Interval Calculation.\n",
    "\n",
    "print(98.24923076923078+sem*1.98)\n",
    "print(98.24923076923078-sem*1.98)"
   ]
  },
  {
   "cell_type": "code",
   "execution_count": 37,
   "metadata": {
    "scrolled": true
   },
   "outputs": [
    {
     "name": "stdout",
     "output_type": "stream",
     "text": [
      "98.24931633846154\n",
      "0.06431072446689623\n",
      "[98.12307692 98.37461538]\n"
     ]
    },
    {
     "data": {
      "image/png": "[encoded data removed]",
      "text/plain": [
       "<Figure size 432x288 with 1 Axes>"
      ]
     },
     "metadata": {
      "needs_background": "light"
     },
     "output_type": "display_data"
    }
   ],
   "source": [
    "# Bootstrapped Mean, SEM and Confidence Interval\n",
    "\n",
    "bs_replicates = np.empty(100000)\n",
    "\n",
    "for i in range(100000):\n",
    "        bs_replicates[i] = np.mean(np.random.choice(df['temperature'], size=len(df['temperature'])))\n",
    "\n",
    "bs_mean=bs_replicates.mean()        \n",
    "print(bs_mean)\n",
    "\n",
    "bs_std = np.std(bs_replicates)\n",
    "print(bs_std)\n",
    "\n",
    "bs_con=np.percentile(bs_replicates,[2.5,97.5])\n",
    "print(bs_con)\n",
    "\n",
    "_ = plt.hist(bs_replicates, bins=50, density=True)\n",
    "_ = plt.xlabel('body temperature')\n",
    "_ = plt.ylabel('PDF')\n",
    "\n",
    "plt.show()"
   ]
  },
  {
   "cell_type": "code",
   "execution_count": null,
   "metadata": {},
   "outputs": [],
   "source": [
    "# 6. Is there a significant difference between males and females in normal temperature? \n",
    "# What testing approach did you use and why? \n",
    "# Write a story with your conclusion in the context of the original problem."
   ]
  },
  {
   "cell_type": "code",
   "execution_count": null,
   "metadata": {},
   "outputs": [],
   "source": [
    "# I used a difference of means bootstrapping test to determine if there was a significant difference in male and female\n",
    "# body temperature. Test results indciated that I reject the null hypothesis in favour of the alternative hypothesis.\n",
    "\n",
    "# 0: difference of means equals 0.\n",
    "# HA: difference of means does not equal 0."
   ]
  },
  {
   "cell_type": "code",
   "execution_count": 2,
   "metadata": {},
   "outputs": [
    {
     "name": "stdout",
     "output_type": "stream",
     "text": [
      "65\n",
      "65\n"
     ]
    }
   ],
   "source": [
    "# Split the data set into male and female and perform count to show that the data was 50% male and 50% female.\n",
    "\n",
    "M = df[df['gender']=='M']['temperature']\n",
    "F = df[df['gender']=='F']['temperature']\n",
    "print(M.count())\n",
    "print(F.count())"
   ]
  },
  {
   "cell_type": "code",
   "execution_count": 4,
   "metadata": {},
   "outputs": [
    {
     "name": "stdout",
     "output_type": "stream",
     "text": [
      "p-value = 0.01101\n"
     ]
    }
   ],
   "source": [
    "# Two Sample Bootstrap test for difference of means.\n",
    "\n",
    "# H0: difference of means equals 0.\n",
    "# HA: difference of means does not equal 0.\n",
    "\n",
    "# p-value = 0.01. Therefore, we reject the null hypothesis in favour of the alternative hypothesis.\n",
    "\n",
    "Mshifted= M - np.mean(M) + df['temperature'].mean()\n",
    "Fshifted= F - np.mean(F) + df['temperature'].mean()\n",
    "\n",
    "n=100000\n",
    "\n",
    "bs_rep_M = np.empty(n) \n",
    "bs_rep_F = np.empty(n) \n",
    "\n",
    "for i in range(n):\n",
    "        bs_rep_M[i] = np.mean(np.random.choice(Mshifted, size=65))\n",
    "        bs_rep_F[i] = np.mean(np.random.choice(Fshifted, size=65))\n",
    "\n",
    "bs_rep = bs_rep_F - bs_rep_M\n",
    "                              \n",
    "p = np.sum(bs_rep >= (F.mean()-M.mean())) / n\n",
    "print('p-value =', p)"
   ]
  },
  {
   "cell_type": "code",
   "execution_count": 41,
   "metadata": {},
   "outputs": [
    {
     "data": {
      "text/plain": [
       "Ttest_indResult(statistic=-2.2854345381656103, pvalue=0.02393188312239561)"
      ]
     },
     "execution_count": 41,
     "metadata": {},
     "output_type": "execute_result"
    }
   ],
   "source": [
    "# Frequntist test confirms the result.\n",
    "\n",
    "# H0: difference of means equals 0.\n",
    "# HA: difference of means does not equal 0.\n",
    "\n",
    "# p-value = 0.02. Therefore, we reject the null hypothesis in favour of the alternative hypothesis.\n",
    "\n",
    "scipy.stats.ttest_ind(M,F)"
   ]
  }
 ],
 "metadata": {
  "kernelspec": {
   "display_name": "Python 3",
   "language": "python",
   "name": "python3"
  },
  "language_info": {
   "codemirror_mode": {
    "name": "ipython",
    "version": 3
   },
   "file_extension": ".py",
   "mimetype": "text/x-python",
   "name": "python",
   "nbconvert_exporter": "python",
   "pygments_lexer": "ipython3",
   "version": "3.7.3"
  }
 },
 "nbformat": 4,
 "nbformat_minor": 1
}
